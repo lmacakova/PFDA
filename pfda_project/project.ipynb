{
 "cells": [
  {
   "cell_type": "markdown",
   "metadata": {},
   "source": [
    "# Project"
   ]
  },
  {
   "cell_type": "markdown",
   "metadata": {},
   "source": [
    "### Import Modules"
   ]
  },
  {
   "cell_type": "code",
   "execution_count": 44,
   "metadata": {},
   "outputs": [],
   "source": [
    "import tensorflow as tf\n",
    "import numpy as np\n",
    "import pandas as pd\n",
    "import seaborn as sns\n",
    "import matplotlib.pyplot as plt\n",
    "import matplotlib.dates as mdates\n",
    "from sklearn.model_selection import train_test_split\n",
    "from sklearn.preprocessing import StandardScaler"
   ]
  },
  {
   "cell_type": "markdown",
   "metadata": {},
   "source": [
    "### Loading Datasets"
   ]
  },
  {
   "cell_type": "code",
   "execution_count": 45,
   "metadata": {},
   "outputs": [],
   "source": [
    "FILENAME= \"calendar.csv\"\n",
    "DATADIR = \"../pfda_project/\"\n",
    "\n",
    "calendar_df = pd.read_csv(DATADIR + FILENAME, header=0)"
   ]
  },
  {
   "cell_type": "code",
   "execution_count": 46,
   "metadata": {},
   "outputs": [],
   "source": [
    "FILENAME= \"inventory.csv\"\n",
    "DATADIR = \"../pfda_project/\"\n",
    "\n",
    "inventory_df = pd.read_csv(DATADIR + FILENAME, header=0)"
   ]
  },
  {
   "cell_type": "code",
   "execution_count": 47,
   "metadata": {},
   "outputs": [],
   "source": [
    "FILENAME= \"sales_test.csv\"\n",
    "DATADIR = \"../pfda_project/\"\n",
    "\n",
    "sales_test_df = pd.read_csv(DATADIR + FILENAME, header=0)"
   ]
  },
  {
   "cell_type": "code",
   "execution_count": 48,
   "metadata": {},
   "outputs": [],
   "source": [
    "FILENAME= \"sales_train.csv\"\n",
    "DATADIR = \"../pfda_project/\"\n",
    "\n",
    "sales_train_df = pd.read_csv(DATADIR + FILENAME, low_memory=False)"
   ]
  },
  {
   "cell_type": "code",
   "execution_count": 49,
   "metadata": {},
   "outputs": [],
   "source": [
    "FILENAME= \"solution.csv\"\n",
    "DATADIR = \"../pfda_project/\"\n",
    "\n",
    "solution_df = pd.read_csv(DATADIR + FILENAME)"
   ]
  },
  {
   "cell_type": "code",
   "execution_count": 50,
   "metadata": {},
   "outputs": [],
   "source": [
    "FILENAME= \"test_weights.csv\"\n",
    "DATADIR = \"../pfda_project/\"\n",
    "\n",
    "test_weights_df = pd.read_csv(DATADIR + FILENAME)"
   ]
  },
  {
   "cell_type": "markdown",
   "metadata": {},
   "source": [
    "### Information about datasets"
   ]
  },
  {
   "cell_type": "markdown",
   "metadata": {},
   "source": [
    "##### calendar_df"
   ]
  },
  {
   "cell_type": "code",
   "execution_count": 51,
   "metadata": {},
   "outputs": [
    {
     "data": {
      "text/html": [
       "<div>\n",
       "<style scoped>\n",
       "    .dataframe tbody tr th:only-of-type {\n",
       "        vertical-align: middle;\n",
       "    }\n",
       "\n",
       "    .dataframe tbody tr th {\n",
       "        vertical-align: top;\n",
       "    }\n",
       "\n",
       "    .dataframe thead th {\n",
       "        text-align: right;\n",
       "    }\n",
       "</style>\n",
       "<table border=\"1\" class=\"dataframe\">\n",
       "  <thead>\n",
       "    <tr style=\"text-align: right;\">\n",
       "      <th></th>\n",
       "      <th>date</th>\n",
       "      <th>holiday_name</th>\n",
       "      <th>holiday</th>\n",
       "      <th>shops_closed</th>\n",
       "      <th>winter_school_holidays</th>\n",
       "      <th>school_holidays</th>\n",
       "      <th>warehouse</th>\n",
       "    </tr>\n",
       "  </thead>\n",
       "  <tbody>\n",
       "    <tr>\n",
       "      <th>0</th>\n",
       "      <td>2022-03-16</td>\n",
       "      <td>NaN</td>\n",
       "      <td>0</td>\n",
       "      <td>0</td>\n",
       "      <td>0</td>\n",
       "      <td>0</td>\n",
       "      <td>Frankfurt_1</td>\n",
       "    </tr>\n",
       "    <tr>\n",
       "      <th>1</th>\n",
       "      <td>2020-03-22</td>\n",
       "      <td>NaN</td>\n",
       "      <td>0</td>\n",
       "      <td>0</td>\n",
       "      <td>0</td>\n",
       "      <td>0</td>\n",
       "      <td>Frankfurt_1</td>\n",
       "    </tr>\n",
       "    <tr>\n",
       "      <th>2</th>\n",
       "      <td>2018-02-07</td>\n",
       "      <td>NaN</td>\n",
       "      <td>0</td>\n",
       "      <td>0</td>\n",
       "      <td>0</td>\n",
       "      <td>0</td>\n",
       "      <td>Frankfurt_1</td>\n",
       "    </tr>\n",
       "    <tr>\n",
       "      <th>3</th>\n",
       "      <td>2018-08-10</td>\n",
       "      <td>NaN</td>\n",
       "      <td>0</td>\n",
       "      <td>0</td>\n",
       "      <td>0</td>\n",
       "      <td>0</td>\n",
       "      <td>Frankfurt_1</td>\n",
       "    </tr>\n",
       "    <tr>\n",
       "      <th>4</th>\n",
       "      <td>2017-10-26</td>\n",
       "      <td>NaN</td>\n",
       "      <td>0</td>\n",
       "      <td>0</td>\n",
       "      <td>0</td>\n",
       "      <td>0</td>\n",
       "      <td>Prague_2</td>\n",
       "    </tr>\n",
       "  </tbody>\n",
       "</table>\n",
       "</div>"
      ],
      "text/plain": [
       "         date holiday_name  holiday  shops_closed  winter_school_holidays  \\\n",
       "0  2022-03-16          NaN        0             0                       0   \n",
       "1  2020-03-22          NaN        0             0                       0   \n",
       "2  2018-02-07          NaN        0             0                       0   \n",
       "3  2018-08-10          NaN        0             0                       0   \n",
       "4  2017-10-26          NaN        0             0                       0   \n",
       "\n",
       "   school_holidays    warehouse  \n",
       "0                0  Frankfurt_1  \n",
       "1                0  Frankfurt_1  \n",
       "2                0  Frankfurt_1  \n",
       "3                0  Frankfurt_1  \n",
       "4                0     Prague_2  "
      ]
     },
     "execution_count": 51,
     "metadata": {},
     "output_type": "execute_result"
    }
   ],
   "source": [
    "calendar_df.head()"
   ]
  },
  {
   "cell_type": "code",
   "execution_count": 52,
   "metadata": {},
   "outputs": [
    {
     "name": "stdout",
     "output_type": "stream",
     "text": [
      "<class 'pandas.core.frame.DataFrame'>\n",
      "RangeIndex: 23016 entries, 0 to 23015\n",
      "Data columns (total 7 columns):\n",
      " #   Column                  Non-Null Count  Dtype \n",
      "---  ------                  --------------  ----- \n",
      " 0   date                    23016 non-null  object\n",
      " 1   holiday_name            930 non-null    object\n",
      " 2   holiday                 23016 non-null  int64 \n",
      " 3   shops_closed            23016 non-null  int64 \n",
      " 4   winter_school_holidays  23016 non-null  int64 \n",
      " 5   school_holidays         23016 non-null  int64 \n",
      " 6   warehouse               23016 non-null  object\n",
      "dtypes: int64(4), object(3)\n",
      "memory usage: 1.2+ MB\n"
     ]
    }
   ],
   "source": [
    "calendar_df.info()"
   ]
  },
  {
   "cell_type": "markdown",
   "metadata": {},
   "source": [
    "The earliest date in dataset"
   ]
  },
  {
   "cell_type": "code",
   "execution_count": 53,
   "metadata": {},
   "outputs": [
    {
     "data": {
      "text/plain": [
       "'2016-01-01'"
      ]
     },
     "execution_count": 53,
     "metadata": {},
     "output_type": "execute_result"
    }
   ],
   "source": [
    "calendar_df.date.min()"
   ]
  },
  {
   "cell_type": "markdown",
   "metadata": {},
   "source": [
    "The latest date in dataset"
   ]
  },
  {
   "cell_type": "code",
   "execution_count": 54,
   "metadata": {},
   "outputs": [
    {
     "data": {
      "text/plain": [
       "'2024-12-31'"
      ]
     },
     "execution_count": 54,
     "metadata": {},
     "output_type": "execute_result"
    }
   ],
   "source": [
    "calendar_df.date.max()"
   ]
  },
  {
   "cell_type": "markdown",
   "metadata": {},
   "source": [
    "##### inventory_df"
   ]
  },
  {
   "cell_type": "code",
   "execution_count": 55,
   "metadata": {},
   "outputs": [
    {
     "data": {
      "text/html": [
       "<div>\n",
       "<style scoped>\n",
       "    .dataframe tbody tr th:only-of-type {\n",
       "        vertical-align: middle;\n",
       "    }\n",
       "\n",
       "    .dataframe tbody tr th {\n",
       "        vertical-align: top;\n",
       "    }\n",
       "\n",
       "    .dataframe thead th {\n",
       "        text-align: right;\n",
       "    }\n",
       "</style>\n",
       "<table border=\"1\" class=\"dataframe\">\n",
       "  <thead>\n",
       "    <tr style=\"text-align: right;\">\n",
       "      <th></th>\n",
       "      <th>unique_id</th>\n",
       "      <th>product_unique_id</th>\n",
       "      <th>name</th>\n",
       "      <th>L1_category_name_en</th>\n",
       "      <th>L2_category_name_en</th>\n",
       "      <th>L3_category_name_en</th>\n",
       "      <th>L4_category_name_en</th>\n",
       "      <th>warehouse</th>\n",
       "    </tr>\n",
       "  </thead>\n",
       "  <tbody>\n",
       "    <tr>\n",
       "      <th>0</th>\n",
       "      <td>5255</td>\n",
       "      <td>2583</td>\n",
       "      <td>Pastry_196</td>\n",
       "      <td>Bakery</td>\n",
       "      <td>Bakery_L2_14</td>\n",
       "      <td>Bakery_L3_26</td>\n",
       "      <td>Bakery_L4_1</td>\n",
       "      <td>Prague_3</td>\n",
       "    </tr>\n",
       "    <tr>\n",
       "      <th>1</th>\n",
       "      <td>4948</td>\n",
       "      <td>2426</td>\n",
       "      <td>Herb_19</td>\n",
       "      <td>Fruit and vegetable</td>\n",
       "      <td>Fruit and vegetable_L2_30</td>\n",
       "      <td>Fruit and vegetable_L3_86</td>\n",
       "      <td>Fruit and vegetable_L4_1</td>\n",
       "      <td>Prague_3</td>\n",
       "    </tr>\n",
       "    <tr>\n",
       "      <th>2</th>\n",
       "      <td>2146</td>\n",
       "      <td>1079</td>\n",
       "      <td>Beet_2</td>\n",
       "      <td>Fruit and vegetable</td>\n",
       "      <td>Fruit and vegetable_L2_3</td>\n",
       "      <td>Fruit and vegetable_L3_65</td>\n",
       "      <td>Fruit and vegetable_L4_34</td>\n",
       "      <td>Prague_1</td>\n",
       "    </tr>\n",
       "    <tr>\n",
       "      <th>3</th>\n",
       "      <td>501</td>\n",
       "      <td>260</td>\n",
       "      <td>Chicken_13</td>\n",
       "      <td>Meat and fish</td>\n",
       "      <td>Meat and fish_L2_13</td>\n",
       "      <td>Meat and fish_L3_27</td>\n",
       "      <td>Meat and fish_L4_5</td>\n",
       "      <td>Prague_1</td>\n",
       "    </tr>\n",
       "    <tr>\n",
       "      <th>4</th>\n",
       "      <td>4461</td>\n",
       "      <td>2197</td>\n",
       "      <td>Chicory_1</td>\n",
       "      <td>Fruit and vegetable</td>\n",
       "      <td>Fruit and vegetable_L2_17</td>\n",
       "      <td>Fruit and vegetable_L3_33</td>\n",
       "      <td>Fruit and vegetable_L4_1</td>\n",
       "      <td>Frankfurt_1</td>\n",
       "    </tr>\n",
       "  </tbody>\n",
       "</table>\n",
       "</div>"
      ],
      "text/plain": [
       "   unique_id  product_unique_id        name  L1_category_name_en  \\\n",
       "0       5255               2583  Pastry_196               Bakery   \n",
       "1       4948               2426     Herb_19  Fruit and vegetable   \n",
       "2       2146               1079      Beet_2  Fruit and vegetable   \n",
       "3        501                260  Chicken_13        Meat and fish   \n",
       "4       4461               2197   Chicory_1  Fruit and vegetable   \n",
       "\n",
       "         L2_category_name_en        L3_category_name_en  \\\n",
       "0               Bakery_L2_14               Bakery_L3_26   \n",
       "1  Fruit and vegetable_L2_30  Fruit and vegetable_L3_86   \n",
       "2   Fruit and vegetable_L2_3  Fruit and vegetable_L3_65   \n",
       "3        Meat and fish_L2_13        Meat and fish_L3_27   \n",
       "4  Fruit and vegetable_L2_17  Fruit and vegetable_L3_33   \n",
       "\n",
       "         L4_category_name_en    warehouse  \n",
       "0                Bakery_L4_1     Prague_3  \n",
       "1   Fruit and vegetable_L4_1     Prague_3  \n",
       "2  Fruit and vegetable_L4_34     Prague_1  \n",
       "3         Meat and fish_L4_5     Prague_1  \n",
       "4   Fruit and vegetable_L4_1  Frankfurt_1  "
      ]
     },
     "execution_count": 55,
     "metadata": {},
     "output_type": "execute_result"
    }
   ],
   "source": [
    "inventory_df.head()"
   ]
  },
  {
   "cell_type": "code",
   "execution_count": 56,
   "metadata": {},
   "outputs": [
    {
     "name": "stdout",
     "output_type": "stream",
     "text": [
      "<class 'pandas.core.frame.DataFrame'>\n",
      "RangeIndex: 5432 entries, 0 to 5431\n",
      "Data columns (total 8 columns):\n",
      " #   Column               Non-Null Count  Dtype \n",
      "---  ------               --------------  ----- \n",
      " 0   unique_id            5432 non-null   int64 \n",
      " 1   product_unique_id    5432 non-null   int64 \n",
      " 2   name                 5432 non-null   object\n",
      " 3   L1_category_name_en  5432 non-null   object\n",
      " 4   L2_category_name_en  5432 non-null   object\n",
      " 5   L3_category_name_en  5432 non-null   object\n",
      " 6   L4_category_name_en  5432 non-null   object\n",
      " 7   warehouse            5432 non-null   object\n",
      "dtypes: int64(2), object(6)\n",
      "memory usage: 339.6+ KB\n"
     ]
    }
   ],
   "source": [
    "inventory_df.info()"
   ]
  },
  {
   "cell_type": "markdown",
   "metadata": {},
   "source": [
    "#### sales_test_df"
   ]
  },
  {
   "cell_type": "code",
   "execution_count": 57,
   "metadata": {},
   "outputs": [
    {
     "data": {
      "text/html": [
       "<div>\n",
       "<style scoped>\n",
       "    .dataframe tbody tr th:only-of-type {\n",
       "        vertical-align: middle;\n",
       "    }\n",
       "\n",
       "    .dataframe tbody tr th {\n",
       "        vertical-align: top;\n",
       "    }\n",
       "\n",
       "    .dataframe thead th {\n",
       "        text-align: right;\n",
       "    }\n",
       "</style>\n",
       "<table border=\"1\" class=\"dataframe\">\n",
       "  <thead>\n",
       "    <tr style=\"text-align: right;\">\n",
       "      <th></th>\n",
       "      <th>unique_id</th>\n",
       "      <th>date</th>\n",
       "      <th>warehouse</th>\n",
       "      <th>total_orders</th>\n",
       "      <th>sales</th>\n",
       "      <th>sell_price_main</th>\n",
       "      <th>availability</th>\n",
       "      <th>type_0_discount</th>\n",
       "      <th>type_1_discount</th>\n",
       "      <th>type_2_discount</th>\n",
       "      <th>type_3_discount</th>\n",
       "      <th>type_4_discount</th>\n",
       "      <th>type_5_discount</th>\n",
       "      <th>type_6_discount</th>\n",
       "    </tr>\n",
       "  </thead>\n",
       "  <tbody>\n",
       "    <tr>\n",
       "      <th>0</th>\n",
       "      <td>4845</td>\n",
       "      <td>2024-03-10</td>\n",
       "      <td>Budapest_1</td>\n",
       "      <td>6436.0</td>\n",
       "      <td>16.34</td>\n",
       "      <td>646.26</td>\n",
       "      <td>1.00</td>\n",
       "      <td>0.00000</td>\n",
       "      <td>0.0</td>\n",
       "      <td>0.0</td>\n",
       "      <td>0.0</td>\n",
       "      <td>0.15312</td>\n",
       "      <td>0.0</td>\n",
       "      <td>0.0</td>\n",
       "    </tr>\n",
       "    <tr>\n",
       "      <th>1</th>\n",
       "      <td>4845</td>\n",
       "      <td>2021-05-25</td>\n",
       "      <td>Budapest_1</td>\n",
       "      <td>4663.0</td>\n",
       "      <td>12.63</td>\n",
       "      <td>455.96</td>\n",
       "      <td>1.00</td>\n",
       "      <td>0.00000</td>\n",
       "      <td>0.0</td>\n",
       "      <td>0.0</td>\n",
       "      <td>0.0</td>\n",
       "      <td>0.15025</td>\n",
       "      <td>0.0</td>\n",
       "      <td>0.0</td>\n",
       "    </tr>\n",
       "    <tr>\n",
       "      <th>2</th>\n",
       "      <td>4845</td>\n",
       "      <td>2021-12-20</td>\n",
       "      <td>Budapest_1</td>\n",
       "      <td>6507.0</td>\n",
       "      <td>34.55</td>\n",
       "      <td>455.96</td>\n",
       "      <td>1.00</td>\n",
       "      <td>0.00000</td>\n",
       "      <td>0.0</td>\n",
       "      <td>0.0</td>\n",
       "      <td>0.0</td>\n",
       "      <td>0.15025</td>\n",
       "      <td>0.0</td>\n",
       "      <td>0.0</td>\n",
       "    </tr>\n",
       "    <tr>\n",
       "      <th>3</th>\n",
       "      <td>4845</td>\n",
       "      <td>2023-04-29</td>\n",
       "      <td>Budapest_1</td>\n",
       "      <td>5463.0</td>\n",
       "      <td>34.52</td>\n",
       "      <td>646.26</td>\n",
       "      <td>0.96</td>\n",
       "      <td>0.20024</td>\n",
       "      <td>0.0</td>\n",
       "      <td>0.0</td>\n",
       "      <td>0.0</td>\n",
       "      <td>0.15312</td>\n",
       "      <td>0.0</td>\n",
       "      <td>0.0</td>\n",
       "    </tr>\n",
       "    <tr>\n",
       "      <th>4</th>\n",
       "      <td>4845</td>\n",
       "      <td>2022-04-01</td>\n",
       "      <td>Budapest_1</td>\n",
       "      <td>5997.0</td>\n",
       "      <td>35.92</td>\n",
       "      <td>486.41</td>\n",
       "      <td>1.00</td>\n",
       "      <td>0.00000</td>\n",
       "      <td>0.0</td>\n",
       "      <td>0.0</td>\n",
       "      <td>0.0</td>\n",
       "      <td>0.15649</td>\n",
       "      <td>0.0</td>\n",
       "      <td>0.0</td>\n",
       "    </tr>\n",
       "  </tbody>\n",
       "</table>\n",
       "</div>"
      ],
      "text/plain": [
       "   unique_id        date   warehouse  total_orders  sales  sell_price_main  \\\n",
       "0       4845  2024-03-10  Budapest_1        6436.0  16.34           646.26   \n",
       "1       4845  2021-05-25  Budapest_1        4663.0  12.63           455.96   \n",
       "2       4845  2021-12-20  Budapest_1        6507.0  34.55           455.96   \n",
       "3       4845  2023-04-29  Budapest_1        5463.0  34.52           646.26   \n",
       "4       4845  2022-04-01  Budapest_1        5997.0  35.92           486.41   \n",
       "\n",
       "   availability  type_0_discount  type_1_discount  type_2_discount  \\\n",
       "0          1.00          0.00000              0.0              0.0   \n",
       "1          1.00          0.00000              0.0              0.0   \n",
       "2          1.00          0.00000              0.0              0.0   \n",
       "3          0.96          0.20024              0.0              0.0   \n",
       "4          1.00          0.00000              0.0              0.0   \n",
       "\n",
       "   type_3_discount  type_4_discount  type_5_discount  type_6_discount  \n",
       "0              0.0          0.15312              0.0              0.0  \n",
       "1              0.0          0.15025              0.0              0.0  \n",
       "2              0.0          0.15025              0.0              0.0  \n",
       "3              0.0          0.15312              0.0              0.0  \n",
       "4              0.0          0.15649              0.0              0.0  "
      ]
     },
     "execution_count": 57,
     "metadata": {},
     "output_type": "execute_result"
    }
   ],
   "source": [
    "sales_train_df.head()"
   ]
  },
  {
   "cell_type": "code",
   "execution_count": 58,
   "metadata": {},
   "outputs": [
    {
     "name": "stdout",
     "output_type": "stream",
     "text": [
      "<class 'pandas.core.frame.DataFrame'>\n",
      "RangeIndex: 1048575 entries, 0 to 1048574\n",
      "Data columns (total 14 columns):\n",
      " #   Column           Non-Null Count    Dtype  \n",
      "---  ------           --------------    -----  \n",
      " 0   unique_id        1048575 non-null  int64  \n",
      " 1   date             1048575 non-null  object \n",
      " 2   warehouse        1048575 non-null  object \n",
      " 3   total_orders     1048556 non-null  float64\n",
      " 4   sales            1048556 non-null  float64\n",
      " 5   sell_price_main  1048575 non-null  float64\n",
      " 6   availability     1048575 non-null  float64\n",
      " 7   type_0_discount  1048575 non-null  float64\n",
      " 8   type_1_discount  1048575 non-null  float64\n",
      " 9   type_2_discount  1048575 non-null  float64\n",
      " 10  type_3_discount  1048575 non-null  float64\n",
      " 11  type_4_discount  1048575 non-null  float64\n",
      " 12  type_5_discount  1048575 non-null  float64\n",
      " 13  type_6_discount  1048575 non-null  float64\n",
      "dtypes: float64(11), int64(1), object(2)\n",
      "memory usage: 112.0+ MB\n"
     ]
    }
   ],
   "source": [
    "sales_train_df.info()"
   ]
  },
  {
   "cell_type": "markdown",
   "metadata": {},
   "source": [
    "The earliest date in dataset"
   ]
  },
  {
   "cell_type": "code",
   "execution_count": 59,
   "metadata": {},
   "outputs": [
    {
     "data": {
      "text/plain": [
       "'2020-08-01'"
      ]
     },
     "execution_count": 59,
     "metadata": {},
     "output_type": "execute_result"
    }
   ],
   "source": [
    "sales_train_df.date.min()"
   ]
  },
  {
   "cell_type": "markdown",
   "metadata": {},
   "source": [
    "The latest date in dataset"
   ]
  },
  {
   "cell_type": "code",
   "execution_count": 60,
   "metadata": {},
   "outputs": [
    {
     "data": {
      "text/plain": [
       "'2024-06-02'"
      ]
     },
     "execution_count": 60,
     "metadata": {},
     "output_type": "execute_result"
    }
   ],
   "source": [
    "sales_train_df.date.max()"
   ]
  },
  {
   "cell_type": "markdown",
   "metadata": {},
   "source": [
    "#### sales_test_df"
   ]
  },
  {
   "cell_type": "code",
   "execution_count": 61,
   "metadata": {},
   "outputs": [
    {
     "data": {
      "text/html": [
       "<div>\n",
       "<style scoped>\n",
       "    .dataframe tbody tr th:only-of-type {\n",
       "        vertical-align: middle;\n",
       "    }\n",
       "\n",
       "    .dataframe tbody tr th {\n",
       "        vertical-align: top;\n",
       "    }\n",
       "\n",
       "    .dataframe thead th {\n",
       "        text-align: right;\n",
       "    }\n",
       "</style>\n",
       "<table border=\"1\" class=\"dataframe\">\n",
       "  <thead>\n",
       "    <tr style=\"text-align: right;\">\n",
       "      <th></th>\n",
       "      <th>unique_id</th>\n",
       "      <th>date</th>\n",
       "      <th>warehouse</th>\n",
       "      <th>total_orders</th>\n",
       "      <th>sell_price_main</th>\n",
       "      <th>type_0_discount</th>\n",
       "      <th>type_1_discount</th>\n",
       "      <th>type_2_discount</th>\n",
       "      <th>type_3_discount</th>\n",
       "      <th>type_4_discount</th>\n",
       "      <th>type_5_discount</th>\n",
       "      <th>type_6_discount</th>\n",
       "    </tr>\n",
       "  </thead>\n",
       "  <tbody>\n",
       "    <tr>\n",
       "      <th>0</th>\n",
       "      <td>1226</td>\n",
       "      <td>2024-06-03</td>\n",
       "      <td>Brno_1</td>\n",
       "      <td>8679.0</td>\n",
       "      <td>13.13</td>\n",
       "      <td>0.00000</td>\n",
       "      <td>0.0</td>\n",
       "      <td>0.0</td>\n",
       "      <td>0.0</td>\n",
       "      <td>0.0</td>\n",
       "      <td>0.0</td>\n",
       "      <td>0.0</td>\n",
       "    </tr>\n",
       "    <tr>\n",
       "      <th>1</th>\n",
       "      <td>1226</td>\n",
       "      <td>2024-06-11</td>\n",
       "      <td>Brno_1</td>\n",
       "      <td>8795.0</td>\n",
       "      <td>13.13</td>\n",
       "      <td>0.15873</td>\n",
       "      <td>0.0</td>\n",
       "      <td>0.0</td>\n",
       "      <td>0.0</td>\n",
       "      <td>0.0</td>\n",
       "      <td>0.0</td>\n",
       "      <td>0.0</td>\n",
       "    </tr>\n",
       "    <tr>\n",
       "      <th>2</th>\n",
       "      <td>1226</td>\n",
       "      <td>2024-06-13</td>\n",
       "      <td>Brno_1</td>\n",
       "      <td>10009.0</td>\n",
       "      <td>13.13</td>\n",
       "      <td>0.15873</td>\n",
       "      <td>0.0</td>\n",
       "      <td>0.0</td>\n",
       "      <td>0.0</td>\n",
       "      <td>0.0</td>\n",
       "      <td>0.0</td>\n",
       "      <td>0.0</td>\n",
       "    </tr>\n",
       "    <tr>\n",
       "      <th>3</th>\n",
       "      <td>1226</td>\n",
       "      <td>2024-06-15</td>\n",
       "      <td>Brno_1</td>\n",
       "      <td>8482.0</td>\n",
       "      <td>13.13</td>\n",
       "      <td>0.15873</td>\n",
       "      <td>0.0</td>\n",
       "      <td>0.0</td>\n",
       "      <td>0.0</td>\n",
       "      <td>0.0</td>\n",
       "      <td>0.0</td>\n",
       "      <td>0.0</td>\n",
       "    </tr>\n",
       "    <tr>\n",
       "      <th>4</th>\n",
       "      <td>1226</td>\n",
       "      <td>2024-06-09</td>\n",
       "      <td>Brno_1</td>\n",
       "      <td>8195.0</td>\n",
       "      <td>13.13</td>\n",
       "      <td>0.00000</td>\n",
       "      <td>0.0</td>\n",
       "      <td>0.0</td>\n",
       "      <td>0.0</td>\n",
       "      <td>0.0</td>\n",
       "      <td>0.0</td>\n",
       "      <td>0.0</td>\n",
       "    </tr>\n",
       "    <tr>\n",
       "      <th>5</th>\n",
       "      <td>1226</td>\n",
       "      <td>2024-06-06</td>\n",
       "      <td>Brno_1</td>\n",
       "      <td>9538.0</td>\n",
       "      <td>13.13</td>\n",
       "      <td>0.00000</td>\n",
       "      <td>0.0</td>\n",
       "      <td>0.0</td>\n",
       "      <td>0.0</td>\n",
       "      <td>0.0</td>\n",
       "      <td>0.0</td>\n",
       "      <td>0.0</td>\n",
       "    </tr>\n",
       "    <tr>\n",
       "      <th>6</th>\n",
       "      <td>1226</td>\n",
       "      <td>2024-06-12</td>\n",
       "      <td>Brno_1</td>\n",
       "      <td>9002.0</td>\n",
       "      <td>13.13</td>\n",
       "      <td>0.15873</td>\n",
       "      <td>0.0</td>\n",
       "      <td>0.0</td>\n",
       "      <td>0.0</td>\n",
       "      <td>0.0</td>\n",
       "      <td>0.0</td>\n",
       "      <td>0.0</td>\n",
       "    </tr>\n",
       "    <tr>\n",
       "      <th>7</th>\n",
       "      <td>1226</td>\n",
       "      <td>2024-06-05</td>\n",
       "      <td>Brno_1</td>\n",
       "      <td>8501.0</td>\n",
       "      <td>13.13</td>\n",
       "      <td>0.00000</td>\n",
       "      <td>0.0</td>\n",
       "      <td>0.0</td>\n",
       "      <td>0.0</td>\n",
       "      <td>0.0</td>\n",
       "      <td>0.0</td>\n",
       "      <td>0.0</td>\n",
       "    </tr>\n",
       "    <tr>\n",
       "      <th>8</th>\n",
       "      <td>1226</td>\n",
       "      <td>2024-06-04</td>\n",
       "      <td>Brno_1</td>\n",
       "      <td>8492.0</td>\n",
       "      <td>13.13</td>\n",
       "      <td>0.00000</td>\n",
       "      <td>0.0</td>\n",
       "      <td>0.0</td>\n",
       "      <td>0.0</td>\n",
       "      <td>0.0</td>\n",
       "      <td>0.0</td>\n",
       "      <td>0.0</td>\n",
       "    </tr>\n",
       "    <tr>\n",
       "      <th>9</th>\n",
       "      <td>1226</td>\n",
       "      <td>2024-06-08</td>\n",
       "      <td>Brno_1</td>\n",
       "      <td>8093.0</td>\n",
       "      <td>13.13</td>\n",
       "      <td>0.00000</td>\n",
       "      <td>0.0</td>\n",
       "      <td>0.0</td>\n",
       "      <td>0.0</td>\n",
       "      <td>0.0</td>\n",
       "      <td>0.0</td>\n",
       "      <td>0.0</td>\n",
       "    </tr>\n",
       "    <tr>\n",
       "      <th>10</th>\n",
       "      <td>1226</td>\n",
       "      <td>2024-06-07</td>\n",
       "      <td>Brno_1</td>\n",
       "      <td>10174.0</td>\n",
       "      <td>13.13</td>\n",
       "      <td>0.00000</td>\n",
       "      <td>0.0</td>\n",
       "      <td>0.0</td>\n",
       "      <td>0.0</td>\n",
       "      <td>0.0</td>\n",
       "      <td>0.0</td>\n",
       "      <td>0.0</td>\n",
       "    </tr>\n",
       "    <tr>\n",
       "      <th>11</th>\n",
       "      <td>1226</td>\n",
       "      <td>2024-06-14</td>\n",
       "      <td>Brno_1</td>\n",
       "      <td>10363.0</td>\n",
       "      <td>13.13</td>\n",
       "      <td>0.15873</td>\n",
       "      <td>0.0</td>\n",
       "      <td>0.0</td>\n",
       "      <td>0.0</td>\n",
       "      <td>0.0</td>\n",
       "      <td>0.0</td>\n",
       "      <td>0.0</td>\n",
       "    </tr>\n",
       "    <tr>\n",
       "      <th>12</th>\n",
       "      <td>1226</td>\n",
       "      <td>2024-06-16</td>\n",
       "      <td>Brno_1</td>\n",
       "      <td>8453.0</td>\n",
       "      <td>13.13</td>\n",
       "      <td>0.15873</td>\n",
       "      <td>0.0</td>\n",
       "      <td>0.0</td>\n",
       "      <td>0.0</td>\n",
       "      <td>0.0</td>\n",
       "      <td>0.0</td>\n",
       "      <td>0.0</td>\n",
       "    </tr>\n",
       "    <tr>\n",
       "      <th>13</th>\n",
       "      <td>1226</td>\n",
       "      <td>2024-06-10</td>\n",
       "      <td>Brno_1</td>\n",
       "      <td>9275.0</td>\n",
       "      <td>13.13</td>\n",
       "      <td>0.15873</td>\n",
       "      <td>0.0</td>\n",
       "      <td>0.0</td>\n",
       "      <td>0.0</td>\n",
       "      <td>0.0</td>\n",
       "      <td>0.0</td>\n",
       "      <td>0.0</td>\n",
       "    </tr>\n",
       "    <tr>\n",
       "      <th>14</th>\n",
       "      <td>5409</td>\n",
       "      <td>2024-06-08</td>\n",
       "      <td>Prague_2</td>\n",
       "      <td>5533.0</td>\n",
       "      <td>58.26</td>\n",
       "      <td>0.00000</td>\n",
       "      <td>0.0</td>\n",
       "      <td>0.0</td>\n",
       "      <td>0.0</td>\n",
       "      <td>0.0</td>\n",
       "      <td>0.0</td>\n",
       "      <td>0.0</td>\n",
       "    </tr>\n",
       "  </tbody>\n",
       "</table>\n",
       "</div>"
      ],
      "text/plain": [
       "    unique_id        date warehouse  total_orders  sell_price_main  \\\n",
       "0        1226  2024-06-03    Brno_1        8679.0            13.13   \n",
       "1        1226  2024-06-11    Brno_1        8795.0            13.13   \n",
       "2        1226  2024-06-13    Brno_1       10009.0            13.13   \n",
       "3        1226  2024-06-15    Brno_1        8482.0            13.13   \n",
       "4        1226  2024-06-09    Brno_1        8195.0            13.13   \n",
       "5        1226  2024-06-06    Brno_1        9538.0            13.13   \n",
       "6        1226  2024-06-12    Brno_1        9002.0            13.13   \n",
       "7        1226  2024-06-05    Brno_1        8501.0            13.13   \n",
       "8        1226  2024-06-04    Brno_1        8492.0            13.13   \n",
       "9        1226  2024-06-08    Brno_1        8093.0            13.13   \n",
       "10       1226  2024-06-07    Brno_1       10174.0            13.13   \n",
       "11       1226  2024-06-14    Brno_1       10363.0            13.13   \n",
       "12       1226  2024-06-16    Brno_1        8453.0            13.13   \n",
       "13       1226  2024-06-10    Brno_1        9275.0            13.13   \n",
       "14       5409  2024-06-08  Prague_2        5533.0            58.26   \n",
       "\n",
       "    type_0_discount  type_1_discount  type_2_discount  type_3_discount  \\\n",
       "0           0.00000              0.0              0.0              0.0   \n",
       "1           0.15873              0.0              0.0              0.0   \n",
       "2           0.15873              0.0              0.0              0.0   \n",
       "3           0.15873              0.0              0.0              0.0   \n",
       "4           0.00000              0.0              0.0              0.0   \n",
       "5           0.00000              0.0              0.0              0.0   \n",
       "6           0.15873              0.0              0.0              0.0   \n",
       "7           0.00000              0.0              0.0              0.0   \n",
       "8           0.00000              0.0              0.0              0.0   \n",
       "9           0.00000              0.0              0.0              0.0   \n",
       "10          0.00000              0.0              0.0              0.0   \n",
       "11          0.15873              0.0              0.0              0.0   \n",
       "12          0.15873              0.0              0.0              0.0   \n",
       "13          0.15873              0.0              0.0              0.0   \n",
       "14          0.00000              0.0              0.0              0.0   \n",
       "\n",
       "    type_4_discount  type_5_discount  type_6_discount  \n",
       "0               0.0              0.0              0.0  \n",
       "1               0.0              0.0              0.0  \n",
       "2               0.0              0.0              0.0  \n",
       "3               0.0              0.0              0.0  \n",
       "4               0.0              0.0              0.0  \n",
       "5               0.0              0.0              0.0  \n",
       "6               0.0              0.0              0.0  \n",
       "7               0.0              0.0              0.0  \n",
       "8               0.0              0.0              0.0  \n",
       "9               0.0              0.0              0.0  \n",
       "10              0.0              0.0              0.0  \n",
       "11              0.0              0.0              0.0  \n",
       "12              0.0              0.0              0.0  \n",
       "13              0.0              0.0              0.0  \n",
       "14              0.0              0.0              0.0  "
      ]
     },
     "execution_count": 61,
     "metadata": {},
     "output_type": "execute_result"
    }
   ],
   "source": [
    "sales_test_df.head(15)"
   ]
  },
  {
   "cell_type": "code",
   "execution_count": 62,
   "metadata": {},
   "outputs": [
    {
     "name": "stdout",
     "output_type": "stream",
     "text": [
      "<class 'pandas.core.frame.DataFrame'>\n",
      "RangeIndex: 47021 entries, 0 to 47020\n",
      "Data columns (total 12 columns):\n",
      " #   Column           Non-Null Count  Dtype  \n",
      "---  ------           --------------  -----  \n",
      " 0   unique_id        47021 non-null  int64  \n",
      " 1   date             47021 non-null  object \n",
      " 2   warehouse        47021 non-null  object \n",
      " 3   total_orders     47021 non-null  float64\n",
      " 4   sell_price_main  47021 non-null  float64\n",
      " 5   type_0_discount  47021 non-null  float64\n",
      " 6   type_1_discount  47021 non-null  float64\n",
      " 7   type_2_discount  47021 non-null  float64\n",
      " 8   type_3_discount  47021 non-null  float64\n",
      " 9   type_4_discount  47021 non-null  float64\n",
      " 10  type_5_discount  47021 non-null  float64\n",
      " 11  type_6_discount  47021 non-null  float64\n",
      "dtypes: float64(9), int64(1), object(2)\n",
      "memory usage: 4.3+ MB\n"
     ]
    }
   ],
   "source": [
    "sales_test_df.info()"
   ]
  },
  {
   "cell_type": "markdown",
   "metadata": {},
   "source": [
    "The earliest date in dataset"
   ]
  },
  {
   "cell_type": "code",
   "execution_count": 63,
   "metadata": {},
   "outputs": [
    {
     "data": {
      "text/plain": [
       "'2024-06-03'"
      ]
     },
     "execution_count": 63,
     "metadata": {},
     "output_type": "execute_result"
    }
   ],
   "source": [
    "sales_test_df.date.min()"
   ]
  },
  {
   "cell_type": "markdown",
   "metadata": {},
   "source": [
    "The earliest date in dataset"
   ]
  },
  {
   "cell_type": "code",
   "execution_count": 64,
   "metadata": {},
   "outputs": [
    {
     "data": {
      "text/plain": [
       "'2024-06-16'"
      ]
     },
     "execution_count": 64,
     "metadata": {},
     "output_type": "execute_result"
    }
   ],
   "source": [
    "sales_test_df.date.max()"
   ]
  },
  {
   "cell_type": "markdown",
   "metadata": {},
   "source": [
    "#### solution_df"
   ]
  },
  {
   "cell_type": "code",
   "execution_count": 65,
   "metadata": {},
   "outputs": [
    {
     "data": {
      "text/html": [
       "<div>\n",
       "<style scoped>\n",
       "    .dataframe tbody tr th:only-of-type {\n",
       "        vertical-align: middle;\n",
       "    }\n",
       "\n",
       "    .dataframe tbody tr th {\n",
       "        vertical-align: top;\n",
       "    }\n",
       "\n",
       "    .dataframe thead th {\n",
       "        text-align: right;\n",
       "    }\n",
       "</style>\n",
       "<table border=\"1\" class=\"dataframe\">\n",
       "  <thead>\n",
       "    <tr style=\"text-align: right;\">\n",
       "      <th></th>\n",
       "      <th>id</th>\n",
       "      <th>sales_hat</th>\n",
       "    </tr>\n",
       "  </thead>\n",
       "  <tbody>\n",
       "    <tr>\n",
       "      <th>0</th>\n",
       "      <td>1226_2024-06-03</td>\n",
       "      <td>0</td>\n",
       "    </tr>\n",
       "    <tr>\n",
       "      <th>1</th>\n",
       "      <td>1226_2024-06-11</td>\n",
       "      <td>0</td>\n",
       "    </tr>\n",
       "    <tr>\n",
       "      <th>2</th>\n",
       "      <td>1226_2024-06-13</td>\n",
       "      <td>0</td>\n",
       "    </tr>\n",
       "    <tr>\n",
       "      <th>3</th>\n",
       "      <td>1226_2024-06-15</td>\n",
       "      <td>0</td>\n",
       "    </tr>\n",
       "    <tr>\n",
       "      <th>4</th>\n",
       "      <td>1226_2024-06-09</td>\n",
       "      <td>0</td>\n",
       "    </tr>\n",
       "  </tbody>\n",
       "</table>\n",
       "</div>"
      ],
      "text/plain": [
       "                id  sales_hat\n",
       "0  1226_2024-06-03          0\n",
       "1  1226_2024-06-11          0\n",
       "2  1226_2024-06-13          0\n",
       "3  1226_2024-06-15          0\n",
       "4  1226_2024-06-09          0"
      ]
     },
     "execution_count": 65,
     "metadata": {},
     "output_type": "execute_result"
    }
   ],
   "source": [
    "solution_df.head(5)"
   ]
  },
  {
   "cell_type": "code",
   "execution_count": 66,
   "metadata": {},
   "outputs": [
    {
     "name": "stdout",
     "output_type": "stream",
     "text": [
      "<class 'pandas.core.frame.DataFrame'>\n",
      "RangeIndex: 47021 entries, 0 to 47020\n",
      "Data columns (total 2 columns):\n",
      " #   Column     Non-Null Count  Dtype \n",
      "---  ------     --------------  ----- \n",
      " 0   id         47021 non-null  object\n",
      " 1   sales_hat  47021 non-null  int64 \n",
      "dtypes: int64(1), object(1)\n",
      "memory usage: 734.8+ KB\n"
     ]
    }
   ],
   "source": [
    "solution_df.info()"
   ]
  },
  {
   "cell_type": "markdown",
   "metadata": {},
   "source": [
    "#### test_weight_df"
   ]
  },
  {
   "cell_type": "code",
   "execution_count": 67,
   "metadata": {},
   "outputs": [
    {
     "data": {
      "text/html": [
       "<div>\n",
       "<style scoped>\n",
       "    .dataframe tbody tr th:only-of-type {\n",
       "        vertical-align: middle;\n",
       "    }\n",
       "\n",
       "    .dataframe tbody tr th {\n",
       "        vertical-align: top;\n",
       "    }\n",
       "\n",
       "    .dataframe thead th {\n",
       "        text-align: right;\n",
       "    }\n",
       "</style>\n",
       "<table border=\"1\" class=\"dataframe\">\n",
       "  <thead>\n",
       "    <tr style=\"text-align: right;\">\n",
       "      <th></th>\n",
       "      <th>unique_id</th>\n",
       "      <th>weight</th>\n",
       "    </tr>\n",
       "  </thead>\n",
       "  <tbody>\n",
       "    <tr>\n",
       "      <th>0</th>\n",
       "      <td>0</td>\n",
       "      <td>2.535369</td>\n",
       "    </tr>\n",
       "    <tr>\n",
       "      <th>1</th>\n",
       "      <td>1</td>\n",
       "      <td>3.888933</td>\n",
       "    </tr>\n",
       "    <tr>\n",
       "      <th>2</th>\n",
       "      <td>2</td>\n",
       "      <td>5.885237</td>\n",
       "    </tr>\n",
       "    <tr>\n",
       "      <th>3</th>\n",
       "      <td>3</td>\n",
       "      <td>2.139552</td>\n",
       "    </tr>\n",
       "    <tr>\n",
       "      <th>4</th>\n",
       "      <td>5</td>\n",
       "      <td>3.021715</td>\n",
       "    </tr>\n",
       "  </tbody>\n",
       "</table>\n",
       "</div>"
      ],
      "text/plain": [
       "   unique_id    weight\n",
       "0          0  2.535369\n",
       "1          1  3.888933\n",
       "2          2  5.885237\n",
       "3          3  2.139552\n",
       "4          5  3.021715"
      ]
     },
     "execution_count": 67,
     "metadata": {},
     "output_type": "execute_result"
    }
   ],
   "source": [
    "test_weights_df.head(5)"
   ]
  },
  {
   "cell_type": "code",
   "execution_count": 68,
   "metadata": {},
   "outputs": [
    {
     "name": "stdout",
     "output_type": "stream",
     "text": [
      "<class 'pandas.core.frame.DataFrame'>\n",
      "RangeIndex: 5390 entries, 0 to 5389\n",
      "Data columns (total 2 columns):\n",
      " #   Column     Non-Null Count  Dtype  \n",
      "---  ------     --------------  -----  \n",
      " 0   unique_id  5390 non-null   int64  \n",
      " 1   weight     5390 non-null   float64\n",
      "dtypes: float64(1), int64(1)\n",
      "memory usage: 84.3 KB\n"
     ]
    }
   ],
   "source": [
    "test_weights_df.info()"
   ]
  },
  {
   "cell_type": "markdown",
   "metadata": {},
   "source": [
    "### Data preprocessing"
   ]
  },
  {
   "cell_type": "code",
   "execution_count": 69,
   "metadata": {},
   "outputs": [
    {
     "data": {
      "text/plain": [
       "Labour Day                                                     63\n",
       "2nd Christmas Day                                              63\n",
       "1st Christmas Day                                              63\n",
       "International womens day                                       63\n",
       "Christmas Eve                                                  63\n",
       "New Years Day                                                  63\n",
       "Easter Monday                                                  42\n",
       "Good Friday                                                    42\n",
       "Den boje za svobodu a demokracii                               36\n",
       "Den vzniku samostatneho ceskoslovenskeho statu                 36\n",
       "Jan Hus                                                        36\n",
       "Den ceske statnosti                                            36\n",
       "Den osvobozeni                                                 36\n",
       "Cyrila a Metodej                                               36\n",
       "Whit sunday                                                    27\n",
       "Whit monday                                                    27\n",
       "Memorial Day for the Victims of the Holocaust                  18\n",
       "All Saints Day                                                 18\n",
       "Ascension day                                                  18\n",
       "Corpus Christi                                                 18\n",
       "German Unity Day                                               18\n",
       "Memorial Day of the Republic                                    9\n",
       "State Foundation Day                                            9\n",
       "Independent Hungary Day                                         9\n",
       "Memorial Day for the Martyrs of Arad                            9\n",
       "Memorial day of the 1956 Revolution                             9\n",
       "Memorial Day for the Victims of the Communist Dictatorships     9\n",
       "Epiphany                                                        9\n",
       "Assumption of the Virgin Mary                                   9\n",
       "Reformation Day                                                 9\n",
       "National Defense Day                                            8\n",
       "Day of National Unity                                           8\n",
       "Peace Festival in Augsburg                                      6\n",
       "Hungary National Day Holiday                                    2\n",
       "Christmas Holiday                                               1\n",
       "1848 Revolution Memorial Day (Extra holiday)                    1\n",
       "All Saints' Day Holiday                                         1\n",
       "Name: holiday_name, dtype: int64"
      ]
     },
     "execution_count": 69,
     "metadata": {},
     "output_type": "execute_result"
    }
   ],
   "source": [
    "calendar_df['holiday_name'].value_counts()"
   ]
  },
  {
   "cell_type": "markdown",
   "metadata": {},
   "source": [
    "Translation of some czech holidays"
   ]
  },
  {
   "cell_type": "code",
   "execution_count": 70,
   "metadata": {},
   "outputs": [],
   "source": [
    "holidays_cz = {'Den boje za svobodu a demokracii': 'Struggle for Freedom and Democracy Day',\n",
    "               'Den vzniku samostatneho ceskoslovenskeho statu' : 'Foundation of Independent Czechoslovakia', \n",
    "               'Jan Hus': 'Jan Hus Day',\n",
    "               'Den ceske statnosti': 'St. Wenclaus Day',\n",
    "               'Den osvobozeni': 'Victory Day',\n",
    "               'Cyrila a Metodej': 'St. Cyril and Methodius Day'}\n",
    "calendar_df['holiday_name'] = calendar_df['holiday_name'].map(holidays_cz)"
   ]
  },
  {
   "cell_type": "markdown",
   "metadata": {},
   "source": [
    "#### Merging"
   ]
  },
  {
   "cell_type": "code",
   "execution_count": 71,
   "metadata": {},
   "outputs": [],
   "source": [
    "data = sales_train_df.merge(calendar_df, on='date', how='left').merge(inventory_df, on='unique_id', how='left')"
   ]
  },
  {
   "cell_type": "code",
   "execution_count": 72,
   "metadata": {},
   "outputs": [
    {
     "name": "stdout",
     "output_type": "stream",
     "text": [
      "<class 'pandas.core.frame.DataFrame'>\n",
      "Int64Index: 7340025 entries, 0 to 7340024\n",
      "Data columns (total 27 columns):\n",
      " #   Column                  Dtype  \n",
      "---  ------                  -----  \n",
      " 0   unique_id               int64  \n",
      " 1   date                    object \n",
      " 2   warehouse_x             object \n",
      " 3   total_orders            float64\n",
      " 4   sales                   float64\n",
      " 5   sell_price_main         float64\n",
      " 6   availability            float64\n",
      " 7   type_0_discount         float64\n",
      " 8   type_1_discount         float64\n",
      " 9   type_2_discount         float64\n",
      " 10  type_3_discount         float64\n",
      " 11  type_4_discount         float64\n",
      " 12  type_5_discount         float64\n",
      " 13  type_6_discount         float64\n",
      " 14  holiday_name            object \n",
      " 15  holiday                 int64  \n",
      " 16  shops_closed            int64  \n",
      " 17  winter_school_holidays  int64  \n",
      " 18  school_holidays         int64  \n",
      " 19  warehouse_y             object \n",
      " 20  product_unique_id       int64  \n",
      " 21  name                    object \n",
      " 22  L1_category_name_en     object \n",
      " 23  L2_category_name_en     object \n",
      " 24  L3_category_name_en     object \n",
      " 25  L4_category_name_en     object \n",
      " 26  warehouse               object \n",
      "dtypes: float64(11), int64(6), object(10)\n",
      "memory usage: 1.5+ GB\n"
     ]
    }
   ],
   "source": [
    "data.info()"
   ]
  },
  {
   "cell_type": "markdown",
   "metadata": {},
   "source": [
    "Removing redundant columns"
   ]
  },
  {
   "cell_type": "code",
   "execution_count": 73,
   "metadata": {},
   "outputs": [],
   "source": [
    "data=data.drop(columns='warehouse_y')\n",
    "data=data.drop(columns='warehouse_x')"
   ]
  },
  {
   "cell_type": "code",
   "execution_count": 74,
   "metadata": {},
   "outputs": [
    {
     "data": {
      "text/html": [
       "<div>\n",
       "<style scoped>\n",
       "    .dataframe tbody tr th:only-of-type {\n",
       "        vertical-align: middle;\n",
       "    }\n",
       "\n",
       "    .dataframe tbody tr th {\n",
       "        vertical-align: top;\n",
       "    }\n",
       "\n",
       "    .dataframe thead th {\n",
       "        text-align: right;\n",
       "    }\n",
       "</style>\n",
       "<table border=\"1\" class=\"dataframe\">\n",
       "  <thead>\n",
       "    <tr style=\"text-align: right;\">\n",
       "      <th></th>\n",
       "      <th>unique_id</th>\n",
       "      <th>date</th>\n",
       "      <th>total_orders</th>\n",
       "      <th>sales</th>\n",
       "      <th>sell_price_main</th>\n",
       "      <th>availability</th>\n",
       "      <th>type_0_discount</th>\n",
       "      <th>type_1_discount</th>\n",
       "      <th>type_2_discount</th>\n",
       "      <th>type_3_discount</th>\n",
       "      <th>...</th>\n",
       "      <th>shops_closed</th>\n",
       "      <th>winter_school_holidays</th>\n",
       "      <th>school_holidays</th>\n",
       "      <th>product_unique_id</th>\n",
       "      <th>name</th>\n",
       "      <th>L1_category_name_en</th>\n",
       "      <th>L2_category_name_en</th>\n",
       "      <th>L3_category_name_en</th>\n",
       "      <th>L4_category_name_en</th>\n",
       "      <th>warehouse</th>\n",
       "    </tr>\n",
       "  </thead>\n",
       "  <tbody>\n",
       "    <tr>\n",
       "      <th>0</th>\n",
       "      <td>4845</td>\n",
       "      <td>2024-03-10</td>\n",
       "      <td>6436.0</td>\n",
       "      <td>16.34</td>\n",
       "      <td>646.26</td>\n",
       "      <td>1.0</td>\n",
       "      <td>0.0</td>\n",
       "      <td>0.0</td>\n",
       "      <td>0.0</td>\n",
       "      <td>0.0</td>\n",
       "      <td>...</td>\n",
       "      <td>0</td>\n",
       "      <td>0</td>\n",
       "      <td>0</td>\n",
       "      <td>2375</td>\n",
       "      <td>Croissant_35</td>\n",
       "      <td>Bakery</td>\n",
       "      <td>Bakery_L2_18</td>\n",
       "      <td>Bakery_L3_83</td>\n",
       "      <td>Bakery_L4_1</td>\n",
       "      <td>Budapest_1</td>\n",
       "    </tr>\n",
       "    <tr>\n",
       "      <th>1</th>\n",
       "      <td>4845</td>\n",
       "      <td>2024-03-10</td>\n",
       "      <td>6436.0</td>\n",
       "      <td>16.34</td>\n",
       "      <td>646.26</td>\n",
       "      <td>1.0</td>\n",
       "      <td>0.0</td>\n",
       "      <td>0.0</td>\n",
       "      <td>0.0</td>\n",
       "      <td>0.0</td>\n",
       "      <td>...</td>\n",
       "      <td>0</td>\n",
       "      <td>0</td>\n",
       "      <td>0</td>\n",
       "      <td>2375</td>\n",
       "      <td>Croissant_35</td>\n",
       "      <td>Bakery</td>\n",
       "      <td>Bakery_L2_18</td>\n",
       "      <td>Bakery_L3_83</td>\n",
       "      <td>Bakery_L4_1</td>\n",
       "      <td>Budapest_1</td>\n",
       "    </tr>\n",
       "    <tr>\n",
       "      <th>2</th>\n",
       "      <td>4845</td>\n",
       "      <td>2024-03-10</td>\n",
       "      <td>6436.0</td>\n",
       "      <td>16.34</td>\n",
       "      <td>646.26</td>\n",
       "      <td>1.0</td>\n",
       "      <td>0.0</td>\n",
       "      <td>0.0</td>\n",
       "      <td>0.0</td>\n",
       "      <td>0.0</td>\n",
       "      <td>...</td>\n",
       "      <td>0</td>\n",
       "      <td>0</td>\n",
       "      <td>0</td>\n",
       "      <td>2375</td>\n",
       "      <td>Croissant_35</td>\n",
       "      <td>Bakery</td>\n",
       "      <td>Bakery_L2_18</td>\n",
       "      <td>Bakery_L3_83</td>\n",
       "      <td>Bakery_L4_1</td>\n",
       "      <td>Budapest_1</td>\n",
       "    </tr>\n",
       "    <tr>\n",
       "      <th>3</th>\n",
       "      <td>4845</td>\n",
       "      <td>2024-03-10</td>\n",
       "      <td>6436.0</td>\n",
       "      <td>16.34</td>\n",
       "      <td>646.26</td>\n",
       "      <td>1.0</td>\n",
       "      <td>0.0</td>\n",
       "      <td>0.0</td>\n",
       "      <td>0.0</td>\n",
       "      <td>0.0</td>\n",
       "      <td>...</td>\n",
       "      <td>0</td>\n",
       "      <td>0</td>\n",
       "      <td>0</td>\n",
       "      <td>2375</td>\n",
       "      <td>Croissant_35</td>\n",
       "      <td>Bakery</td>\n",
       "      <td>Bakery_L2_18</td>\n",
       "      <td>Bakery_L3_83</td>\n",
       "      <td>Bakery_L4_1</td>\n",
       "      <td>Budapest_1</td>\n",
       "    </tr>\n",
       "    <tr>\n",
       "      <th>4</th>\n",
       "      <td>4845</td>\n",
       "      <td>2024-03-10</td>\n",
       "      <td>6436.0</td>\n",
       "      <td>16.34</td>\n",
       "      <td>646.26</td>\n",
       "      <td>1.0</td>\n",
       "      <td>0.0</td>\n",
       "      <td>0.0</td>\n",
       "      <td>0.0</td>\n",
       "      <td>0.0</td>\n",
       "      <td>...</td>\n",
       "      <td>0</td>\n",
       "      <td>0</td>\n",
       "      <td>0</td>\n",
       "      <td>2375</td>\n",
       "      <td>Croissant_35</td>\n",
       "      <td>Bakery</td>\n",
       "      <td>Bakery_L2_18</td>\n",
       "      <td>Bakery_L3_83</td>\n",
       "      <td>Bakery_L4_1</td>\n",
       "      <td>Budapest_1</td>\n",
       "    </tr>\n",
       "  </tbody>\n",
       "</table>\n",
       "<p>5 rows × 25 columns</p>\n",
       "</div>"
      ],
      "text/plain": [
       "   unique_id        date  total_orders  sales  sell_price_main  availability  \\\n",
       "0       4845  2024-03-10        6436.0  16.34           646.26           1.0   \n",
       "1       4845  2024-03-10        6436.0  16.34           646.26           1.0   \n",
       "2       4845  2024-03-10        6436.0  16.34           646.26           1.0   \n",
       "3       4845  2024-03-10        6436.0  16.34           646.26           1.0   \n",
       "4       4845  2024-03-10        6436.0  16.34           646.26           1.0   \n",
       "\n",
       "   type_0_discount  type_1_discount  type_2_discount  type_3_discount  ...  \\\n",
       "0              0.0              0.0              0.0              0.0  ...   \n",
       "1              0.0              0.0              0.0              0.0  ...   \n",
       "2              0.0              0.0              0.0              0.0  ...   \n",
       "3              0.0              0.0              0.0              0.0  ...   \n",
       "4              0.0              0.0              0.0              0.0  ...   \n",
       "\n",
       "   shops_closed  winter_school_holidays  school_holidays product_unique_id  \\\n",
       "0             0                       0                0              2375   \n",
       "1             0                       0                0              2375   \n",
       "2             0                       0                0              2375   \n",
       "3             0                       0                0              2375   \n",
       "4             0                       0                0              2375   \n",
       "\n",
       "           name  L1_category_name_en  L2_category_name_en  \\\n",
       "0  Croissant_35               Bakery         Bakery_L2_18   \n",
       "1  Croissant_35               Bakery         Bakery_L2_18   \n",
       "2  Croissant_35               Bakery         Bakery_L2_18   \n",
       "3  Croissant_35               Bakery         Bakery_L2_18   \n",
       "4  Croissant_35               Bakery         Bakery_L2_18   \n",
       "\n",
       "   L3_category_name_en  L4_category_name_en   warehouse  \n",
       "0         Bakery_L3_83          Bakery_L4_1  Budapest_1  \n",
       "1         Bakery_L3_83          Bakery_L4_1  Budapest_1  \n",
       "2         Bakery_L3_83          Bakery_L4_1  Budapest_1  \n",
       "3         Bakery_L3_83          Bakery_L4_1  Budapest_1  \n",
       "4         Bakery_L3_83          Bakery_L4_1  Budapest_1  \n",
       "\n",
       "[5 rows x 25 columns]"
      ]
     },
     "execution_count": 74,
     "metadata": {},
     "output_type": "execute_result"
    }
   ],
   "source": [
    "data.head(5)"
   ]
  },
  {
   "cell_type": "markdown",
   "metadata": {},
   "source": [
    "#### Date engineering"
   ]
  },
  {
   "cell_type": "code",
   "execution_count": 75,
   "metadata": {},
   "outputs": [],
   "source": [
    "data['day_of_week'] = pd.to_datetime(data['date']).dt.dayofweek\n",
    "data['weekend'] = data['day_of_week'].isin([5, 6]).astype(int)\n",
    "data['holiday'] = data['holiday'].fillna(0).astype(int)"
   ]
  },
  {
   "cell_type": "code",
   "execution_count": 76,
   "metadata": {},
   "outputs": [],
   "source": [
    "# Rolling\n",
    "data['rolling_mean_7'] = data.groupby('unique_id')['sales'].shift(1).rolling(window=7).mean()"
   ]
  },
  {
   "cell_type": "code",
   "execution_count": 77,
   "metadata": {},
   "outputs": [],
   "source": [
    "#Drop rows with NaN values after featue engineering\n",
    "data_train = data.dropna()"
   ]
  },
  {
   "cell_type": "code",
   "execution_count": 78,
   "metadata": {},
   "outputs": [],
   "source": [
    "for lag in [1, 7, 30]:\n",
    "    data[f'sales_lag_{lag}'] = data.groupby('unique_id')['sales'].shift(lag)"
   ]
  },
  {
   "cell_type": "code",
   "execution_count": 79,
   "metadata": {},
   "outputs": [
    {
     "data": {
      "text/html": [
       "<div>\n",
       "<style scoped>\n",
       "    .dataframe tbody tr th:only-of-type {\n",
       "        vertical-align: middle;\n",
       "    }\n",
       "\n",
       "    .dataframe tbody tr th {\n",
       "        vertical-align: top;\n",
       "    }\n",
       "\n",
       "    .dataframe thead th {\n",
       "        text-align: right;\n",
       "    }\n",
       "</style>\n",
       "<table border=\"1\" class=\"dataframe\">\n",
       "  <thead>\n",
       "    <tr style=\"text-align: right;\">\n",
       "      <th></th>\n",
       "      <th>unique_id</th>\n",
       "      <th>date</th>\n",
       "      <th>total_orders</th>\n",
       "      <th>sales</th>\n",
       "      <th>sell_price_main</th>\n",
       "      <th>availability</th>\n",
       "      <th>type_0_discount</th>\n",
       "      <th>type_1_discount</th>\n",
       "      <th>type_2_discount</th>\n",
       "      <th>type_3_discount</th>\n",
       "      <th>...</th>\n",
       "      <th>product_unique_id</th>\n",
       "      <th>name</th>\n",
       "      <th>L1_category_name_en</th>\n",
       "      <th>L2_category_name_en</th>\n",
       "      <th>L3_category_name_en</th>\n",
       "      <th>L4_category_name_en</th>\n",
       "      <th>warehouse</th>\n",
       "      <th>day_of_week</th>\n",
       "      <th>weekend</th>\n",
       "      <th>rolling_mean_7</th>\n",
       "    </tr>\n",
       "  </thead>\n",
       "  <tbody>\n",
       "    <tr>\n",
       "      <th>798</th>\n",
       "      <td>4845</td>\n",
       "      <td>2021-07-06</td>\n",
       "      <td>4502.0</td>\n",
       "      <td>13.41</td>\n",
       "      <td>455.96</td>\n",
       "      <td>1.0</td>\n",
       "      <td>0.0</td>\n",
       "      <td>0.0</td>\n",
       "      <td>0.0</td>\n",
       "      <td>0.0</td>\n",
       "      <td>...</td>\n",
       "      <td>2375</td>\n",
       "      <td>Croissant_35</td>\n",
       "      <td>Bakery</td>\n",
       "      <td>Bakery_L2_18</td>\n",
       "      <td>Bakery_L3_83</td>\n",
       "      <td>Bakery_L4_1</td>\n",
       "      <td>Budapest_1</td>\n",
       "      <td>1</td>\n",
       "      <td>0</td>\n",
       "      <td>16.480000</td>\n",
       "    </tr>\n",
       "    <tr>\n",
       "      <th>800</th>\n",
       "      <td>4845</td>\n",
       "      <td>2021-07-06</td>\n",
       "      <td>4502.0</td>\n",
       "      <td>13.41</td>\n",
       "      <td>455.96</td>\n",
       "      <td>1.0</td>\n",
       "      <td>0.0</td>\n",
       "      <td>0.0</td>\n",
       "      <td>0.0</td>\n",
       "      <td>0.0</td>\n",
       "      <td>...</td>\n",
       "      <td>2375</td>\n",
       "      <td>Croissant_35</td>\n",
       "      <td>Bakery</td>\n",
       "      <td>Bakery_L2_18</td>\n",
       "      <td>Bakery_L3_83</td>\n",
       "      <td>Bakery_L4_1</td>\n",
       "      <td>Budapest_1</td>\n",
       "      <td>1</td>\n",
       "      <td>0</td>\n",
       "      <td>15.602857</td>\n",
       "    </tr>\n",
       "    <tr>\n",
       "      <th>802</th>\n",
       "      <td>4845</td>\n",
       "      <td>2021-07-06</td>\n",
       "      <td>4502.0</td>\n",
       "      <td>13.41</td>\n",
       "      <td>455.96</td>\n",
       "      <td>1.0</td>\n",
       "      <td>0.0</td>\n",
       "      <td>0.0</td>\n",
       "      <td>0.0</td>\n",
       "      <td>0.0</td>\n",
       "      <td>...</td>\n",
       "      <td>2375</td>\n",
       "      <td>Croissant_35</td>\n",
       "      <td>Bakery</td>\n",
       "      <td>Bakery_L2_18</td>\n",
       "      <td>Bakery_L3_83</td>\n",
       "      <td>Bakery_L4_1</td>\n",
       "      <td>Budapest_1</td>\n",
       "      <td>1</td>\n",
       "      <td>0</td>\n",
       "      <td>14.725714</td>\n",
       "    </tr>\n",
       "    <tr>\n",
       "      <th>804</th>\n",
       "      <td>4845</td>\n",
       "      <td>2021-07-06</td>\n",
       "      <td>4502.0</td>\n",
       "      <td>13.41</td>\n",
       "      <td>455.96</td>\n",
       "      <td>1.0</td>\n",
       "      <td>0.0</td>\n",
       "      <td>0.0</td>\n",
       "      <td>0.0</td>\n",
       "      <td>0.0</td>\n",
       "      <td>...</td>\n",
       "      <td>2375</td>\n",
       "      <td>Croissant_35</td>\n",
       "      <td>Bakery</td>\n",
       "      <td>Bakery_L2_18</td>\n",
       "      <td>Bakery_L3_83</td>\n",
       "      <td>Bakery_L4_1</td>\n",
       "      <td>Budapest_1</td>\n",
       "      <td>1</td>\n",
       "      <td>0</td>\n",
       "      <td>13.848571</td>\n",
       "    </tr>\n",
       "    <tr>\n",
       "      <th>1274</th>\n",
       "      <td>4845</td>\n",
       "      <td>2024-05-08</td>\n",
       "      <td>6866.0</td>\n",
       "      <td>27.98</td>\n",
       "      <td>646.26</td>\n",
       "      <td>1.0</td>\n",
       "      <td>0.0</td>\n",
       "      <td>0.0</td>\n",
       "      <td>0.0</td>\n",
       "      <td>0.0</td>\n",
       "      <td>...</td>\n",
       "      <td>2375</td>\n",
       "      <td>Croissant_35</td>\n",
       "      <td>Bakery</td>\n",
       "      <td>Bakery_L2_18</td>\n",
       "      <td>Bakery_L3_83</td>\n",
       "      <td>Bakery_L4_1</td>\n",
       "      <td>Budapest_1</td>\n",
       "      <td>2</td>\n",
       "      <td>0</td>\n",
       "      <td>3.890000</td>\n",
       "    </tr>\n",
       "  </tbody>\n",
       "</table>\n",
       "<p>5 rows × 28 columns</p>\n",
       "</div>"
      ],
      "text/plain": [
       "      unique_id        date  total_orders  sales  sell_price_main  \\\n",
       "798        4845  2021-07-06        4502.0  13.41           455.96   \n",
       "800        4845  2021-07-06        4502.0  13.41           455.96   \n",
       "802        4845  2021-07-06        4502.0  13.41           455.96   \n",
       "804        4845  2021-07-06        4502.0  13.41           455.96   \n",
       "1274       4845  2024-05-08        6866.0  27.98           646.26   \n",
       "\n",
       "      availability  type_0_discount  type_1_discount  type_2_discount  \\\n",
       "798            1.0              0.0              0.0              0.0   \n",
       "800            1.0              0.0              0.0              0.0   \n",
       "802            1.0              0.0              0.0              0.0   \n",
       "804            1.0              0.0              0.0              0.0   \n",
       "1274           1.0              0.0              0.0              0.0   \n",
       "\n",
       "      type_3_discount  ...  product_unique_id          name  \\\n",
       "798               0.0  ...               2375  Croissant_35   \n",
       "800               0.0  ...               2375  Croissant_35   \n",
       "802               0.0  ...               2375  Croissant_35   \n",
       "804               0.0  ...               2375  Croissant_35   \n",
       "1274              0.0  ...               2375  Croissant_35   \n",
       "\n",
       "      L1_category_name_en L2_category_name_en  L3_category_name_en  \\\n",
       "798                Bakery        Bakery_L2_18         Bakery_L3_83   \n",
       "800                Bakery        Bakery_L2_18         Bakery_L3_83   \n",
       "802                Bakery        Bakery_L2_18         Bakery_L3_83   \n",
       "804                Bakery        Bakery_L2_18         Bakery_L3_83   \n",
       "1274               Bakery        Bakery_L2_18         Bakery_L3_83   \n",
       "\n",
       "      L4_category_name_en   warehouse  day_of_week  weekend rolling_mean_7  \n",
       "798           Bakery_L4_1  Budapest_1            1        0      16.480000  \n",
       "800           Bakery_L4_1  Budapest_1            1        0      15.602857  \n",
       "802           Bakery_L4_1  Budapest_1            1        0      14.725714  \n",
       "804           Bakery_L4_1  Budapest_1            1        0      13.848571  \n",
       "1274          Bakery_L4_1  Budapest_1            2        0       3.890000  \n",
       "\n",
       "[5 rows x 28 columns]"
      ]
     },
     "execution_count": 79,
     "metadata": {},
     "output_type": "execute_result"
    }
   ],
   "source": [
    "data_train.head(5)"
   ]
  },
  {
   "cell_type": "markdown",
   "metadata": {},
   "source": [
    "### Explanatory Data Analysis"
   ]
  },
  {
   "cell_type": "code",
   "execution_count": 80,
   "metadata": {},
   "outputs": [],
   "source": [
    "#sales_train_df['date'] = pd.to_datetime(sales_train_df['date'])\n",
    "#calendar_df['date'] = pd.to_datetime(calendar_df['date'])\n",
    "sales_calendar = sales_train_df.merge(calendar_df, on='date', how='left')\n"
   ]
  },
  {
   "cell_type": "code",
   "execution_count": 81,
   "metadata": {},
   "outputs": [
    {
     "name": "stdout",
     "output_type": "stream",
     "text": [
      "<class 'pandas.core.frame.DataFrame'>\n",
      "Int64Index: 7340025 entries, 0 to 7340024\n",
      "Data columns (total 20 columns):\n",
      " #   Column                  Dtype  \n",
      "---  ------                  -----  \n",
      " 0   unique_id               int64  \n",
      " 1   date                    object \n",
      " 2   warehouse_x             object \n",
      " 3   total_orders            float64\n",
      " 4   sales                   float64\n",
      " 5   sell_price_main         float64\n",
      " 6   availability            float64\n",
      " 7   type_0_discount         float64\n",
      " 8   type_1_discount         float64\n",
      " 9   type_2_discount         float64\n",
      " 10  type_3_discount         float64\n",
      " 11  type_4_discount         float64\n",
      " 12  type_5_discount         float64\n",
      " 13  type_6_discount         float64\n",
      " 14  holiday_name            object \n",
      " 15  holiday                 int64  \n",
      " 16  shops_closed            int64  \n",
      " 17  winter_school_holidays  int64  \n",
      " 18  school_holidays         int64  \n",
      " 19  warehouse_y             object \n",
      "dtypes: float64(11), int64(5), object(4)\n",
      "memory usage: 1.1+ GB\n"
     ]
    }
   ],
   "source": [
    "sales_calendar.info()"
   ]
  },
  {
   "cell_type": "code",
   "execution_count": 82,
   "metadata": {},
   "outputs": [],
   "source": [
    "sales_calendar=sales_calendar.drop(columns='warehouse_y')\n",
    "sales_calendar=sales_calendar.rename(columns={'warehouse_x':\"warehouse\"})"
   ]
  },
  {
   "cell_type": "code",
   "execution_count": 84,
   "metadata": {},
   "outputs": [
    {
     "ename": "TypeError",
     "evalue": "to_datetime() missing 1 required positional argument: 'arg'",
     "output_type": "error",
     "traceback": [
      "\u001b[1;31m---------------------------------------------------------------------------\u001b[0m",
      "\u001b[1;31mTypeError\u001b[0m                                 Traceback (most recent call last)",
      "Cell \u001b[1;32mIn[84], line 1\u001b[0m\n\u001b[1;32m----> 1\u001b[0m sales_calendar\u001b[38;5;241m=\u001b[39mpd\u001b[38;5;241m.\u001b[39mto_datetime()\n",
      "\u001b[1;31mTypeError\u001b[0m: to_datetime() missing 1 required positional argument: 'arg'"
     ]
    }
   ],
   "source": [
    "sales_calendar=pd.to_datetime()"
   ]
  },
  {
   "cell_type": "code",
   "execution_count": null,
   "metadata": {},
   "outputs": [
    {
     "data": {
      "text/html": [
       "<div>\n",
       "<style scoped>\n",
       "    .dataframe tbody tr th:only-of-type {\n",
       "        vertical-align: middle;\n",
       "    }\n",
       "\n",
       "    .dataframe tbody tr th {\n",
       "        vertical-align: top;\n",
       "    }\n",
       "\n",
       "    .dataframe thead th {\n",
       "        text-align: right;\n",
       "    }\n",
       "</style>\n",
       "<table border=\"1\" class=\"dataframe\">\n",
       "  <thead>\n",
       "    <tr style=\"text-align: right;\">\n",
       "      <th></th>\n",
       "      <th>unique_id</th>\n",
       "      <th>total_orders</th>\n",
       "      <th>sales</th>\n",
       "      <th>sell_price_main</th>\n",
       "      <th>availability</th>\n",
       "      <th>type_0_discount</th>\n",
       "      <th>type_1_discount</th>\n",
       "      <th>type_2_discount</th>\n",
       "      <th>type_3_discount</th>\n",
       "      <th>type_4_discount</th>\n",
       "      <th>type_5_discount</th>\n",
       "      <th>type_6_discount</th>\n",
       "      <th>holiday</th>\n",
       "      <th>shops_closed</th>\n",
       "      <th>winter_school_holidays</th>\n",
       "      <th>school_holidays</th>\n",
       "      <th>day_of_week</th>\n",
       "      <th>weekend</th>\n",
       "    </tr>\n",
       "    <tr>\n",
       "      <th>date</th>\n",
       "      <th></th>\n",
       "      <th></th>\n",
       "      <th></th>\n",
       "      <th></th>\n",
       "      <th></th>\n",
       "      <th></th>\n",
       "      <th></th>\n",
       "      <th></th>\n",
       "      <th></th>\n",
       "      <th></th>\n",
       "      <th></th>\n",
       "      <th></th>\n",
       "      <th></th>\n",
       "      <th></th>\n",
       "      <th></th>\n",
       "      <th></th>\n",
       "      <th></th>\n",
       "      <th></th>\n",
       "    </tr>\n",
       "  </thead>\n",
       "  <tbody>\n",
       "    <tr>\n",
       "      <th>2020-08-31</th>\n",
       "      <td>333046182</td>\n",
       "      <td>456202901.0</td>\n",
       "      <td>12149643.38</td>\n",
       "      <td>14541679.39</td>\n",
       "      <td>101725.05</td>\n",
       "      <td>794.16960</td>\n",
       "      <td>0.0</td>\n",
       "      <td>55.26997</td>\n",
       "      <td>0.0</td>\n",
       "      <td>332.17415</td>\n",
       "      <td>0.0</td>\n",
       "      <td>2907.28074</td>\n",
       "      <td>2179</td>\n",
       "      <td>1073</td>\n",
       "      <td>0</td>\n",
       "      <td>0</td>\n",
       "      <td>362712</td>\n",
       "      <td>38031</td>\n",
       "    </tr>\n",
       "    <tr>\n",
       "      <th>2020-09-30</th>\n",
       "      <td>332663758</td>\n",
       "      <td>510238337.0</td>\n",
       "      <td>13527530.45</td>\n",
       "      <td>14725457.46</td>\n",
       "      <td>102701.34</td>\n",
       "      <td>904.55554</td>\n",
       "      <td>0.0</td>\n",
       "      <td>0.00000</td>\n",
       "      <td>0.0</td>\n",
       "      <td>318.96270</td>\n",
       "      <td>0.0</td>\n",
       "      <td>2552.66662</td>\n",
       "      <td>2204</td>\n",
       "      <td>2204</td>\n",
       "      <td>0</td>\n",
       "      <td>0</td>\n",
       "      <td>340956</td>\n",
       "      <td>31171</td>\n",
       "    </tr>\n",
       "    <tr>\n",
       "      <th>2020-10-31</th>\n",
       "      <td>345855993</td>\n",
       "      <td>612725533.0</td>\n",
       "      <td>17377818.29</td>\n",
       "      <td>16328686.22</td>\n",
       "      <td>107912.84</td>\n",
       "      <td>1034.59769</td>\n",
       "      <td>0.0</td>\n",
       "      <td>13.48627</td>\n",
       "      <td>0.0</td>\n",
       "      <td>328.54304</td>\n",
       "      <td>0.0</td>\n",
       "      <td>3859.10875</td>\n",
       "      <td>4518</td>\n",
       "      <td>3949</td>\n",
       "      <td>0</td>\n",
       "      <td>0</td>\n",
       "      <td>380268</td>\n",
       "      <td>35595</td>\n",
       "    </tr>\n",
       "    <tr>\n",
       "      <th>2020-11-30</th>\n",
       "      <td>341989536</td>\n",
       "      <td>671765157.0</td>\n",
       "      <td>18013965.90</td>\n",
       "      <td>16799005.79</td>\n",
       "      <td>104919.71</td>\n",
       "      <td>1043.88536</td>\n",
       "      <td>0.0</td>\n",
       "      <td>2.94119</td>\n",
       "      <td>0.0</td>\n",
       "      <td>316.85829</td>\n",
       "      <td>0.0</td>\n",
       "      <td>3308.15471</td>\n",
       "      <td>3424</td>\n",
       "      <td>1088</td>\n",
       "      <td>0</td>\n",
       "      <td>0</td>\n",
       "      <td>366009</td>\n",
       "      <td>36344</td>\n",
       "    </tr>\n",
       "    <tr>\n",
       "      <th>2020-12-31</th>\n",
       "      <td>351383473</td>\n",
       "      <td>690330270.0</td>\n",
       "      <td>17786316.73</td>\n",
       "      <td>17505622.96</td>\n",
       "      <td>109865.28</td>\n",
       "      <td>784.75628</td>\n",
       "      <td>0.0</td>\n",
       "      <td>17.64714</td>\n",
       "      <td>0.0</td>\n",
       "      <td>312.65311</td>\n",
       "      <td>0.0</td>\n",
       "      <td>3105.52438</td>\n",
       "      <td>10878</td>\n",
       "      <td>6909</td>\n",
       "      <td>0</td>\n",
       "      <td>0</td>\n",
       "      <td>364189</td>\n",
       "      <td>32354</td>\n",
       "    </tr>\n",
       "  </tbody>\n",
       "</table>\n",
       "</div>"
      ],
      "text/plain": [
       "            unique_id  total_orders        sales  sell_price_main  \\\n",
       "date                                                                \n",
       "2020-08-31  333046182   456202901.0  12149643.38      14541679.39   \n",
       "2020-09-30  332663758   510238337.0  13527530.45      14725457.46   \n",
       "2020-10-31  345855993   612725533.0  17377818.29      16328686.22   \n",
       "2020-11-30  341989536   671765157.0  18013965.90      16799005.79   \n",
       "2020-12-31  351383473   690330270.0  17786316.73      17505622.96   \n",
       "\n",
       "            availability  type_0_discount  type_1_discount  type_2_discount  \\\n",
       "date                                                                          \n",
       "2020-08-31     101725.05        794.16960              0.0         55.26997   \n",
       "2020-09-30     102701.34        904.55554              0.0          0.00000   \n",
       "2020-10-31     107912.84       1034.59769              0.0         13.48627   \n",
       "2020-11-30     104919.71       1043.88536              0.0          2.94119   \n",
       "2020-12-31     109865.28        784.75628              0.0         17.64714   \n",
       "\n",
       "            type_3_discount  type_4_discount  type_5_discount  \\\n",
       "date                                                            \n",
       "2020-08-31              0.0        332.17415              0.0   \n",
       "2020-09-30              0.0        318.96270              0.0   \n",
       "2020-10-31              0.0        328.54304              0.0   \n",
       "2020-11-30              0.0        316.85829              0.0   \n",
       "2020-12-31              0.0        312.65311              0.0   \n",
       "\n",
       "            type_6_discount  holiday  shops_closed  winter_school_holidays  \\\n",
       "date                                                                         \n",
       "2020-08-31       2907.28074     2179          1073                       0   \n",
       "2020-09-30       2552.66662     2204          2204                       0   \n",
       "2020-10-31       3859.10875     4518          3949                       0   \n",
       "2020-11-30       3308.15471     3424          1088                       0   \n",
       "2020-12-31       3105.52438    10878          6909                       0   \n",
       "\n",
       "            school_holidays  day_of_week  weekend  \n",
       "date                                               \n",
       "2020-08-31                0       362712    38031  \n",
       "2020-09-30                0       340956    31171  \n",
       "2020-10-31                0       380268    35595  \n",
       "2020-11-30                0       366009    36344  \n",
       "2020-12-31                0       364189    32354  "
      ]
     },
     "execution_count": 59,
     "metadata": {},
     "output_type": "execute_result"
    }
   ],
   "source": [
    "resampled_sales_calendar.head()"
   ]
  },
  {
   "cell_type": "code",
   "execution_count": null,
   "metadata": {},
   "outputs": [],
   "source": [
    "#days = {0: 'Monday', 1: 'Tuesday', 2: 'Wednesday', 3: 'Thursday', 4: 'Friday', 5: 'Saturday', 6: 'Sunday'}\n",
    "#daily_sales['day_of_week'] = daily_sales['day_of_week'].map(days)"
   ]
  },
  {
   "cell_type": "code",
   "execution_count": null,
   "metadata": {},
   "outputs": [],
   "source": [
    "# plt.figure(figsize=(12, 8))\n",
    "# sns.barplot(data=daily_sales, x='day_of_week', y='sales', order=['Monday', 'Tuesday','Wednesday','Thursday','Friday', 'Saturday', 'Sunday']).set_title('Sales during days of week - summary')"
   ]
  },
  {
   "cell_type": "code",
   "execution_count": null,
   "metadata": {},
   "outputs": [],
   "source": [
    "prague_1_filter = 'Prague_1'\n",
    "prague_1_df = sales_calendar[sales_calendar['warehouse'] == prague_1_filter]\n",
    "prague_2_filter = 'Prague_2'\n",
    "prague_2_df = sales_calendar[sales_calendar['warehouse'] == prague_2_filter]\n",
    "prague_3_filter = 'Prague_3'\n",
    "prague_3_df = sales_calendar[sales_calendar['warehouse'] == prague_3_filter]\n",
    "brno_1_filter = 'Brno_1'\n",
    "brno_1_df = sales_calendar[sales_calendar['warehouse'] == brno_1_filter]\n",
    "budapest_1_filter = 'Budapest_1'\n",
    "budapest_1_df = sales_calendar[sales_calendar['warehouse'] == budapest_1_filter]\n",
    "munich_1_filter = 'Munich_1'\n",
    "munich_1_df = sales_calendar[sales_calendar['warehouse'] == munich_1_filter]\n",
    "frankfurt_1_filter='Frankfurt_1'\n",
    "frankfurt_1_df= sales_calendar[sales_calendar['warehouse'] == frankfurt_1_filter]"
   ]
  },
  {
   "cell_type": "code",
   "execution_count": null,
   "metadata": {},
   "outputs": [],
   "source": [
    "prague_1_resampled=prague_1_df.resample('1d').sum(numeric_only=True)"
   ]
  },
  {
   "cell_type": "code",
   "execution_count": null,
   "metadata": {},
   "outputs": [
    {
     "data": {
      "text/plain": [
       "Text(0.5, 1.0, 'Prague_1 warehouse daily summary sales over recorded period')"
      ]
     },
     "execution_count": 53,
     "metadata": {},
     "output_type": "execute_result"
    },
    {
     "data": {
      "image/png": "[encoded data removed]",
      "text/plain": [
       "<Figure size 1200x800 with 1 Axes>"
      ]
     },
     "metadata": {},
     "output_type": "display_data"
    }
   ],
   "source": [
    "plt.figure(figsize=(12, 8))\n",
    "sns.lineplot(data=prague_1_resampled, x=prague_1_resampled.index, y='sales').set_title('Prague_1 warehouse daily summary sales over recorded period')"
   ]
  },
  {
   "cell_type": "code",
   "execution_count": null,
   "metadata": {},
   "outputs": [],
   "source": [
    "dateFrom = \"2023-01-01 00:00:00\"\n",
    "dateTo = \"2023-12-31 23:59:00\"\n",
    "prague_1_2023=prague_1_df.loc[dateFrom:dateTo]\n",
    "prague_1_2023_resampled=prague_1_2023.resample('1d').sum(numeric_only=True)"
   ]
  },
  {
   "cell_type": "code",
   "execution_count": null,
   "metadata": {},
   "outputs": [
    {
     "data": {
      "text/plain": [
       "Text(0.5, 1.0, 'Prague_1 warehouse weekly summary sales 2023')"
      ]
     },
     "execution_count": 56,
     "metadata": {},
     "output_type": "execute_result"
    },
    {
     "data": {
      "image/png": "[encoded data removed]",
      "text/plain": [
       "<Figure size 1200x800 with 1 Axes>"
      ]
     },
     "metadata": {},
     "output_type": "display_data"
    }
   ],
   "source": [
    "plt.figure(figsize=(12, 8))\n",
    "sns.lineplot(data=prague_1_2023_resampled, x=prague_1_2023_resampled.index, y='sales').set_title('Prague_1 warehouse daily summary sales 2023')"
   ]
  }
 ],
 "metadata": {
  "kernelspec": {
   "display_name": "base",
   "language": "python",
   "name": "python3"
  },
  "language_info": {
   "codemirror_mode": {
    "name": "ipython",
    "version": 3
   },
   "file_extension": ".py",
   "mimetype": "text/x-python",
   "name": "python",
   "nbconvert_exporter": "python",
   "pygments_lexer": "ipython3",
   "version": "3.11.5"
  }
 },
 "nbformat": 4,
 "nbformat_minor": 2
}
