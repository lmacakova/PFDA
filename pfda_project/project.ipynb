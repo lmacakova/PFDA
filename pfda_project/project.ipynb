{
 "cells": [
  {
   "cell_type": "markdown",
   "metadata": {},
   "source": [
    "# Project"
   ]
  },
  {
   "cell_type": "markdown",
   "metadata": {},
   "source": [
    "### Import Modules"
   ]
  },
  {
   "cell_type": "code",
   "execution_count": 2,
   "metadata": {},
   "outputs": [],
   "source": [
    "import tensorflow as tf\n",
    "import numpy as np\n",
    "import pandas as pd\n",
    "import seaborn as sns\n",
    "import matplotlib.pyplot as plt\n",
    "import matplotlib.dates as mdates\n",
    "from sklearn.model_selection import train_test_split\n",
    "from sklearn.preprocessing import StandardScaler"
   ]
  },
  {
   "cell_type": "markdown",
   "metadata": {},
   "source": [
    "### Loading Datasets"
   ]
  },
  {
   "cell_type": "code",
   "execution_count": 3,
   "metadata": {},
   "outputs": [],
   "source": [
    "FILENAME= \"calendar.csv\"\n",
    "DATADIR = \"../pfda_project/\"\n",
    "\n",
    "calendar_df = pd.read_csv(DATADIR + FILENAME, header=0)"
   ]
  },
  {
   "cell_type": "code",
   "execution_count": 4,
   "metadata": {},
   "outputs": [],
   "source": [
    "FILENAME= \"inventory.csv\"\n",
    "DATADIR = \"../pfda_project/\"\n",
    "\n",
    "inventory_df = pd.read_csv(DATADIR + FILENAME, header=0)"
   ]
  },
  {
   "cell_type": "code",
   "execution_count": 5,
   "metadata": {},
   "outputs": [],
   "source": [
    "FILENAME= \"sales_test.csv\"\n",
    "DATADIR = \"../pfda_project/\"\n",
    "\n",
    "sales_test_df = pd.read_csv(DATADIR + FILENAME, header=0)"
   ]
  },
  {
   "cell_type": "code",
   "execution_count": 6,
   "metadata": {},
   "outputs": [],
   "source": [
    "FILENAME= \"sales_train.csv\"\n",
    "DATADIR = \"../pfda_project/\"\n",
    "\n",
    "sales_train_df = pd.read_csv(DATADIR + FILENAME, low_memory=False)"
   ]
  },
  {
   "cell_type": "code",
   "execution_count": 7,
   "metadata": {},
   "outputs": [],
   "source": [
    "FILENAME= \"solution.csv\"\n",
    "DATADIR = \"../pfda_project/\"\n",
    "\n",
    "solution_df = pd.read_csv(DATADIR + FILENAME)"
   ]
  },
  {
   "cell_type": "code",
   "execution_count": 8,
   "metadata": {},
   "outputs": [],
   "source": [
    "FILENAME= \"test_weights.csv\"\n",
    "DATADIR = \"../pfda_project/\"\n",
    "\n",
    "test_weights_df = pd.read_csv(DATADIR + FILENAME)"
   ]
  },
  {
   "cell_type": "markdown",
   "metadata": {},
   "source": [
    "### Information about datasets"
   ]
  },
  {
   "cell_type": "markdown",
   "metadata": {},
   "source": [
    "##### calendar_df"
   ]
  },
  {
   "cell_type": "code",
   "execution_count": 9,
   "metadata": {},
   "outputs": [
    {
     "data": {
      "text/html": [
       "<div>\n",
       "<style scoped>\n",
       "    .dataframe tbody tr th:only-of-type {\n",
       "        vertical-align: middle;\n",
       "    }\n",
       "\n",
       "    .dataframe tbody tr th {\n",
       "        vertical-align: top;\n",
       "    }\n",
       "\n",
       "    .dataframe thead th {\n",
       "        text-align: right;\n",
       "    }\n",
       "</style>\n",
       "<table border=\"1\" class=\"dataframe\">\n",
       "  <thead>\n",
       "    <tr style=\"text-align: right;\">\n",
       "      <th></th>\n",
       "      <th>date</th>\n",
       "      <th>holiday_name</th>\n",
       "      <th>holiday</th>\n",
       "      <th>shops_closed</th>\n",
       "      <th>winter_school_holidays</th>\n",
       "      <th>school_holidays</th>\n",
       "      <th>warehouse</th>\n",
       "    </tr>\n",
       "  </thead>\n",
       "  <tbody>\n",
       "    <tr>\n",
       "      <th>0</th>\n",
       "      <td>2022-03-16</td>\n",
       "      <td>NaN</td>\n",
       "      <td>0</td>\n",
       "      <td>0</td>\n",
       "      <td>0</td>\n",
       "      <td>0</td>\n",
       "      <td>Frankfurt_1</td>\n",
       "    </tr>\n",
       "    <tr>\n",
       "      <th>1</th>\n",
       "      <td>2020-03-22</td>\n",
       "      <td>NaN</td>\n",
       "      <td>0</td>\n",
       "      <td>0</td>\n",
       "      <td>0</td>\n",
       "      <td>0</td>\n",
       "      <td>Frankfurt_1</td>\n",
       "    </tr>\n",
       "    <tr>\n",
       "      <th>2</th>\n",
       "      <td>2018-02-07</td>\n",
       "      <td>NaN</td>\n",
       "      <td>0</td>\n",
       "      <td>0</td>\n",
       "      <td>0</td>\n",
       "      <td>0</td>\n",
       "      <td>Frankfurt_1</td>\n",
       "    </tr>\n",
       "    <tr>\n",
       "      <th>3</th>\n",
       "      <td>2018-08-10</td>\n",
       "      <td>NaN</td>\n",
       "      <td>0</td>\n",
       "      <td>0</td>\n",
       "      <td>0</td>\n",
       "      <td>0</td>\n",
       "      <td>Frankfurt_1</td>\n",
       "    </tr>\n",
       "    <tr>\n",
       "      <th>4</th>\n",
       "      <td>2017-10-26</td>\n",
       "      <td>NaN</td>\n",
       "      <td>0</td>\n",
       "      <td>0</td>\n",
       "      <td>0</td>\n",
       "      <td>0</td>\n",
       "      <td>Prague_2</td>\n",
       "    </tr>\n",
       "  </tbody>\n",
       "</table>\n",
       "</div>"
      ],
      "text/plain": [
       "         date holiday_name  holiday  shops_closed  winter_school_holidays  \\\n",
       "0  2022-03-16          NaN        0             0                       0   \n",
       "1  2020-03-22          NaN        0             0                       0   \n",
       "2  2018-02-07          NaN        0             0                       0   \n",
       "3  2018-08-10          NaN        0             0                       0   \n",
       "4  2017-10-26          NaN        0             0                       0   \n",
       "\n",
       "   school_holidays    warehouse  \n",
       "0                0  Frankfurt_1  \n",
       "1                0  Frankfurt_1  \n",
       "2                0  Frankfurt_1  \n",
       "3                0  Frankfurt_1  \n",
       "4                0     Prague_2  "
      ]
     },
     "execution_count": 9,
     "metadata": {},
     "output_type": "execute_result"
    }
   ],
   "source": [
    "calendar_df.head()"
   ]
  },
  {
   "cell_type": "code",
   "execution_count": 10,
   "metadata": {},
   "outputs": [
    {
     "name": "stdout",
     "output_type": "stream",
     "text": [
      "<class 'pandas.core.frame.DataFrame'>\n",
      "RangeIndex: 23016 entries, 0 to 23015\n",
      "Data columns (total 7 columns):\n",
      " #   Column                  Non-Null Count  Dtype \n",
      "---  ------                  --------------  ----- \n",
      " 0   date                    23016 non-null  object\n",
      " 1   holiday_name            930 non-null    object\n",
      " 2   holiday                 23016 non-null  int64 \n",
      " 3   shops_closed            23016 non-null  int64 \n",
      " 4   winter_school_holidays  23016 non-null  int64 \n",
      " 5   school_holidays         23016 non-null  int64 \n",
      " 6   warehouse               23016 non-null  object\n",
      "dtypes: int64(4), object(3)\n",
      "memory usage: 1.2+ MB\n"
     ]
    }
   ],
   "source": [
    "calendar_df.info()"
   ]
  },
  {
   "cell_type": "markdown",
   "metadata": {},
   "source": [
    "The earliest date in dataset"
   ]
  },
  {
   "cell_type": "code",
   "execution_count": 11,
   "metadata": {},
   "outputs": [
    {
     "data": {
      "text/plain": [
       "'2016-01-01'"
      ]
     },
     "execution_count": 11,
     "metadata": {},
     "output_type": "execute_result"
    }
   ],
   "source": [
    "calendar_df.date.min()"
   ]
  },
  {
   "cell_type": "markdown",
   "metadata": {},
   "source": [
    "The latest date in dataset"
   ]
  },
  {
   "cell_type": "code",
   "execution_count": 12,
   "metadata": {},
   "outputs": [
    {
     "data": {
      "text/plain": [
       "'2024-12-31'"
      ]
     },
     "execution_count": 12,
     "metadata": {},
     "output_type": "execute_result"
    }
   ],
   "source": [
    "calendar_df.date.max()"
   ]
  },
  {
   "cell_type": "markdown",
   "metadata": {},
   "source": [
    "##### inventory_df"
   ]
  },
  {
   "cell_type": "code",
   "execution_count": 13,
   "metadata": {},
   "outputs": [
    {
     "data": {
      "text/html": [
       "<div>\n",
       "<style scoped>\n",
       "    .dataframe tbody tr th:only-of-type {\n",
       "        vertical-align: middle;\n",
       "    }\n",
       "\n",
       "    .dataframe tbody tr th {\n",
       "        vertical-align: top;\n",
       "    }\n",
       "\n",
       "    .dataframe thead th {\n",
       "        text-align: right;\n",
       "    }\n",
       "</style>\n",
       "<table border=\"1\" class=\"dataframe\">\n",
       "  <thead>\n",
       "    <tr style=\"text-align: right;\">\n",
       "      <th></th>\n",
       "      <th>unique_id</th>\n",
       "      <th>product_unique_id</th>\n",
       "      <th>name</th>\n",
       "      <th>L1_category_name_en</th>\n",
       "      <th>L2_category_name_en</th>\n",
       "      <th>L3_category_name_en</th>\n",
       "      <th>L4_category_name_en</th>\n",
       "      <th>warehouse</th>\n",
       "    </tr>\n",
       "  </thead>\n",
       "  <tbody>\n",
       "    <tr>\n",
       "      <th>0</th>\n",
       "      <td>5255</td>\n",
       "      <td>2583</td>\n",
       "      <td>Pastry_196</td>\n",
       "      <td>Bakery</td>\n",
       "      <td>Bakery_L2_14</td>\n",
       "      <td>Bakery_L3_26</td>\n",
       "      <td>Bakery_L4_1</td>\n",
       "      <td>Prague_3</td>\n",
       "    </tr>\n",
       "    <tr>\n",
       "      <th>1</th>\n",
       "      <td>4948</td>\n",
       "      <td>2426</td>\n",
       "      <td>Herb_19</td>\n",
       "      <td>Fruit and vegetable</td>\n",
       "      <td>Fruit and vegetable_L2_30</td>\n",
       "      <td>Fruit and vegetable_L3_86</td>\n",
       "      <td>Fruit and vegetable_L4_1</td>\n",
       "      <td>Prague_3</td>\n",
       "    </tr>\n",
       "    <tr>\n",
       "      <th>2</th>\n",
       "      <td>2146</td>\n",
       "      <td>1079</td>\n",
       "      <td>Beet_2</td>\n",
       "      <td>Fruit and vegetable</td>\n",
       "      <td>Fruit and vegetable_L2_3</td>\n",
       "      <td>Fruit and vegetable_L3_65</td>\n",
       "      <td>Fruit and vegetable_L4_34</td>\n",
       "      <td>Prague_1</td>\n",
       "    </tr>\n",
       "    <tr>\n",
       "      <th>3</th>\n",
       "      <td>501</td>\n",
       "      <td>260</td>\n",
       "      <td>Chicken_13</td>\n",
       "      <td>Meat and fish</td>\n",
       "      <td>Meat and fish_L2_13</td>\n",
       "      <td>Meat and fish_L3_27</td>\n",
       "      <td>Meat and fish_L4_5</td>\n",
       "      <td>Prague_1</td>\n",
       "    </tr>\n",
       "    <tr>\n",
       "      <th>4</th>\n",
       "      <td>4461</td>\n",
       "      <td>2197</td>\n",
       "      <td>Chicory_1</td>\n",
       "      <td>Fruit and vegetable</td>\n",
       "      <td>Fruit and vegetable_L2_17</td>\n",
       "      <td>Fruit and vegetable_L3_33</td>\n",
       "      <td>Fruit and vegetable_L4_1</td>\n",
       "      <td>Frankfurt_1</td>\n",
       "    </tr>\n",
       "  </tbody>\n",
       "</table>\n",
       "</div>"
      ],
      "text/plain": [
       "   unique_id  product_unique_id        name  L1_category_name_en  \\\n",
       "0       5255               2583  Pastry_196               Bakery   \n",
       "1       4948               2426     Herb_19  Fruit and vegetable   \n",
       "2       2146               1079      Beet_2  Fruit and vegetable   \n",
       "3        501                260  Chicken_13        Meat and fish   \n",
       "4       4461               2197   Chicory_1  Fruit and vegetable   \n",
       "\n",
       "         L2_category_name_en        L3_category_name_en  \\\n",
       "0               Bakery_L2_14               Bakery_L3_26   \n",
       "1  Fruit and vegetable_L2_30  Fruit and vegetable_L3_86   \n",
       "2   Fruit and vegetable_L2_3  Fruit and vegetable_L3_65   \n",
       "3        Meat and fish_L2_13        Meat and fish_L3_27   \n",
       "4  Fruit and vegetable_L2_17  Fruit and vegetable_L3_33   \n",
       "\n",
       "         L4_category_name_en    warehouse  \n",
       "0                Bakery_L4_1     Prague_3  \n",
       "1   Fruit and vegetable_L4_1     Prague_3  \n",
       "2  Fruit and vegetable_L4_34     Prague_1  \n",
       "3         Meat and fish_L4_5     Prague_1  \n",
       "4   Fruit and vegetable_L4_1  Frankfurt_1  "
      ]
     },
     "execution_count": 13,
     "metadata": {},
     "output_type": "execute_result"
    }
   ],
   "source": [
    "inventory_df.head()"
   ]
  },
  {
   "cell_type": "code",
   "execution_count": 14,
   "metadata": {},
   "outputs": [
    {
     "name": "stdout",
     "output_type": "stream",
     "text": [
      "<class 'pandas.core.frame.DataFrame'>\n",
      "RangeIndex: 5432 entries, 0 to 5431\n",
      "Data columns (total 8 columns):\n",
      " #   Column               Non-Null Count  Dtype \n",
      "---  ------               --------------  ----- \n",
      " 0   unique_id            5432 non-null   int64 \n",
      " 1   product_unique_id    5432 non-null   int64 \n",
      " 2   name                 5432 non-null   object\n",
      " 3   L1_category_name_en  5432 non-null   object\n",
      " 4   L2_category_name_en  5432 non-null   object\n",
      " 5   L3_category_name_en  5432 non-null   object\n",
      " 6   L4_category_name_en  5432 non-null   object\n",
      " 7   warehouse            5432 non-null   object\n",
      "dtypes: int64(2), object(6)\n",
      "memory usage: 339.6+ KB\n"
     ]
    }
   ],
   "source": [
    "inventory_df.info()"
   ]
  },
  {
   "cell_type": "markdown",
   "metadata": {},
   "source": [
    "#### sales_test_df"
   ]
  },
  {
   "cell_type": "code",
   "execution_count": 15,
   "metadata": {},
   "outputs": [
    {
     "data": {
      "text/html": [
       "<div>\n",
       "<style scoped>\n",
       "    .dataframe tbody tr th:only-of-type {\n",
       "        vertical-align: middle;\n",
       "    }\n",
       "\n",
       "    .dataframe tbody tr th {\n",
       "        vertical-align: top;\n",
       "    }\n",
       "\n",
       "    .dataframe thead th {\n",
       "        text-align: right;\n",
       "    }\n",
       "</style>\n",
       "<table border=\"1\" class=\"dataframe\">\n",
       "  <thead>\n",
       "    <tr style=\"text-align: right;\">\n",
       "      <th></th>\n",
       "      <th>unique_id</th>\n",
       "      <th>date</th>\n",
       "      <th>warehouse</th>\n",
       "      <th>total_orders</th>\n",
       "      <th>sales</th>\n",
       "      <th>sell_price_main</th>\n",
       "      <th>availability</th>\n",
       "      <th>type_0_discount</th>\n",
       "      <th>type_1_discount</th>\n",
       "      <th>type_2_discount</th>\n",
       "      <th>type_3_discount</th>\n",
       "      <th>type_4_discount</th>\n",
       "      <th>type_5_discount</th>\n",
       "      <th>type_6_discount</th>\n",
       "    </tr>\n",
       "  </thead>\n",
       "  <tbody>\n",
       "    <tr>\n",
       "      <th>0</th>\n",
       "      <td>4845</td>\n",
       "      <td>2024-03-10</td>\n",
       "      <td>Budapest_1</td>\n",
       "      <td>6436.0</td>\n",
       "      <td>16.34</td>\n",
       "      <td>646.26</td>\n",
       "      <td>1.00</td>\n",
       "      <td>0.00000</td>\n",
       "      <td>0.0</td>\n",
       "      <td>0.0</td>\n",
       "      <td>0.0</td>\n",
       "      <td>0.15312</td>\n",
       "      <td>0.0</td>\n",
       "      <td>0.0</td>\n",
       "    </tr>\n",
       "    <tr>\n",
       "      <th>1</th>\n",
       "      <td>4845</td>\n",
       "      <td>2021-05-25</td>\n",
       "      <td>Budapest_1</td>\n",
       "      <td>4663.0</td>\n",
       "      <td>12.63</td>\n",
       "      <td>455.96</td>\n",
       "      <td>1.00</td>\n",
       "      <td>0.00000</td>\n",
       "      <td>0.0</td>\n",
       "      <td>0.0</td>\n",
       "      <td>0.0</td>\n",
       "      <td>0.15025</td>\n",
       "      <td>0.0</td>\n",
       "      <td>0.0</td>\n",
       "    </tr>\n",
       "    <tr>\n",
       "      <th>2</th>\n",
       "      <td>4845</td>\n",
       "      <td>2021-12-20</td>\n",
       "      <td>Budapest_1</td>\n",
       "      <td>6507.0</td>\n",
       "      <td>34.55</td>\n",
       "      <td>455.96</td>\n",
       "      <td>1.00</td>\n",
       "      <td>0.00000</td>\n",
       "      <td>0.0</td>\n",
       "      <td>0.0</td>\n",
       "      <td>0.0</td>\n",
       "      <td>0.15025</td>\n",
       "      <td>0.0</td>\n",
       "      <td>0.0</td>\n",
       "    </tr>\n",
       "    <tr>\n",
       "      <th>3</th>\n",
       "      <td>4845</td>\n",
       "      <td>2023-04-29</td>\n",
       "      <td>Budapest_1</td>\n",
       "      <td>5463.0</td>\n",
       "      <td>34.52</td>\n",
       "      <td>646.26</td>\n",
       "      <td>0.96</td>\n",
       "      <td>0.20024</td>\n",
       "      <td>0.0</td>\n",
       "      <td>0.0</td>\n",
       "      <td>0.0</td>\n",
       "      <td>0.15312</td>\n",
       "      <td>0.0</td>\n",
       "      <td>0.0</td>\n",
       "    </tr>\n",
       "    <tr>\n",
       "      <th>4</th>\n",
       "      <td>4845</td>\n",
       "      <td>2022-04-01</td>\n",
       "      <td>Budapest_1</td>\n",
       "      <td>5997.0</td>\n",
       "      <td>35.92</td>\n",
       "      <td>486.41</td>\n",
       "      <td>1.00</td>\n",
       "      <td>0.00000</td>\n",
       "      <td>0.0</td>\n",
       "      <td>0.0</td>\n",
       "      <td>0.0</td>\n",
       "      <td>0.15649</td>\n",
       "      <td>0.0</td>\n",
       "      <td>0.0</td>\n",
       "    </tr>\n",
       "  </tbody>\n",
       "</table>\n",
       "</div>"
      ],
      "text/plain": [
       "   unique_id        date   warehouse  total_orders  sales  sell_price_main  \\\n",
       "0       4845  2024-03-10  Budapest_1        6436.0  16.34           646.26   \n",
       "1       4845  2021-05-25  Budapest_1        4663.0  12.63           455.96   \n",
       "2       4845  2021-12-20  Budapest_1        6507.0  34.55           455.96   \n",
       "3       4845  2023-04-29  Budapest_1        5463.0  34.52           646.26   \n",
       "4       4845  2022-04-01  Budapest_1        5997.0  35.92           486.41   \n",
       "\n",
       "   availability  type_0_discount  type_1_discount  type_2_discount  \\\n",
       "0          1.00          0.00000              0.0              0.0   \n",
       "1          1.00          0.00000              0.0              0.0   \n",
       "2          1.00          0.00000              0.0              0.0   \n",
       "3          0.96          0.20024              0.0              0.0   \n",
       "4          1.00          0.00000              0.0              0.0   \n",
       "\n",
       "   type_3_discount  type_4_discount  type_5_discount  type_6_discount  \n",
       "0              0.0          0.15312              0.0              0.0  \n",
       "1              0.0          0.15025              0.0              0.0  \n",
       "2              0.0          0.15025              0.0              0.0  \n",
       "3              0.0          0.15312              0.0              0.0  \n",
       "4              0.0          0.15649              0.0              0.0  "
      ]
     },
     "execution_count": 15,
     "metadata": {},
     "output_type": "execute_result"
    }
   ],
   "source": [
    "sales_train_df.head()"
   ]
  },
  {
   "cell_type": "code",
   "execution_count": 16,
   "metadata": {},
   "outputs": [
    {
     "name": "stdout",
     "output_type": "stream",
     "text": [
      "<class 'pandas.core.frame.DataFrame'>\n",
      "RangeIndex: 1048575 entries, 0 to 1048574\n",
      "Data columns (total 14 columns):\n",
      " #   Column           Non-Null Count    Dtype  \n",
      "---  ------           --------------    -----  \n",
      " 0   unique_id        1048575 non-null  int64  \n",
      " 1   date             1048575 non-null  object \n",
      " 2   warehouse        1048575 non-null  object \n",
      " 3   total_orders     1048556 non-null  float64\n",
      " 4   sales            1048556 non-null  float64\n",
      " 5   sell_price_main  1048575 non-null  float64\n",
      " 6   availability     1048575 non-null  float64\n",
      " 7   type_0_discount  1048575 non-null  float64\n",
      " 8   type_1_discount  1048575 non-null  float64\n",
      " 9   type_2_discount  1048575 non-null  float64\n",
      " 10  type_3_discount  1048575 non-null  float64\n",
      " 11  type_4_discount  1048575 non-null  float64\n",
      " 12  type_5_discount  1048575 non-null  float64\n",
      " 13  type_6_discount  1048575 non-null  float64\n",
      "dtypes: float64(11), int64(1), object(2)\n",
      "memory usage: 112.0+ MB\n"
     ]
    }
   ],
   "source": [
    "sales_train_df.info()"
   ]
  },
  {
   "cell_type": "markdown",
   "metadata": {},
   "source": [
    "The earliest date in dataset"
   ]
  },
  {
   "cell_type": "code",
   "execution_count": 17,
   "metadata": {},
   "outputs": [
    {
     "data": {
      "text/plain": [
       "'2020-08-01'"
      ]
     },
     "execution_count": 17,
     "metadata": {},
     "output_type": "execute_result"
    }
   ],
   "source": [
    "sales_train_df.date.min()"
   ]
  },
  {
   "cell_type": "markdown",
   "metadata": {},
   "source": [
    "The latest date in dataset"
   ]
  },
  {
   "cell_type": "code",
   "execution_count": 18,
   "metadata": {},
   "outputs": [
    {
     "data": {
      "text/plain": [
       "'2024-06-02'"
      ]
     },
     "execution_count": 18,
     "metadata": {},
     "output_type": "execute_result"
    }
   ],
   "source": [
    "sales_train_df.date.max()"
   ]
  },
  {
   "cell_type": "markdown",
   "metadata": {},
   "source": [
    "#### sales_test_df"
   ]
  },
  {
   "cell_type": "code",
   "execution_count": 19,
   "metadata": {},
   "outputs": [
    {
     "data": {
      "text/html": [
       "<div>\n",
       "<style scoped>\n",
       "    .dataframe tbody tr th:only-of-type {\n",
       "        vertical-align: middle;\n",
       "    }\n",
       "\n",
       "    .dataframe tbody tr th {\n",
       "        vertical-align: top;\n",
       "    }\n",
       "\n",
       "    .dataframe thead th {\n",
       "        text-align: right;\n",
       "    }\n",
       "</style>\n",
       "<table border=\"1\" class=\"dataframe\">\n",
       "  <thead>\n",
       "    <tr style=\"text-align: right;\">\n",
       "      <th></th>\n",
       "      <th>unique_id</th>\n",
       "      <th>date</th>\n",
       "      <th>warehouse</th>\n",
       "      <th>total_orders</th>\n",
       "      <th>sell_price_main</th>\n",
       "      <th>type_0_discount</th>\n",
       "      <th>type_1_discount</th>\n",
       "      <th>type_2_discount</th>\n",
       "      <th>type_3_discount</th>\n",
       "      <th>type_4_discount</th>\n",
       "      <th>type_5_discount</th>\n",
       "      <th>type_6_discount</th>\n",
       "    </tr>\n",
       "  </thead>\n",
       "  <tbody>\n",
       "    <tr>\n",
       "      <th>0</th>\n",
       "      <td>1226</td>\n",
       "      <td>2024-06-03</td>\n",
       "      <td>Brno_1</td>\n",
       "      <td>8679.0</td>\n",
       "      <td>13.13</td>\n",
       "      <td>0.00000</td>\n",
       "      <td>0.0</td>\n",
       "      <td>0.0</td>\n",
       "      <td>0.0</td>\n",
       "      <td>0.0</td>\n",
       "      <td>0.0</td>\n",
       "      <td>0.0</td>\n",
       "    </tr>\n",
       "    <tr>\n",
       "      <th>1</th>\n",
       "      <td>1226</td>\n",
       "      <td>2024-06-11</td>\n",
       "      <td>Brno_1</td>\n",
       "      <td>8795.0</td>\n",
       "      <td>13.13</td>\n",
       "      <td>0.15873</td>\n",
       "      <td>0.0</td>\n",
       "      <td>0.0</td>\n",
       "      <td>0.0</td>\n",
       "      <td>0.0</td>\n",
       "      <td>0.0</td>\n",
       "      <td>0.0</td>\n",
       "    </tr>\n",
       "    <tr>\n",
       "      <th>2</th>\n",
       "      <td>1226</td>\n",
       "      <td>2024-06-13</td>\n",
       "      <td>Brno_1</td>\n",
       "      <td>10009.0</td>\n",
       "      <td>13.13</td>\n",
       "      <td>0.15873</td>\n",
       "      <td>0.0</td>\n",
       "      <td>0.0</td>\n",
       "      <td>0.0</td>\n",
       "      <td>0.0</td>\n",
       "      <td>0.0</td>\n",
       "      <td>0.0</td>\n",
       "    </tr>\n",
       "    <tr>\n",
       "      <th>3</th>\n",
       "      <td>1226</td>\n",
       "      <td>2024-06-15</td>\n",
       "      <td>Brno_1</td>\n",
       "      <td>8482.0</td>\n",
       "      <td>13.13</td>\n",
       "      <td>0.15873</td>\n",
       "      <td>0.0</td>\n",
       "      <td>0.0</td>\n",
       "      <td>0.0</td>\n",
       "      <td>0.0</td>\n",
       "      <td>0.0</td>\n",
       "      <td>0.0</td>\n",
       "    </tr>\n",
       "    <tr>\n",
       "      <th>4</th>\n",
       "      <td>1226</td>\n",
       "      <td>2024-06-09</td>\n",
       "      <td>Brno_1</td>\n",
       "      <td>8195.0</td>\n",
       "      <td>13.13</td>\n",
       "      <td>0.00000</td>\n",
       "      <td>0.0</td>\n",
       "      <td>0.0</td>\n",
       "      <td>0.0</td>\n",
       "      <td>0.0</td>\n",
       "      <td>0.0</td>\n",
       "      <td>0.0</td>\n",
       "    </tr>\n",
       "    <tr>\n",
       "      <th>5</th>\n",
       "      <td>1226</td>\n",
       "      <td>2024-06-06</td>\n",
       "      <td>Brno_1</td>\n",
       "      <td>9538.0</td>\n",
       "      <td>13.13</td>\n",
       "      <td>0.00000</td>\n",
       "      <td>0.0</td>\n",
       "      <td>0.0</td>\n",
       "      <td>0.0</td>\n",
       "      <td>0.0</td>\n",
       "      <td>0.0</td>\n",
       "      <td>0.0</td>\n",
       "    </tr>\n",
       "    <tr>\n",
       "      <th>6</th>\n",
       "      <td>1226</td>\n",
       "      <td>2024-06-12</td>\n",
       "      <td>Brno_1</td>\n",
       "      <td>9002.0</td>\n",
       "      <td>13.13</td>\n",
       "      <td>0.15873</td>\n",
       "      <td>0.0</td>\n",
       "      <td>0.0</td>\n",
       "      <td>0.0</td>\n",
       "      <td>0.0</td>\n",
       "      <td>0.0</td>\n",
       "      <td>0.0</td>\n",
       "    </tr>\n",
       "    <tr>\n",
       "      <th>7</th>\n",
       "      <td>1226</td>\n",
       "      <td>2024-06-05</td>\n",
       "      <td>Brno_1</td>\n",
       "      <td>8501.0</td>\n",
       "      <td>13.13</td>\n",
       "      <td>0.00000</td>\n",
       "      <td>0.0</td>\n",
       "      <td>0.0</td>\n",
       "      <td>0.0</td>\n",
       "      <td>0.0</td>\n",
       "      <td>0.0</td>\n",
       "      <td>0.0</td>\n",
       "    </tr>\n",
       "    <tr>\n",
       "      <th>8</th>\n",
       "      <td>1226</td>\n",
       "      <td>2024-06-04</td>\n",
       "      <td>Brno_1</td>\n",
       "      <td>8492.0</td>\n",
       "      <td>13.13</td>\n",
       "      <td>0.00000</td>\n",
       "      <td>0.0</td>\n",
       "      <td>0.0</td>\n",
       "      <td>0.0</td>\n",
       "      <td>0.0</td>\n",
       "      <td>0.0</td>\n",
       "      <td>0.0</td>\n",
       "    </tr>\n",
       "    <tr>\n",
       "      <th>9</th>\n",
       "      <td>1226</td>\n",
       "      <td>2024-06-08</td>\n",
       "      <td>Brno_1</td>\n",
       "      <td>8093.0</td>\n",
       "      <td>13.13</td>\n",
       "      <td>0.00000</td>\n",
       "      <td>0.0</td>\n",
       "      <td>0.0</td>\n",
       "      <td>0.0</td>\n",
       "      <td>0.0</td>\n",
       "      <td>0.0</td>\n",
       "      <td>0.0</td>\n",
       "    </tr>\n",
       "    <tr>\n",
       "      <th>10</th>\n",
       "      <td>1226</td>\n",
       "      <td>2024-06-07</td>\n",
       "      <td>Brno_1</td>\n",
       "      <td>10174.0</td>\n",
       "      <td>13.13</td>\n",
       "      <td>0.00000</td>\n",
       "      <td>0.0</td>\n",
       "      <td>0.0</td>\n",
       "      <td>0.0</td>\n",
       "      <td>0.0</td>\n",
       "      <td>0.0</td>\n",
       "      <td>0.0</td>\n",
       "    </tr>\n",
       "    <tr>\n",
       "      <th>11</th>\n",
       "      <td>1226</td>\n",
       "      <td>2024-06-14</td>\n",
       "      <td>Brno_1</td>\n",
       "      <td>10363.0</td>\n",
       "      <td>13.13</td>\n",
       "      <td>0.15873</td>\n",
       "      <td>0.0</td>\n",
       "      <td>0.0</td>\n",
       "      <td>0.0</td>\n",
       "      <td>0.0</td>\n",
       "      <td>0.0</td>\n",
       "      <td>0.0</td>\n",
       "    </tr>\n",
       "    <tr>\n",
       "      <th>12</th>\n",
       "      <td>1226</td>\n",
       "      <td>2024-06-16</td>\n",
       "      <td>Brno_1</td>\n",
       "      <td>8453.0</td>\n",
       "      <td>13.13</td>\n",
       "      <td>0.15873</td>\n",
       "      <td>0.0</td>\n",
       "      <td>0.0</td>\n",
       "      <td>0.0</td>\n",
       "      <td>0.0</td>\n",
       "      <td>0.0</td>\n",
       "      <td>0.0</td>\n",
       "    </tr>\n",
       "    <tr>\n",
       "      <th>13</th>\n",
       "      <td>1226</td>\n",
       "      <td>2024-06-10</td>\n",
       "      <td>Brno_1</td>\n",
       "      <td>9275.0</td>\n",
       "      <td>13.13</td>\n",
       "      <td>0.15873</td>\n",
       "      <td>0.0</td>\n",
       "      <td>0.0</td>\n",
       "      <td>0.0</td>\n",
       "      <td>0.0</td>\n",
       "      <td>0.0</td>\n",
       "      <td>0.0</td>\n",
       "    </tr>\n",
       "    <tr>\n",
       "      <th>14</th>\n",
       "      <td>5409</td>\n",
       "      <td>2024-06-08</td>\n",
       "      <td>Prague_2</td>\n",
       "      <td>5533.0</td>\n",
       "      <td>58.26</td>\n",
       "      <td>0.00000</td>\n",
       "      <td>0.0</td>\n",
       "      <td>0.0</td>\n",
       "      <td>0.0</td>\n",
       "      <td>0.0</td>\n",
       "      <td>0.0</td>\n",
       "      <td>0.0</td>\n",
       "    </tr>\n",
       "  </tbody>\n",
       "</table>\n",
       "</div>"
      ],
      "text/plain": [
       "    unique_id        date warehouse  total_orders  sell_price_main  \\\n",
       "0        1226  2024-06-03    Brno_1        8679.0            13.13   \n",
       "1        1226  2024-06-11    Brno_1        8795.0            13.13   \n",
       "2        1226  2024-06-13    Brno_1       10009.0            13.13   \n",
       "3        1226  2024-06-15    Brno_1        8482.0            13.13   \n",
       "4        1226  2024-06-09    Brno_1        8195.0            13.13   \n",
       "5        1226  2024-06-06    Brno_1        9538.0            13.13   \n",
       "6        1226  2024-06-12    Brno_1        9002.0            13.13   \n",
       "7        1226  2024-06-05    Brno_1        8501.0            13.13   \n",
       "8        1226  2024-06-04    Brno_1        8492.0            13.13   \n",
       "9        1226  2024-06-08    Brno_1        8093.0            13.13   \n",
       "10       1226  2024-06-07    Brno_1       10174.0            13.13   \n",
       "11       1226  2024-06-14    Brno_1       10363.0            13.13   \n",
       "12       1226  2024-06-16    Brno_1        8453.0            13.13   \n",
       "13       1226  2024-06-10    Brno_1        9275.0            13.13   \n",
       "14       5409  2024-06-08  Prague_2        5533.0            58.26   \n",
       "\n",
       "    type_0_discount  type_1_discount  type_2_discount  type_3_discount  \\\n",
       "0           0.00000              0.0              0.0              0.0   \n",
       "1           0.15873              0.0              0.0              0.0   \n",
       "2           0.15873              0.0              0.0              0.0   \n",
       "3           0.15873              0.0              0.0              0.0   \n",
       "4           0.00000              0.0              0.0              0.0   \n",
       "5           0.00000              0.0              0.0              0.0   \n",
       "6           0.15873              0.0              0.0              0.0   \n",
       "7           0.00000              0.0              0.0              0.0   \n",
       "8           0.00000              0.0              0.0              0.0   \n",
       "9           0.00000              0.0              0.0              0.0   \n",
       "10          0.00000              0.0              0.0              0.0   \n",
       "11          0.15873              0.0              0.0              0.0   \n",
       "12          0.15873              0.0              0.0              0.0   \n",
       "13          0.15873              0.0              0.0              0.0   \n",
       "14          0.00000              0.0              0.0              0.0   \n",
       "\n",
       "    type_4_discount  type_5_discount  type_6_discount  \n",
       "0               0.0              0.0              0.0  \n",
       "1               0.0              0.0              0.0  \n",
       "2               0.0              0.0              0.0  \n",
       "3               0.0              0.0              0.0  \n",
       "4               0.0              0.0              0.0  \n",
       "5               0.0              0.0              0.0  \n",
       "6               0.0              0.0              0.0  \n",
       "7               0.0              0.0              0.0  \n",
       "8               0.0              0.0              0.0  \n",
       "9               0.0              0.0              0.0  \n",
       "10              0.0              0.0              0.0  \n",
       "11              0.0              0.0              0.0  \n",
       "12              0.0              0.0              0.0  \n",
       "13              0.0              0.0              0.0  \n",
       "14              0.0              0.0              0.0  "
      ]
     },
     "execution_count": 19,
     "metadata": {},
     "output_type": "execute_result"
    }
   ],
   "source": [
    "sales_test_df.head(15)"
   ]
  },
  {
   "cell_type": "code",
   "execution_count": 20,
   "metadata": {},
   "outputs": [
    {
     "name": "stdout",
     "output_type": "stream",
     "text": [
      "<class 'pandas.core.frame.DataFrame'>\n",
      "RangeIndex: 47021 entries, 0 to 47020\n",
      "Data columns (total 12 columns):\n",
      " #   Column           Non-Null Count  Dtype  \n",
      "---  ------           --------------  -----  \n",
      " 0   unique_id        47021 non-null  int64  \n",
      " 1   date             47021 non-null  object \n",
      " 2   warehouse        47021 non-null  object \n",
      " 3   total_orders     47021 non-null  float64\n",
      " 4   sell_price_main  47021 non-null  float64\n",
      " 5   type_0_discount  47021 non-null  float64\n",
      " 6   type_1_discount  47021 non-null  float64\n",
      " 7   type_2_discount  47021 non-null  float64\n",
      " 8   type_3_discount  47021 non-null  float64\n",
      " 9   type_4_discount  47021 non-null  float64\n",
      " 10  type_5_discount  47021 non-null  float64\n",
      " 11  type_6_discount  47021 non-null  float64\n",
      "dtypes: float64(9), int64(1), object(2)\n",
      "memory usage: 4.3+ MB\n"
     ]
    }
   ],
   "source": [
    "sales_test_df.info()"
   ]
  },
  {
   "cell_type": "markdown",
   "metadata": {},
   "source": [
    "The earliest date in dataset"
   ]
  },
  {
   "cell_type": "code",
   "execution_count": 21,
   "metadata": {},
   "outputs": [
    {
     "data": {
      "text/plain": [
       "'2024-06-03'"
      ]
     },
     "execution_count": 21,
     "metadata": {},
     "output_type": "execute_result"
    }
   ],
   "source": [
    "sales_test_df.date.min()"
   ]
  },
  {
   "cell_type": "markdown",
   "metadata": {},
   "source": [
    "The latest date in dataset"
   ]
  },
  {
   "cell_type": "code",
   "execution_count": 22,
   "metadata": {},
   "outputs": [
    {
     "data": {
      "text/plain": [
       "'2024-06-16'"
      ]
     },
     "execution_count": 22,
     "metadata": {},
     "output_type": "execute_result"
    }
   ],
   "source": [
    "sales_test_df.date.max()"
   ]
  },
  {
   "cell_type": "markdown",
   "metadata": {},
   "source": [
    "#### solution_df"
   ]
  },
  {
   "cell_type": "code",
   "execution_count": 23,
   "metadata": {},
   "outputs": [
    {
     "data": {
      "text/html": [
       "<div>\n",
       "<style scoped>\n",
       "    .dataframe tbody tr th:only-of-type {\n",
       "        vertical-align: middle;\n",
       "    }\n",
       "\n",
       "    .dataframe tbody tr th {\n",
       "        vertical-align: top;\n",
       "    }\n",
       "\n",
       "    .dataframe thead th {\n",
       "        text-align: right;\n",
       "    }\n",
       "</style>\n",
       "<table border=\"1\" class=\"dataframe\">\n",
       "  <thead>\n",
       "    <tr style=\"text-align: right;\">\n",
       "      <th></th>\n",
       "      <th>id</th>\n",
       "      <th>sales_hat</th>\n",
       "    </tr>\n",
       "  </thead>\n",
       "  <tbody>\n",
       "    <tr>\n",
       "      <th>0</th>\n",
       "      <td>1226_2024-06-03</td>\n",
       "      <td>0</td>\n",
       "    </tr>\n",
       "    <tr>\n",
       "      <th>1</th>\n",
       "      <td>1226_2024-06-11</td>\n",
       "      <td>0</td>\n",
       "    </tr>\n",
       "    <tr>\n",
       "      <th>2</th>\n",
       "      <td>1226_2024-06-13</td>\n",
       "      <td>0</td>\n",
       "    </tr>\n",
       "    <tr>\n",
       "      <th>3</th>\n",
       "      <td>1226_2024-06-15</td>\n",
       "      <td>0</td>\n",
       "    </tr>\n",
       "    <tr>\n",
       "      <th>4</th>\n",
       "      <td>1226_2024-06-09</td>\n",
       "      <td>0</td>\n",
       "    </tr>\n",
       "  </tbody>\n",
       "</table>\n",
       "</div>"
      ],
      "text/plain": [
       "                id  sales_hat\n",
       "0  1226_2024-06-03          0\n",
       "1  1226_2024-06-11          0\n",
       "2  1226_2024-06-13          0\n",
       "3  1226_2024-06-15          0\n",
       "4  1226_2024-06-09          0"
      ]
     },
     "execution_count": 23,
     "metadata": {},
     "output_type": "execute_result"
    }
   ],
   "source": [
    "solution_df.head(5)"
   ]
  },
  {
   "cell_type": "code",
   "execution_count": 24,
   "metadata": {},
   "outputs": [
    {
     "name": "stdout",
     "output_type": "stream",
     "text": [
      "<class 'pandas.core.frame.DataFrame'>\n",
      "RangeIndex: 47021 entries, 0 to 47020\n",
      "Data columns (total 2 columns):\n",
      " #   Column     Non-Null Count  Dtype \n",
      "---  ------     --------------  ----- \n",
      " 0   id         47021 non-null  object\n",
      " 1   sales_hat  47021 non-null  int64 \n",
      "dtypes: int64(1), object(1)\n",
      "memory usage: 734.8+ KB\n"
     ]
    }
   ],
   "source": [
    "solution_df.info()"
   ]
  },
  {
   "cell_type": "markdown",
   "metadata": {},
   "source": [
    "#### test_weight_df"
   ]
  },
  {
   "cell_type": "code",
   "execution_count": 25,
   "metadata": {},
   "outputs": [
    {
     "data": {
      "text/html": [
       "<div>\n",
       "<style scoped>\n",
       "    .dataframe tbody tr th:only-of-type {\n",
       "        vertical-align: middle;\n",
       "    }\n",
       "\n",
       "    .dataframe tbody tr th {\n",
       "        vertical-align: top;\n",
       "    }\n",
       "\n",
       "    .dataframe thead th {\n",
       "        text-align: right;\n",
       "    }\n",
       "</style>\n",
       "<table border=\"1\" class=\"dataframe\">\n",
       "  <thead>\n",
       "    <tr style=\"text-align: right;\">\n",
       "      <th></th>\n",
       "      <th>unique_id</th>\n",
       "      <th>weight</th>\n",
       "    </tr>\n",
       "  </thead>\n",
       "  <tbody>\n",
       "    <tr>\n",
       "      <th>0</th>\n",
       "      <td>0</td>\n",
       "      <td>2.535369</td>\n",
       "    </tr>\n",
       "    <tr>\n",
       "      <th>1</th>\n",
       "      <td>1</td>\n",
       "      <td>3.888933</td>\n",
       "    </tr>\n",
       "    <tr>\n",
       "      <th>2</th>\n",
       "      <td>2</td>\n",
       "      <td>5.885237</td>\n",
       "    </tr>\n",
       "    <tr>\n",
       "      <th>3</th>\n",
       "      <td>3</td>\n",
       "      <td>2.139552</td>\n",
       "    </tr>\n",
       "    <tr>\n",
       "      <th>4</th>\n",
       "      <td>5</td>\n",
       "      <td>3.021715</td>\n",
       "    </tr>\n",
       "  </tbody>\n",
       "</table>\n",
       "</div>"
      ],
      "text/plain": [
       "   unique_id    weight\n",
       "0          0  2.535369\n",
       "1          1  3.888933\n",
       "2          2  5.885237\n",
       "3          3  2.139552\n",
       "4          5  3.021715"
      ]
     },
     "execution_count": 25,
     "metadata": {},
     "output_type": "execute_result"
    }
   ],
   "source": [
    "test_weights_df.head(5)"
   ]
  },
  {
   "cell_type": "code",
   "execution_count": 26,
   "metadata": {},
   "outputs": [
    {
     "name": "stdout",
     "output_type": "stream",
     "text": [
      "<class 'pandas.core.frame.DataFrame'>\n",
      "RangeIndex: 5390 entries, 0 to 5389\n",
      "Data columns (total 2 columns):\n",
      " #   Column     Non-Null Count  Dtype  \n",
      "---  ------     --------------  -----  \n",
      " 0   unique_id  5390 non-null   int64  \n",
      " 1   weight     5390 non-null   float64\n",
      "dtypes: float64(1), int64(1)\n",
      "memory usage: 84.3 KB\n"
     ]
    }
   ],
   "source": [
    "test_weights_df.info()"
   ]
  },
  {
   "cell_type": "markdown",
   "metadata": {},
   "source": [
    "### Data preprocessing"
   ]
  },
  {
   "cell_type": "code",
   "execution_count": 27,
   "metadata": {},
   "outputs": [
    {
     "data": {
      "text/plain": [
       "Labour Day                                                     63\n",
       "2nd Christmas Day                                              63\n",
       "1st Christmas Day                                              63\n",
       "International womens day                                       63\n",
       "Christmas Eve                                                  63\n",
       "New Years Day                                                  63\n",
       "Easter Monday                                                  42\n",
       "Good Friday                                                    42\n",
       "Den boje za svobodu a demokracii                               36\n",
       "Den vzniku samostatneho ceskoslovenskeho statu                 36\n",
       "Jan Hus                                                        36\n",
       "Den ceske statnosti                                            36\n",
       "Den osvobozeni                                                 36\n",
       "Cyrila a Metodej                                               36\n",
       "Whit sunday                                                    27\n",
       "Whit monday                                                    27\n",
       "Memorial Day for the Victims of the Holocaust                  18\n",
       "All Saints Day                                                 18\n",
       "Ascension day                                                  18\n",
       "Corpus Christi                                                 18\n",
       "German Unity Day                                               18\n",
       "Memorial Day of the Republic                                    9\n",
       "State Foundation Day                                            9\n",
       "Independent Hungary Day                                         9\n",
       "Memorial Day for the Martyrs of Arad                            9\n",
       "Memorial day of the 1956 Revolution                             9\n",
       "Memorial Day for the Victims of the Communist Dictatorships     9\n",
       "Epiphany                                                        9\n",
       "Assumption of the Virgin Mary                                   9\n",
       "Reformation Day                                                 9\n",
       "National Defense Day                                            8\n",
       "Day of National Unity                                           8\n",
       "Peace Festival in Augsburg                                      6\n",
       "Hungary National Day Holiday                                    2\n",
       "Christmas Holiday                                               1\n",
       "1848 Revolution Memorial Day (Extra holiday)                    1\n",
       "All Saints' Day Holiday                                         1\n",
       "Name: holiday_name, dtype: int64"
      ]
     },
     "execution_count": 27,
     "metadata": {},
     "output_type": "execute_result"
    }
   ],
   "source": [
    "calendar_df['holiday_name'].value_counts()"
   ]
  },
  {
   "cell_type": "markdown",
   "metadata": {},
   "source": [
    "Translation of some czech holidays"
   ]
  },
  {
   "cell_type": "code",
   "execution_count": 28,
   "metadata": {},
   "outputs": [
    {
     "data": {
      "text/plain": [
       "0        NaN\n",
       "1        NaN\n",
       "2        NaN\n",
       "3        NaN\n",
       "4        NaN\n",
       "        ... \n",
       "23011    NaN\n",
       "23012    NaN\n",
       "23013    NaN\n",
       "23014    NaN\n",
       "23015    NaN\n",
       "Name: holiday_name, Length: 23016, dtype: object"
      ]
     },
     "execution_count": 28,
     "metadata": {},
     "output_type": "execute_result"
    }
   ],
   "source": [
    "calendar_df['holiday_name'].replace(to_replace=r'Den boje za svobodu a demokracii', value='Struggle for Freedom and Demokracy Day', regex=False)\n",
    "calendar_df['holiday_name'].replace(to_replace=r'Den vzniku samostatneho ceskoslovenskeho statu', value='Foundation of Independent Czechoslovakia', regex=True)\n",
    "calendar_df['holiday_name'].replace(to_replace=r'Jan Hus', value='Jan Hus Day', regex=False)\n",
    "calendar_df['holiday_name'].replace(to_replace=r'Den ceske statnosti', value='St. Wenceslaus Day', regex=False)\n",
    "calendar_df['holiday_name'].replace(to_replace=r'Den Osvobozeni', value='Victory over Fascism Day', regex=False)\n",
    "calendar_df['holiday_name'].replace(to_replace=r'Cyrila a Metodej', value='St. Cyril and Metodius Day', regex=False)"
   ]
  },
  {
   "cell_type": "code",
   "execution_count": 29,
   "metadata": {},
   "outputs": [
    {
     "data": {
      "text/html": [
       "<div>\n",
       "<style scoped>\n",
       "    .dataframe tbody tr th:only-of-type {\n",
       "        vertical-align: middle;\n",
       "    }\n",
       "\n",
       "    .dataframe tbody tr th {\n",
       "        vertical-align: top;\n",
       "    }\n",
       "\n",
       "    .dataframe thead th {\n",
       "        text-align: right;\n",
       "    }\n",
       "</style>\n",
       "<table border=\"1\" class=\"dataframe\">\n",
       "  <thead>\n",
       "    <tr style=\"text-align: right;\">\n",
       "      <th></th>\n",
       "      <th>date</th>\n",
       "      <th>holiday_name</th>\n",
       "      <th>holiday</th>\n",
       "      <th>shops_closed</th>\n",
       "      <th>winter_school_holidays</th>\n",
       "      <th>school_holidays</th>\n",
       "      <th>warehouse</th>\n",
       "    </tr>\n",
       "  </thead>\n",
       "  <tbody>\n",
       "    <tr>\n",
       "      <th>0</th>\n",
       "      <td>2022-03-16</td>\n",
       "      <td>NaN</td>\n",
       "      <td>0</td>\n",
       "      <td>0</td>\n",
       "      <td>0</td>\n",
       "      <td>0</td>\n",
       "      <td>Frankfurt_1</td>\n",
       "    </tr>\n",
       "    <tr>\n",
       "      <th>1</th>\n",
       "      <td>2020-03-22</td>\n",
       "      <td>NaN</td>\n",
       "      <td>0</td>\n",
       "      <td>0</td>\n",
       "      <td>0</td>\n",
       "      <td>0</td>\n",
       "      <td>Frankfurt_1</td>\n",
       "    </tr>\n",
       "    <tr>\n",
       "      <th>2</th>\n",
       "      <td>2018-02-07</td>\n",
       "      <td>NaN</td>\n",
       "      <td>0</td>\n",
       "      <td>0</td>\n",
       "      <td>0</td>\n",
       "      <td>0</td>\n",
       "      <td>Frankfurt_1</td>\n",
       "    </tr>\n",
       "    <tr>\n",
       "      <th>3</th>\n",
       "      <td>2018-08-10</td>\n",
       "      <td>NaN</td>\n",
       "      <td>0</td>\n",
       "      <td>0</td>\n",
       "      <td>0</td>\n",
       "      <td>0</td>\n",
       "      <td>Frankfurt_1</td>\n",
       "    </tr>\n",
       "    <tr>\n",
       "      <th>4</th>\n",
       "      <td>2017-10-26</td>\n",
       "      <td>NaN</td>\n",
       "      <td>0</td>\n",
       "      <td>0</td>\n",
       "      <td>0</td>\n",
       "      <td>0</td>\n",
       "      <td>Prague_2</td>\n",
       "    </tr>\n",
       "    <tr>\n",
       "      <th>...</th>\n",
       "      <td>...</td>\n",
       "      <td>...</td>\n",
       "      <td>...</td>\n",
       "      <td>...</td>\n",
       "      <td>...</td>\n",
       "      <td>...</td>\n",
       "      <td>...</td>\n",
       "    </tr>\n",
       "    <tr>\n",
       "      <th>23011</th>\n",
       "      <td>2019-04-20</td>\n",
       "      <td>NaN</td>\n",
       "      <td>1</td>\n",
       "      <td>0</td>\n",
       "      <td>0</td>\n",
       "      <td>0</td>\n",
       "      <td>Munich_1</td>\n",
       "    </tr>\n",
       "    <tr>\n",
       "      <th>23012</th>\n",
       "      <td>2018-03-31</td>\n",
       "      <td>NaN</td>\n",
       "      <td>1</td>\n",
       "      <td>0</td>\n",
       "      <td>0</td>\n",
       "      <td>0</td>\n",
       "      <td>Munich_1</td>\n",
       "    </tr>\n",
       "    <tr>\n",
       "      <th>23013</th>\n",
       "      <td>2017-04-15</td>\n",
       "      <td>NaN</td>\n",
       "      <td>1</td>\n",
       "      <td>0</td>\n",
       "      <td>0</td>\n",
       "      <td>0</td>\n",
       "      <td>Munich_1</td>\n",
       "    </tr>\n",
       "    <tr>\n",
       "      <th>23014</th>\n",
       "      <td>2023-04-08</td>\n",
       "      <td>NaN</td>\n",
       "      <td>1</td>\n",
       "      <td>0</td>\n",
       "      <td>0</td>\n",
       "      <td>1</td>\n",
       "      <td>Munich_1</td>\n",
       "    </tr>\n",
       "    <tr>\n",
       "      <th>23015</th>\n",
       "      <td>2024-03-30</td>\n",
       "      <td>NaN</td>\n",
       "      <td>1</td>\n",
       "      <td>0</td>\n",
       "      <td>0</td>\n",
       "      <td>1</td>\n",
       "      <td>Munich_1</td>\n",
       "    </tr>\n",
       "  </tbody>\n",
       "</table>\n",
       "<p>23016 rows × 7 columns</p>\n",
       "</div>"
      ],
      "text/plain": [
       "             date holiday_name  holiday  shops_closed  winter_school_holidays  \\\n",
       "0      2022-03-16          NaN        0             0                       0   \n",
       "1      2020-03-22          NaN        0             0                       0   \n",
       "2      2018-02-07          NaN        0             0                       0   \n",
       "3      2018-08-10          NaN        0             0                       0   \n",
       "4      2017-10-26          NaN        0             0                       0   \n",
       "...           ...          ...      ...           ...                     ...   \n",
       "23011  2019-04-20          NaN        1             0                       0   \n",
       "23012  2018-03-31          NaN        1             0                       0   \n",
       "23013  2017-04-15          NaN        1             0                       0   \n",
       "23014  2023-04-08          NaN        1             0                       0   \n",
       "23015  2024-03-30          NaN        1             0                       0   \n",
       "\n",
       "       school_holidays    warehouse  \n",
       "0                    0  Frankfurt_1  \n",
       "1                    0  Frankfurt_1  \n",
       "2                    0  Frankfurt_1  \n",
       "3                    0  Frankfurt_1  \n",
       "4                    0     Prague_2  \n",
       "...                ...          ...  \n",
       "23011                0     Munich_1  \n",
       "23012                0     Munich_1  \n",
       "23013                0     Munich_1  \n",
       "23014                1     Munich_1  \n",
       "23015                1     Munich_1  \n",
       "\n",
       "[23016 rows x 7 columns]"
      ]
     },
     "execution_count": 29,
     "metadata": {},
     "output_type": "execute_result"
    }
   ],
   "source": [
    "calendar_df.replace({'Den boje za svobodu a demokracii': 10})"
   ]
  },
  {
   "cell_type": "markdown",
   "metadata": {},
   "source": [
    "#### Merging"
   ]
  },
  {
   "cell_type": "code",
   "execution_count": 30,
   "metadata": {},
   "outputs": [],
   "source": [
    "data = sales_train_df.merge(calendar_df, on='date', how='left').merge(inventory_df, on='unique_id', how='left')"
   ]
  },
  {
   "cell_type": "code",
   "execution_count": 31,
   "metadata": {},
   "outputs": [
    {
     "name": "stdout",
     "output_type": "stream",
     "text": [
      "<class 'pandas.core.frame.DataFrame'>\n",
      "Int64Index: 7340025 entries, 0 to 7340024\n",
      "Data columns (total 27 columns):\n",
      " #   Column                  Dtype  \n",
      "---  ------                  -----  \n",
      " 0   unique_id               int64  \n",
      " 1   date                    object \n",
      " 2   warehouse_x             object \n",
      " 3   total_orders            float64\n",
      " 4   sales                   float64\n",
      " 5   sell_price_main         float64\n",
      " 6   availability            float64\n",
      " 7   type_0_discount         float64\n",
      " 8   type_1_discount         float64\n",
      " 9   type_2_discount         float64\n",
      " 10  type_3_discount         float64\n",
      " 11  type_4_discount         float64\n",
      " 12  type_5_discount         float64\n",
      " 13  type_6_discount         float64\n",
      " 14  holiday_name            object \n",
      " 15  holiday                 int64  \n",
      " 16  shops_closed            int64  \n",
      " 17  winter_school_holidays  int64  \n",
      " 18  school_holidays         int64  \n",
      " 19  warehouse_y             object \n",
      " 20  product_unique_id       int64  \n",
      " 21  name                    object \n",
      " 22  L1_category_name_en     object \n",
      " 23  L2_category_name_en     object \n",
      " 24  L3_category_name_en     object \n",
      " 25  L4_category_name_en     object \n",
      " 26  warehouse               object \n",
      "dtypes: float64(11), int64(6), object(10)\n",
      "memory usage: 1.5+ GB\n"
     ]
    }
   ],
   "source": [
    "data.info()"
   ]
  },
  {
   "cell_type": "markdown",
   "metadata": {},
   "source": [
    "Removing redundant columns"
   ]
  },
  {
   "cell_type": "code",
   "execution_count": 32,
   "metadata": {},
   "outputs": [],
   "source": [
    "data=data.drop(columns='warehouse_y')\n",
    "data=data.drop(columns='warehouse_x')"
   ]
  },
  {
   "cell_type": "code",
   "execution_count": 33,
   "metadata": {},
   "outputs": [
    {
     "data": {
      "text/html": [
       "<div>\n",
       "<style scoped>\n",
       "    .dataframe tbody tr th:only-of-type {\n",
       "        vertical-align: middle;\n",
       "    }\n",
       "\n",
       "    .dataframe tbody tr th {\n",
       "        vertical-align: top;\n",
       "    }\n",
       "\n",
       "    .dataframe thead th {\n",
       "        text-align: right;\n",
       "    }\n",
       "</style>\n",
       "<table border=\"1\" class=\"dataframe\">\n",
       "  <thead>\n",
       "    <tr style=\"text-align: right;\">\n",
       "      <th></th>\n",
       "      <th>unique_id</th>\n",
       "      <th>date</th>\n",
       "      <th>total_orders</th>\n",
       "      <th>sales</th>\n",
       "      <th>sell_price_main</th>\n",
       "      <th>availability</th>\n",
       "      <th>type_0_discount</th>\n",
       "      <th>type_1_discount</th>\n",
       "      <th>type_2_discount</th>\n",
       "      <th>type_3_discount</th>\n",
       "      <th>...</th>\n",
       "      <th>shops_closed</th>\n",
       "      <th>winter_school_holidays</th>\n",
       "      <th>school_holidays</th>\n",
       "      <th>product_unique_id</th>\n",
       "      <th>name</th>\n",
       "      <th>L1_category_name_en</th>\n",
       "      <th>L2_category_name_en</th>\n",
       "      <th>L3_category_name_en</th>\n",
       "      <th>L4_category_name_en</th>\n",
       "      <th>warehouse</th>\n",
       "    </tr>\n",
       "  </thead>\n",
       "  <tbody>\n",
       "    <tr>\n",
       "      <th>0</th>\n",
       "      <td>4845</td>\n",
       "      <td>2024-03-10</td>\n",
       "      <td>6436.0</td>\n",
       "      <td>16.34</td>\n",
       "      <td>646.26</td>\n",
       "      <td>1.0</td>\n",
       "      <td>0.0</td>\n",
       "      <td>0.0</td>\n",
       "      <td>0.0</td>\n",
       "      <td>0.0</td>\n",
       "      <td>...</td>\n",
       "      <td>0</td>\n",
       "      <td>0</td>\n",
       "      <td>0</td>\n",
       "      <td>2375</td>\n",
       "      <td>Croissant_35</td>\n",
       "      <td>Bakery</td>\n",
       "      <td>Bakery_L2_18</td>\n",
       "      <td>Bakery_L3_83</td>\n",
       "      <td>Bakery_L4_1</td>\n",
       "      <td>Budapest_1</td>\n",
       "    </tr>\n",
       "    <tr>\n",
       "      <th>1</th>\n",
       "      <td>4845</td>\n",
       "      <td>2024-03-10</td>\n",
       "      <td>6436.0</td>\n",
       "      <td>16.34</td>\n",
       "      <td>646.26</td>\n",
       "      <td>1.0</td>\n",
       "      <td>0.0</td>\n",
       "      <td>0.0</td>\n",
       "      <td>0.0</td>\n",
       "      <td>0.0</td>\n",
       "      <td>...</td>\n",
       "      <td>0</td>\n",
       "      <td>0</td>\n",
       "      <td>0</td>\n",
       "      <td>2375</td>\n",
       "      <td>Croissant_35</td>\n",
       "      <td>Bakery</td>\n",
       "      <td>Bakery_L2_18</td>\n",
       "      <td>Bakery_L3_83</td>\n",
       "      <td>Bakery_L4_1</td>\n",
       "      <td>Budapest_1</td>\n",
       "    </tr>\n",
       "    <tr>\n",
       "      <th>2</th>\n",
       "      <td>4845</td>\n",
       "      <td>2024-03-10</td>\n",
       "      <td>6436.0</td>\n",
       "      <td>16.34</td>\n",
       "      <td>646.26</td>\n",
       "      <td>1.0</td>\n",
       "      <td>0.0</td>\n",
       "      <td>0.0</td>\n",
       "      <td>0.0</td>\n",
       "      <td>0.0</td>\n",
       "      <td>...</td>\n",
       "      <td>0</td>\n",
       "      <td>0</td>\n",
       "      <td>0</td>\n",
       "      <td>2375</td>\n",
       "      <td>Croissant_35</td>\n",
       "      <td>Bakery</td>\n",
       "      <td>Bakery_L2_18</td>\n",
       "      <td>Bakery_L3_83</td>\n",
       "      <td>Bakery_L4_1</td>\n",
       "      <td>Budapest_1</td>\n",
       "    </tr>\n",
       "    <tr>\n",
       "      <th>3</th>\n",
       "      <td>4845</td>\n",
       "      <td>2024-03-10</td>\n",
       "      <td>6436.0</td>\n",
       "      <td>16.34</td>\n",
       "      <td>646.26</td>\n",
       "      <td>1.0</td>\n",
       "      <td>0.0</td>\n",
       "      <td>0.0</td>\n",
       "      <td>0.0</td>\n",
       "      <td>0.0</td>\n",
       "      <td>...</td>\n",
       "      <td>0</td>\n",
       "      <td>0</td>\n",
       "      <td>0</td>\n",
       "      <td>2375</td>\n",
       "      <td>Croissant_35</td>\n",
       "      <td>Bakery</td>\n",
       "      <td>Bakery_L2_18</td>\n",
       "      <td>Bakery_L3_83</td>\n",
       "      <td>Bakery_L4_1</td>\n",
       "      <td>Budapest_1</td>\n",
       "    </tr>\n",
       "    <tr>\n",
       "      <th>4</th>\n",
       "      <td>4845</td>\n",
       "      <td>2024-03-10</td>\n",
       "      <td>6436.0</td>\n",
       "      <td>16.34</td>\n",
       "      <td>646.26</td>\n",
       "      <td>1.0</td>\n",
       "      <td>0.0</td>\n",
       "      <td>0.0</td>\n",
       "      <td>0.0</td>\n",
       "      <td>0.0</td>\n",
       "      <td>...</td>\n",
       "      <td>0</td>\n",
       "      <td>0</td>\n",
       "      <td>0</td>\n",
       "      <td>2375</td>\n",
       "      <td>Croissant_35</td>\n",
       "      <td>Bakery</td>\n",
       "      <td>Bakery_L2_18</td>\n",
       "      <td>Bakery_L3_83</td>\n",
       "      <td>Bakery_L4_1</td>\n",
       "      <td>Budapest_1</td>\n",
       "    </tr>\n",
       "  </tbody>\n",
       "</table>\n",
       "<p>5 rows × 25 columns</p>\n",
       "</div>"
      ],
      "text/plain": [
       "   unique_id        date  total_orders  sales  sell_price_main  availability  \\\n",
       "0       4845  2024-03-10        6436.0  16.34           646.26           1.0   \n",
       "1       4845  2024-03-10        6436.0  16.34           646.26           1.0   \n",
       "2       4845  2024-03-10        6436.0  16.34           646.26           1.0   \n",
       "3       4845  2024-03-10        6436.0  16.34           646.26           1.0   \n",
       "4       4845  2024-03-10        6436.0  16.34           646.26           1.0   \n",
       "\n",
       "   type_0_discount  type_1_discount  type_2_discount  type_3_discount  ...  \\\n",
       "0              0.0              0.0              0.0              0.0  ...   \n",
       "1              0.0              0.0              0.0              0.0  ...   \n",
       "2              0.0              0.0              0.0              0.0  ...   \n",
       "3              0.0              0.0              0.0              0.0  ...   \n",
       "4              0.0              0.0              0.0              0.0  ...   \n",
       "\n",
       "   shops_closed  winter_school_holidays  school_holidays product_unique_id  \\\n",
       "0             0                       0                0              2375   \n",
       "1             0                       0                0              2375   \n",
       "2             0                       0                0              2375   \n",
       "3             0                       0                0              2375   \n",
       "4             0                       0                0              2375   \n",
       "\n",
       "           name  L1_category_name_en  L2_category_name_en  \\\n",
       "0  Croissant_35               Bakery         Bakery_L2_18   \n",
       "1  Croissant_35               Bakery         Bakery_L2_18   \n",
       "2  Croissant_35               Bakery         Bakery_L2_18   \n",
       "3  Croissant_35               Bakery         Bakery_L2_18   \n",
       "4  Croissant_35               Bakery         Bakery_L2_18   \n",
       "\n",
       "   L3_category_name_en  L4_category_name_en   warehouse  \n",
       "0         Bakery_L3_83          Bakery_L4_1  Budapest_1  \n",
       "1         Bakery_L3_83          Bakery_L4_1  Budapest_1  \n",
       "2         Bakery_L3_83          Bakery_L4_1  Budapest_1  \n",
       "3         Bakery_L3_83          Bakery_L4_1  Budapest_1  \n",
       "4         Bakery_L3_83          Bakery_L4_1  Budapest_1  \n",
       "\n",
       "[5 rows x 25 columns]"
      ]
     },
     "execution_count": 33,
     "metadata": {},
     "output_type": "execute_result"
    }
   ],
   "source": [
    "data.head(5)"
   ]
  },
  {
   "cell_type": "markdown",
   "metadata": {},
   "source": [
    "#### Date engineering"
   ]
  },
  {
   "cell_type": "code",
   "execution_count": 34,
   "metadata": {},
   "outputs": [],
   "source": [
    "data['day_of_week'] = pd.to_datetime(data['date']).dt.dayofweek\n",
    "data['weekend'] = data['day_of_week'].isin([5, 6]).astype(int)\n",
    "data['holiday'] = data['holiday'].fillna(0).astype(int)"
   ]
  },
  {
   "cell_type": "code",
   "execution_count": 35,
   "metadata": {},
   "outputs": [],
   "source": [
    "# Rolling\n",
    "data['rolling_mean_7'] = data.groupby('unique_id')['sales'].shift(1).rolling(window=7).mean()"
   ]
  },
  {
   "cell_type": "code",
   "execution_count": 36,
   "metadata": {},
   "outputs": [],
   "source": [
    "#Drop rows with NaN values after featue engineering\n",
    "data_train = data.dropna()"
   ]
  },
  {
   "cell_type": "code",
   "execution_count": 37,
   "metadata": {},
   "outputs": [],
   "source": [
    "for lag in [1, 7, 30]:\n",
    "    data[f'sales_lag_{lag}'] = data.groupby('unique_id')['sales'].shift(lag)"
   ]
  },
  {
   "cell_type": "code",
   "execution_count": 38,
   "metadata": {},
   "outputs": [
    {
     "data": {
      "text/html": [
       "<div>\n",
       "<style scoped>\n",
       "    .dataframe tbody tr th:only-of-type {\n",
       "        vertical-align: middle;\n",
       "    }\n",
       "\n",
       "    .dataframe tbody tr th {\n",
       "        vertical-align: top;\n",
       "    }\n",
       "\n",
       "    .dataframe thead th {\n",
       "        text-align: right;\n",
       "    }\n",
       "</style>\n",
       "<table border=\"1\" class=\"dataframe\">\n",
       "  <thead>\n",
       "    <tr style=\"text-align: right;\">\n",
       "      <th></th>\n",
       "      <th>unique_id</th>\n",
       "      <th>date</th>\n",
       "      <th>total_orders</th>\n",
       "      <th>sales</th>\n",
       "      <th>sell_price_main</th>\n",
       "      <th>availability</th>\n",
       "      <th>type_0_discount</th>\n",
       "      <th>type_1_discount</th>\n",
       "      <th>type_2_discount</th>\n",
       "      <th>type_3_discount</th>\n",
       "      <th>...</th>\n",
       "      <th>product_unique_id</th>\n",
       "      <th>name</th>\n",
       "      <th>L1_category_name_en</th>\n",
       "      <th>L2_category_name_en</th>\n",
       "      <th>L3_category_name_en</th>\n",
       "      <th>L4_category_name_en</th>\n",
       "      <th>warehouse</th>\n",
       "      <th>day_of_week</th>\n",
       "      <th>weekend</th>\n",
       "      <th>rolling_mean_7</th>\n",
       "    </tr>\n",
       "  </thead>\n",
       "  <tbody>\n",
       "    <tr>\n",
       "      <th>77</th>\n",
       "      <td>4845</td>\n",
       "      <td>2020-12-24</td>\n",
       "      <td>2998.0</td>\n",
       "      <td>0.0</td>\n",
       "      <td>494.02</td>\n",
       "      <td>1.0</td>\n",
       "      <td>0.0</td>\n",
       "      <td>0.0</td>\n",
       "      <td>0.0</td>\n",
       "      <td>0.0</td>\n",
       "      <td>...</td>\n",
       "      <td>2375</td>\n",
       "      <td>Croissant_35</td>\n",
       "      <td>Bakery</td>\n",
       "      <td>Bakery_L2_18</td>\n",
       "      <td>Bakery_L3_83</td>\n",
       "      <td>Bakery_L4_1</td>\n",
       "      <td>Budapest_1</td>\n",
       "      <td>3</td>\n",
       "      <td>0</td>\n",
       "      <td>28.720000</td>\n",
       "    </tr>\n",
       "    <tr>\n",
       "      <th>78</th>\n",
       "      <td>4845</td>\n",
       "      <td>2020-12-24</td>\n",
       "      <td>2998.0</td>\n",
       "      <td>0.0</td>\n",
       "      <td>494.02</td>\n",
       "      <td>1.0</td>\n",
       "      <td>0.0</td>\n",
       "      <td>0.0</td>\n",
       "      <td>0.0</td>\n",
       "      <td>0.0</td>\n",
       "      <td>...</td>\n",
       "      <td>2375</td>\n",
       "      <td>Croissant_35</td>\n",
       "      <td>Bakery</td>\n",
       "      <td>Bakery_L2_18</td>\n",
       "      <td>Bakery_L3_83</td>\n",
       "      <td>Bakery_L4_1</td>\n",
       "      <td>Budapest_1</td>\n",
       "      <td>3</td>\n",
       "      <td>0</td>\n",
       "      <td>24.617143</td>\n",
       "    </tr>\n",
       "    <tr>\n",
       "      <th>79</th>\n",
       "      <td>4845</td>\n",
       "      <td>2020-12-24</td>\n",
       "      <td>2998.0</td>\n",
       "      <td>0.0</td>\n",
       "      <td>494.02</td>\n",
       "      <td>1.0</td>\n",
       "      <td>0.0</td>\n",
       "      <td>0.0</td>\n",
       "      <td>0.0</td>\n",
       "      <td>0.0</td>\n",
       "      <td>...</td>\n",
       "      <td>2375</td>\n",
       "      <td>Croissant_35</td>\n",
       "      <td>Bakery</td>\n",
       "      <td>Bakery_L2_18</td>\n",
       "      <td>Bakery_L3_83</td>\n",
       "      <td>Bakery_L4_1</td>\n",
       "      <td>Budapest_1</td>\n",
       "      <td>3</td>\n",
       "      <td>0</td>\n",
       "      <td>20.514286</td>\n",
       "    </tr>\n",
       "    <tr>\n",
       "      <th>80</th>\n",
       "      <td>4845</td>\n",
       "      <td>2020-12-24</td>\n",
       "      <td>2998.0</td>\n",
       "      <td>0.0</td>\n",
       "      <td>494.02</td>\n",
       "      <td>1.0</td>\n",
       "      <td>0.0</td>\n",
       "      <td>0.0</td>\n",
       "      <td>0.0</td>\n",
       "      <td>0.0</td>\n",
       "      <td>...</td>\n",
       "      <td>2375</td>\n",
       "      <td>Croissant_35</td>\n",
       "      <td>Bakery</td>\n",
       "      <td>Bakery_L2_18</td>\n",
       "      <td>Bakery_L3_83</td>\n",
       "      <td>Bakery_L4_1</td>\n",
       "      <td>Budapest_1</td>\n",
       "      <td>3</td>\n",
       "      <td>0</td>\n",
       "      <td>16.411429</td>\n",
       "    </tr>\n",
       "    <tr>\n",
       "      <th>81</th>\n",
       "      <td>4845</td>\n",
       "      <td>2020-12-24</td>\n",
       "      <td>2998.0</td>\n",
       "      <td>0.0</td>\n",
       "      <td>494.02</td>\n",
       "      <td>1.0</td>\n",
       "      <td>0.0</td>\n",
       "      <td>0.0</td>\n",
       "      <td>0.0</td>\n",
       "      <td>0.0</td>\n",
       "      <td>...</td>\n",
       "      <td>2375</td>\n",
       "      <td>Croissant_35</td>\n",
       "      <td>Bakery</td>\n",
       "      <td>Bakery_L2_18</td>\n",
       "      <td>Bakery_L3_83</td>\n",
       "      <td>Bakery_L4_1</td>\n",
       "      <td>Budapest_1</td>\n",
       "      <td>3</td>\n",
       "      <td>0</td>\n",
       "      <td>12.308571</td>\n",
       "    </tr>\n",
       "  </tbody>\n",
       "</table>\n",
       "<p>5 rows × 28 columns</p>\n",
       "</div>"
      ],
      "text/plain": [
       "    unique_id        date  total_orders  sales  sell_price_main  availability  \\\n",
       "77       4845  2020-12-24        2998.0    0.0           494.02           1.0   \n",
       "78       4845  2020-12-24        2998.0    0.0           494.02           1.0   \n",
       "79       4845  2020-12-24        2998.0    0.0           494.02           1.0   \n",
       "80       4845  2020-12-24        2998.0    0.0           494.02           1.0   \n",
       "81       4845  2020-12-24        2998.0    0.0           494.02           1.0   \n",
       "\n",
       "    type_0_discount  type_1_discount  type_2_discount  type_3_discount  ...  \\\n",
       "77              0.0              0.0              0.0              0.0  ...   \n",
       "78              0.0              0.0              0.0              0.0  ...   \n",
       "79              0.0              0.0              0.0              0.0  ...   \n",
       "80              0.0              0.0              0.0              0.0  ...   \n",
       "81              0.0              0.0              0.0              0.0  ...   \n",
       "\n",
       "    product_unique_id          name  L1_category_name_en L2_category_name_en  \\\n",
       "77               2375  Croissant_35               Bakery        Bakery_L2_18   \n",
       "78               2375  Croissant_35               Bakery        Bakery_L2_18   \n",
       "79               2375  Croissant_35               Bakery        Bakery_L2_18   \n",
       "80               2375  Croissant_35               Bakery        Bakery_L2_18   \n",
       "81               2375  Croissant_35               Bakery        Bakery_L2_18   \n",
       "\n",
       "    L3_category_name_en  L4_category_name_en   warehouse  day_of_week  \\\n",
       "77         Bakery_L3_83          Bakery_L4_1  Budapest_1            3   \n",
       "78         Bakery_L3_83          Bakery_L4_1  Budapest_1            3   \n",
       "79         Bakery_L3_83          Bakery_L4_1  Budapest_1            3   \n",
       "80         Bakery_L3_83          Bakery_L4_1  Budapest_1            3   \n",
       "81         Bakery_L3_83          Bakery_L4_1  Budapest_1            3   \n",
       "\n",
       "    weekend rolling_mean_7  \n",
       "77        0      28.720000  \n",
       "78        0      24.617143  \n",
       "79        0      20.514286  \n",
       "80        0      16.411429  \n",
       "81        0      12.308571  \n",
       "\n",
       "[5 rows x 28 columns]"
      ]
     },
     "execution_count": 38,
     "metadata": {},
     "output_type": "execute_result"
    }
   ],
   "source": [
    "data_train.head(5)"
   ]
  },
  {
   "cell_type": "markdown",
   "metadata": {},
   "source": [
    "### Explanatory Data Analysis"
   ]
  },
  {
   "cell_type": "code",
   "execution_count": 39,
   "metadata": {},
   "outputs": [],
   "source": [
    "sales_calendar = sales_train_df.merge(calendar_df, on='date', how='left')\n"
   ]
  },
  {
   "cell_type": "code",
   "execution_count": 40,
   "metadata": {},
   "outputs": [
    {
     "name": "stdout",
     "output_type": "stream",
     "text": [
      "<class 'pandas.core.frame.DataFrame'>\n",
      "Int64Index: 7340025 entries, 0 to 7340024\n",
      "Data columns (total 20 columns):\n",
      " #   Column                  Dtype  \n",
      "---  ------                  -----  \n",
      " 0   unique_id               int64  \n",
      " 1   date                    object \n",
      " 2   warehouse_x             object \n",
      " 3   total_orders            float64\n",
      " 4   sales                   float64\n",
      " 5   sell_price_main         float64\n",
      " 6   availability            float64\n",
      " 7   type_0_discount         float64\n",
      " 8   type_1_discount         float64\n",
      " 9   type_2_discount         float64\n",
      " 10  type_3_discount         float64\n",
      " 11  type_4_discount         float64\n",
      " 12  type_5_discount         float64\n",
      " 13  type_6_discount         float64\n",
      " 14  holiday_name            object \n",
      " 15  holiday                 int64  \n",
      " 16  shops_closed            int64  \n",
      " 17  winter_school_holidays  int64  \n",
      " 18  school_holidays         int64  \n",
      " 19  warehouse_y             object \n",
      "dtypes: float64(11), int64(5), object(4)\n",
      "memory usage: 1.1+ GB\n"
     ]
    }
   ],
   "source": [
    "sales_calendar.info()"
   ]
  },
  {
   "cell_type": "code",
   "execution_count": 41,
   "metadata": {},
   "outputs": [],
   "source": [
    "sales_calendar=sales_calendar.drop(columns='warehouse_y')\n",
    "sales_calendar=sales_calendar.rename(columns={'warehouse_x':\"warehouse\"})"
   ]
  },
  {
   "cell_type": "code",
   "execution_count": 42,
   "metadata": {},
   "outputs": [],
   "source": [
    "# Convert 'date' column to datetime\n",
    "sales_calendar['date'] = pd.to_datetime(sales_calendar['date'])\n",
    "\n",
    "# Add 'year' and 'month' columns\n",
    "sales_calendar['year'] = sales_calendar['date'].dt.year\n",
    "sales_calendar['month'] = sales_calendar['date'].dt.month\n",
    "sales_calendar['day']=sales_calendar['date'].dt.month\n",
    "sales_calendar['day_of_week'] = pd.to_datetime(sales_calendar['date']).dt.dayofweek\n",
    "sales_calendar['weekend'] = sales_calendar['day_of_week'].isin([5, 6]).astype(int)\n",
    "sales_calendar['holiday'] = sales_calendar['holiday'].fillna(0).astype(int)"
   ]
  },
  {
   "cell_type": "code",
   "execution_count": 55,
   "metadata": {},
   "outputs": [
    {
     "data": {
      "text/plain": [
       "4    1059093\n",
       "3    1057455\n",
       "2    1055348\n",
       "5    1049874\n",
       "1    1048873\n",
       "0    1037561\n",
       "6    1031821\n",
       "Name: day_of_week, dtype: int64"
      ]
     },
     "execution_count": 55,
     "metadata": {},
     "output_type": "execute_result"
    }
   ],
   "source": [
    "sales_calendar['day_of_week'].value_counts()"
   ]
  },
  {
   "cell_type": "code",
   "execution_count": 43,
   "metadata": {},
   "outputs": [
    {
     "data": {
      "text/plain": [
       "4    1059093\n",
       "3    1057455\n",
       "2    1055348\n",
       "5    1049874\n",
       "1    1048873\n",
       "0    1037561\n",
       "6    1031821\n",
       "Name: day_of_week, dtype: int64"
      ]
     },
     "execution_count": 43,
     "metadata": {},
     "output_type": "execute_result"
    }
   ],
   "source": [
    "sales_calendar['day_of_week'].value_counts()"
   ]
  },
  {
   "cell_type": "code",
   "execution_count": 44,
   "metadata": {},
   "outputs": [],
   "source": [
    "sales_calendar.set_index('date', inplace=True)\n"
   ]
  },
  {
   "cell_type": "code",
   "execution_count": 48,
   "metadata": {},
   "outputs": [
    {
     "data": {
      "text/plain": [
       "Prague_2       1560384\n",
       "Prague_3       1483349\n",
       "Prague_1       1442028\n",
       "Brno_1         1306032\n",
       "Budapest_1      999068\n",
       "Munich_1        314307\n",
       "Frankfurt_1     234857\n",
       "Name: warehouse, dtype: int64"
      ]
     },
     "execution_count": 48,
     "metadata": {},
     "output_type": "execute_result"
    }
   ],
   "source": [
    "sales_calendar['warehouse'].value_counts()"
   ]
  },
  {
   "cell_type": "code",
   "execution_count": 53,
   "metadata": {},
   "outputs": [],
   "source": [
    "prague_1_df = sales_calendar[sales_calendar['warehouse'] == 'Prague_1']"
   ]
  },
  {
   "cell_type": "code",
   "execution_count": 54,
   "metadata": {},
   "outputs": [
    {
     "name": "stdout",
     "output_type": "stream",
     "text": [
      "<class 'pandas.core.frame.DataFrame'>\n",
      "DatetimeIndex: 1442028 entries, 2022-03-27 to 2022-07-07\n",
      "Data columns (total 23 columns):\n",
      " #   Column                  Non-Null Count    Dtype  \n",
      "---  ------                  --------------    -----  \n",
      " 0   unique_id               1442028 non-null  int64  \n",
      " 1   warehouse               1442028 non-null  object \n",
      " 2   total_orders            1442028 non-null  float64\n",
      " 3   sales                   1442028 non-null  float64\n",
      " 4   sell_price_main         1442028 non-null  float64\n",
      " 5   availability            1442028 non-null  float64\n",
      " 6   type_0_discount         1442028 non-null  float64\n",
      " 7   type_1_discount         1442028 non-null  float64\n",
      " 8   type_2_discount         1442028 non-null  float64\n",
      " 9   type_3_discount         1442028 non-null  float64\n",
      " 10  type_4_discount         1442028 non-null  float64\n",
      " 11  type_5_discount         1442028 non-null  float64\n",
      " 12  type_6_discount         1442028 non-null  float64\n",
      " 13  holiday_name            61159 non-null    object \n",
      " 14  holiday                 1442028 non-null  int32  \n",
      " 15  shops_closed            1442028 non-null  int64  \n",
      " 16  winter_school_holidays  1442028 non-null  int64  \n",
      " 17  school_holidays         1442028 non-null  int64  \n",
      " 18  year                    1442028 non-null  int64  \n",
      " 19  month                   1442028 non-null  int64  \n",
      " 20  day                     1442028 non-null  int64  \n",
      " 21  day_of_week             1442028 non-null  int64  \n",
      " 22  weekend                 1442028 non-null  int32  \n",
      "dtypes: float64(11), int32(2), int64(8), object(2)\n",
      "memory usage: 253.0+ MB\n"
     ]
    }
   ],
   "source": [
    "prague_1_df.info()"
   ]
  },
  {
   "cell_type": "code",
   "execution_count": 61,
   "metadata": {},
   "outputs": [],
   "source": [
    "prague_1_grouped=prague_1_df.groupby(prague_1_df.index).agg({'total_orders':'sum','sales': 'sum','holiday_name': 'first', 'holiday':'first', 'shops_closed':'first', 'winter_school_holidays':'first','school_holidays':'first', 'year':'first', 'month':'first', 'day':'first', 'day_of_week':'first'})"
   ]
  },
  {
   "cell_type": "code",
   "execution_count": 62,
   "metadata": {},
   "outputs": [
    {
     "name": "stdout",
     "output_type": "stream",
     "text": [
      "<class 'pandas.core.frame.DataFrame'>\n",
      "DatetimeIndex: 1402 entries, 2020-08-01 to 2024-06-02\n",
      "Data columns (total 11 columns):\n",
      " #   Column                  Non-Null Count  Dtype  \n",
      "---  ------                  --------------  -----  \n",
      " 0   total_orders            1402 non-null   float64\n",
      " 1   sales                   1402 non-null   float64\n",
      " 2   holiday_name            134 non-null    object \n",
      " 3   holiday                 1402 non-null   int32  \n",
      " 4   shops_closed            1402 non-null   int64  \n",
      " 5   winter_school_holidays  1402 non-null   int64  \n",
      " 6   school_holidays         1402 non-null   int64  \n",
      " 7   year                    1402 non-null   int64  \n",
      " 8   month                   1402 non-null   int64  \n",
      " 9   day                     1402 non-null   int64  \n",
      " 10  day_of_week             1402 non-null   int64  \n",
      "dtypes: float64(2), int32(1), int64(7), object(1)\n",
      "memory usage: 126.0+ KB\n"
     ]
    }
   ],
   "source": [
    "prague_1_grouped.info()"
   ]
  },
  {
   "cell_type": "code",
   "execution_count": 66,
   "metadata": {},
   "outputs": [
    {
     "data": {
      "text/plain": [
       "date\n",
       "2020-08-01    False\n",
       "2020-08-02    False\n",
       "2020-08-03    False\n",
       "2020-08-04    False\n",
       "2020-08-05    False\n",
       "              ...  \n",
       "2024-05-29    False\n",
       "2024-05-30    False\n",
       "2024-05-31    False\n",
       "2024-06-01    False\n",
       "2024-06-02    False\n",
       "Length: 1402, dtype: bool"
      ]
     },
     "execution_count": 66,
     "metadata": {},
     "output_type": "execute_result"
    }
   ],
   "source": [
    "prague_1_grouped.duplicated()"
   ]
  },
  {
   "cell_type": "code",
   "execution_count": 64,
   "metadata": {},
   "outputs": [
    {
     "ename": "ValueError",
     "evalue": "Index contains duplicate entries, cannot reshape",
     "output_type": "error",
     "traceback": [
      "\u001b[1;31m---------------------------------------------------------------------------\u001b[0m",
      "\u001b[1;31mValueError\u001b[0m                                Traceback (most recent call last)",
      "Cell \u001b[1;32mIn[64], line 2\u001b[0m\n\u001b[0;32m      1\u001b[0m \u001b[38;5;66;03m# Pivot the data to have one column per year\u001b[39;00m\n\u001b[1;32m----> 2\u001b[0m pivoted_data \u001b[38;5;241m=\u001b[39m prague_1_grouped\u001b[38;5;241m.\u001b[39mpivot(index\u001b[38;5;241m=\u001b[39m\u001b[38;5;124m'\u001b[39m\u001b[38;5;124mday\u001b[39m\u001b[38;5;124m'\u001b[39m, columns\u001b[38;5;241m=\u001b[39m\u001b[38;5;124m'\u001b[39m\u001b[38;5;124myear\u001b[39m\u001b[38;5;124m'\u001b[39m, values\u001b[38;5;241m=\u001b[39m\u001b[38;5;124m'\u001b[39m\u001b[38;5;124msales\u001b[39m\u001b[38;5;124m'\u001b[39m)\n\u001b[0;32m      4\u001b[0m \u001b[38;5;66;03m# Plot each year's data as a line\u001b[39;00m\n\u001b[0;32m      5\u001b[0m plt\u001b[38;5;241m.\u001b[39mfigure(figsize\u001b[38;5;241m=\u001b[39m(\u001b[38;5;241m10\u001b[39m, \u001b[38;5;241m6\u001b[39m))\n",
      "File \u001b[1;32mc:\\Users\\Lucia\\anaconda3\\Lib\\site-packages\\pandas\\util\\_decorators.py:331\u001b[0m, in \u001b[0;36mdeprecate_nonkeyword_arguments.<locals>.decorate.<locals>.wrapper\u001b[1;34m(*args, **kwargs)\u001b[0m\n\u001b[0;32m    325\u001b[0m \u001b[38;5;28;01mif\u001b[39;00m \u001b[38;5;28mlen\u001b[39m(args) \u001b[38;5;241m>\u001b[39m num_allow_args:\n\u001b[0;32m    326\u001b[0m     warnings\u001b[38;5;241m.\u001b[39mwarn(\n\u001b[0;32m    327\u001b[0m         msg\u001b[38;5;241m.\u001b[39mformat(arguments\u001b[38;5;241m=\u001b[39m_format_argument_list(allow_args)),\n\u001b[0;32m    328\u001b[0m         \u001b[38;5;167;01mFutureWarning\u001b[39;00m,\n\u001b[0;32m    329\u001b[0m         stacklevel\u001b[38;5;241m=\u001b[39mfind_stack_level(),\n\u001b[0;32m    330\u001b[0m     )\n\u001b[1;32m--> 331\u001b[0m \u001b[38;5;28;01mreturn\u001b[39;00m func(\u001b[38;5;241m*\u001b[39margs, \u001b[38;5;241m*\u001b[39m\u001b[38;5;241m*\u001b[39mkwargs)\n",
      "File \u001b[1;32mc:\\Users\\Lucia\\anaconda3\\Lib\\site-packages\\pandas\\core\\frame.py:8567\u001b[0m, in \u001b[0;36mDataFrame.pivot\u001b[1;34m(self, index, columns, values)\u001b[0m\n\u001b[0;32m   8561\u001b[0m \u001b[38;5;129m@Substitution\u001b[39m(\u001b[38;5;124m\"\u001b[39m\u001b[38;5;124m\"\u001b[39m)\n\u001b[0;32m   8562\u001b[0m \u001b[38;5;129m@Appender\u001b[39m(_shared_docs[\u001b[38;5;124m\"\u001b[39m\u001b[38;5;124mpivot\u001b[39m\u001b[38;5;124m\"\u001b[39m])\n\u001b[0;32m   8563\u001b[0m \u001b[38;5;129m@deprecate_nonkeyword_arguments\u001b[39m(version\u001b[38;5;241m=\u001b[39m\u001b[38;5;28;01mNone\u001b[39;00m, allowed_args\u001b[38;5;241m=\u001b[39m[\u001b[38;5;124m\"\u001b[39m\u001b[38;5;124mself\u001b[39m\u001b[38;5;124m\"\u001b[39m])\n\u001b[0;32m   8564\u001b[0m \u001b[38;5;28;01mdef\u001b[39;00m \u001b[38;5;21mpivot\u001b[39m(\u001b[38;5;28mself\u001b[39m, index\u001b[38;5;241m=\u001b[39m\u001b[38;5;28;01mNone\u001b[39;00m, columns\u001b[38;5;241m=\u001b[39m\u001b[38;5;28;01mNone\u001b[39;00m, values\u001b[38;5;241m=\u001b[39m\u001b[38;5;28;01mNone\u001b[39;00m) \u001b[38;5;241m-\u001b[39m\u001b[38;5;241m>\u001b[39m DataFrame:\n\u001b[0;32m   8565\u001b[0m     \u001b[38;5;28;01mfrom\u001b[39;00m \u001b[38;5;21;01mpandas\u001b[39;00m\u001b[38;5;21;01m.\u001b[39;00m\u001b[38;5;21;01mcore\u001b[39;00m\u001b[38;5;21;01m.\u001b[39;00m\u001b[38;5;21;01mreshape\u001b[39;00m\u001b[38;5;21;01m.\u001b[39;00m\u001b[38;5;21;01mpivot\u001b[39;00m \u001b[38;5;28;01mimport\u001b[39;00m pivot\n\u001b[1;32m-> 8567\u001b[0m     \u001b[38;5;28;01mreturn\u001b[39;00m pivot(\u001b[38;5;28mself\u001b[39m, index\u001b[38;5;241m=\u001b[39mindex, columns\u001b[38;5;241m=\u001b[39mcolumns, values\u001b[38;5;241m=\u001b[39mvalues)\n",
      "File \u001b[1;32mc:\\Users\\Lucia\\anaconda3\\Lib\\site-packages\\pandas\\util\\_decorators.py:331\u001b[0m, in \u001b[0;36mdeprecate_nonkeyword_arguments.<locals>.decorate.<locals>.wrapper\u001b[1;34m(*args, **kwargs)\u001b[0m\n\u001b[0;32m    325\u001b[0m \u001b[38;5;28;01mif\u001b[39;00m \u001b[38;5;28mlen\u001b[39m(args) \u001b[38;5;241m>\u001b[39m num_allow_args:\n\u001b[0;32m    326\u001b[0m     warnings\u001b[38;5;241m.\u001b[39mwarn(\n\u001b[0;32m    327\u001b[0m         msg\u001b[38;5;241m.\u001b[39mformat(arguments\u001b[38;5;241m=\u001b[39m_format_argument_list(allow_args)),\n\u001b[0;32m    328\u001b[0m         \u001b[38;5;167;01mFutureWarning\u001b[39;00m,\n\u001b[0;32m    329\u001b[0m         stacklevel\u001b[38;5;241m=\u001b[39mfind_stack_level(),\n\u001b[0;32m    330\u001b[0m     )\n\u001b[1;32m--> 331\u001b[0m \u001b[38;5;28;01mreturn\u001b[39;00m func(\u001b[38;5;241m*\u001b[39margs, \u001b[38;5;241m*\u001b[39m\u001b[38;5;241m*\u001b[39mkwargs)\n",
      "File \u001b[1;32mc:\\Users\\Lucia\\anaconda3\\Lib\\site-packages\\pandas\\core\\reshape\\pivot.py:540\u001b[0m, in \u001b[0;36mpivot\u001b[1;34m(data, index, columns, values)\u001b[0m\n\u001b[0;32m    536\u001b[0m         indexed \u001b[38;5;241m=\u001b[39m data\u001b[38;5;241m.\u001b[39m_constructor_sliced(data[values]\u001b[38;5;241m.\u001b[39m_values, index\u001b[38;5;241m=\u001b[39mmultiindex)\n\u001b[0;32m    537\u001b[0m \u001b[38;5;66;03m# error: Argument 1 to \"unstack\" of \"DataFrame\" has incompatible type \"Union\u001b[39;00m\n\u001b[0;32m    538\u001b[0m \u001b[38;5;66;03m# [List[Any], ExtensionArray, ndarray[Any, Any], Index, Series]\"; expected\u001b[39;00m\n\u001b[0;32m    539\u001b[0m \u001b[38;5;66;03m# \"Hashable\"\u001b[39;00m\n\u001b[1;32m--> 540\u001b[0m \u001b[38;5;28;01mreturn\u001b[39;00m indexed\u001b[38;5;241m.\u001b[39munstack(columns_listlike)\n",
      "File \u001b[1;32mc:\\Users\\Lucia\\anaconda3\\Lib\\site-packages\\pandas\\core\\series.py:4455\u001b[0m, in \u001b[0;36mSeries.unstack\u001b[1;34m(self, level, fill_value)\u001b[0m\n\u001b[0;32m   4412\u001b[0m \u001b[38;5;250m\u001b[39m\u001b[38;5;124;03m\"\"\"\u001b[39;00m\n\u001b[0;32m   4413\u001b[0m \u001b[38;5;124;03mUnstack, also known as pivot, Series with MultiIndex to produce DataFrame.\u001b[39;00m\n\u001b[0;32m   4414\u001b[0m \n\u001b[1;32m   (...)\u001b[0m\n\u001b[0;32m   4451\u001b[0m \u001b[38;5;124;03mb    2    4\u001b[39;00m\n\u001b[0;32m   4452\u001b[0m \u001b[38;5;124;03m\"\"\"\u001b[39;00m\n\u001b[0;32m   4453\u001b[0m \u001b[38;5;28;01mfrom\u001b[39;00m \u001b[38;5;21;01mpandas\u001b[39;00m\u001b[38;5;21;01m.\u001b[39;00m\u001b[38;5;21;01mcore\u001b[39;00m\u001b[38;5;21;01m.\u001b[39;00m\u001b[38;5;21;01mreshape\u001b[39;00m\u001b[38;5;21;01m.\u001b[39;00m\u001b[38;5;21;01mreshape\u001b[39;00m \u001b[38;5;28;01mimport\u001b[39;00m unstack\n\u001b[1;32m-> 4455\u001b[0m \u001b[38;5;28;01mreturn\u001b[39;00m unstack(\u001b[38;5;28mself\u001b[39m, level, fill_value)\n",
      "File \u001b[1;32mc:\\Users\\Lucia\\anaconda3\\Lib\\site-packages\\pandas\\core\\reshape\\reshape.py:489\u001b[0m, in \u001b[0;36munstack\u001b[1;34m(obj, level, fill_value)\u001b[0m\n\u001b[0;32m    487\u001b[0m \u001b[38;5;28;01mif\u001b[39;00m is_1d_only_ea_dtype(obj\u001b[38;5;241m.\u001b[39mdtype):\n\u001b[0;32m    488\u001b[0m     \u001b[38;5;28;01mreturn\u001b[39;00m _unstack_extension_series(obj, level, fill_value)\n\u001b[1;32m--> 489\u001b[0m unstacker \u001b[38;5;241m=\u001b[39m _Unstacker(\n\u001b[0;32m    490\u001b[0m     obj\u001b[38;5;241m.\u001b[39mindex, level\u001b[38;5;241m=\u001b[39mlevel, constructor\u001b[38;5;241m=\u001b[39mobj\u001b[38;5;241m.\u001b[39m_constructor_expanddim\n\u001b[0;32m    491\u001b[0m )\n\u001b[0;32m    492\u001b[0m \u001b[38;5;28;01mreturn\u001b[39;00m unstacker\u001b[38;5;241m.\u001b[39mget_result(\n\u001b[0;32m    493\u001b[0m     obj\u001b[38;5;241m.\u001b[39m_values, value_columns\u001b[38;5;241m=\u001b[39m\u001b[38;5;28;01mNone\u001b[39;00m, fill_value\u001b[38;5;241m=\u001b[39mfill_value\n\u001b[0;32m    494\u001b[0m )\n",
      "File \u001b[1;32mc:\\Users\\Lucia\\anaconda3\\Lib\\site-packages\\pandas\\core\\reshape\\reshape.py:137\u001b[0m, in \u001b[0;36m_Unstacker.__init__\u001b[1;34m(self, index, level, constructor)\u001b[0m\n\u001b[0;32m    129\u001b[0m \u001b[38;5;28;01mif\u001b[39;00m num_cells \u001b[38;5;241m>\u001b[39m np\u001b[38;5;241m.\u001b[39miinfo(np\u001b[38;5;241m.\u001b[39mint32)\u001b[38;5;241m.\u001b[39mmax:\n\u001b[0;32m    130\u001b[0m     warnings\u001b[38;5;241m.\u001b[39mwarn(\n\u001b[0;32m    131\u001b[0m         \u001b[38;5;124mf\u001b[39m\u001b[38;5;124m\"\u001b[39m\u001b[38;5;124mThe following operation may generate \u001b[39m\u001b[38;5;132;01m{\u001b[39;00mnum_cells\u001b[38;5;132;01m}\u001b[39;00m\u001b[38;5;124m cells \u001b[39m\u001b[38;5;124m\"\u001b[39m\n\u001b[0;32m    132\u001b[0m         \u001b[38;5;124mf\u001b[39m\u001b[38;5;124m\"\u001b[39m\u001b[38;5;124min the resulting pandas object.\u001b[39m\u001b[38;5;124m\"\u001b[39m,\n\u001b[0;32m    133\u001b[0m         PerformanceWarning,\n\u001b[0;32m    134\u001b[0m         stacklevel\u001b[38;5;241m=\u001b[39mfind_stack_level(),\n\u001b[0;32m    135\u001b[0m     )\n\u001b[1;32m--> 137\u001b[0m \u001b[38;5;28mself\u001b[39m\u001b[38;5;241m.\u001b[39m_make_selectors()\n",
      "File \u001b[1;32mc:\\Users\\Lucia\\anaconda3\\Lib\\site-packages\\pandas\\core\\reshape\\reshape.py:189\u001b[0m, in \u001b[0;36m_Unstacker._make_selectors\u001b[1;34m(self)\u001b[0m\n\u001b[0;32m    186\u001b[0m mask\u001b[38;5;241m.\u001b[39mput(selector, \u001b[38;5;28;01mTrue\u001b[39;00m)\n\u001b[0;32m    188\u001b[0m \u001b[38;5;28;01mif\u001b[39;00m mask\u001b[38;5;241m.\u001b[39msum() \u001b[38;5;241m<\u001b[39m \u001b[38;5;28mlen\u001b[39m(\u001b[38;5;28mself\u001b[39m\u001b[38;5;241m.\u001b[39mindex):\n\u001b[1;32m--> 189\u001b[0m     \u001b[38;5;28;01mraise\u001b[39;00m \u001b[38;5;167;01mValueError\u001b[39;00m(\u001b[38;5;124m\"\u001b[39m\u001b[38;5;124mIndex contains duplicate entries, cannot reshape\u001b[39m\u001b[38;5;124m\"\u001b[39m)\n\u001b[0;32m    191\u001b[0m \u001b[38;5;28mself\u001b[39m\u001b[38;5;241m.\u001b[39mgroup_index \u001b[38;5;241m=\u001b[39m comp_index\n\u001b[0;32m    192\u001b[0m \u001b[38;5;28mself\u001b[39m\u001b[38;5;241m.\u001b[39mmask \u001b[38;5;241m=\u001b[39m mask\n",
      "\u001b[1;31mValueError\u001b[0m: Index contains duplicate entries, cannot reshape"
     ]
    }
   ],
   "source": [
    "# Pivot the data to have one column per year\n",
    "pivoted_data = prague_1_grouped.pivot(index='day', columns='year', values='sales')\n",
    "\n",
    "# Plot each year's data as a line\n",
    "plt.figure(figsize=(10, 6))\n",
    "for year in pivoted_data.columns:\n",
    "    plt.plot(pivoted_data.index, pivoted_data[year], label=str(year))\n",
    "\n",
    "plt.title(\"Sales Trends by Year\")\n",
    "plt.xlabel(\"Day of Year\")\n",
    "plt.ylabel(\"Sales\")\n",
    "plt.legend(title=\"Year\")\n",
    "plt.grid(True)\n",
    "plt.tight_layout()\n",
    "plt.show()"
   ]
  }
 ],
 "metadata": {
  "kernelspec": {
   "display_name": "base",
   "language": "python",
   "name": "python3"
  },
  "language_info": {
   "codemirror_mode": {
    "name": "ipython",
    "version": 3
   },
   "file_extension": ".py",
   "mimetype": "text/x-python",
   "name": "python",
   "nbconvert_exporter": "python",
   "pygments_lexer": "ipython3",
   "version": "3.11.5"
  }
 },
 "nbformat": 4,
 "nbformat_minor": 2
}
