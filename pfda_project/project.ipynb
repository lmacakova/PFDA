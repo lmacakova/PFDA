{
 "cells": [
  {
   "cell_type": "markdown",
   "metadata": {},
   "source": [
    "# Project"
   ]
  },
  {
   "cell_type": "code",
   "execution_count": 2,
   "metadata": {},
   "outputs": [],
   "source": [
    "import tensorflow as tf\n",
    "import numpy as np\n",
    "import pandas as pd\n",
    "import seaborn as sns"
   ]
  },
  {
   "cell_type": "code",
   "execution_count": 3,
   "metadata": {},
   "outputs": [],
   "source": [
    "FILENAME= \"calendar.csv\"\n",
    "DATADIR = \"../pfda_project/\"\n",
    "\n",
    "calendar_df = pd.read_csv(DATADIR + FILENAME, header=0)"
   ]
  },
  {
   "cell_type": "code",
   "execution_count": 4,
   "metadata": {},
   "outputs": [],
   "source": [
    "FILENAME= \"inventory.csv\"\n",
    "DATADIR = \"../pfda_project/\"\n",
    "\n",
    "inventory_df = pd.read_csv(DATADIR + FILENAME, header=0)"
   ]
  },
  {
   "cell_type": "code",
   "execution_count": 5,
   "metadata": {},
   "outputs": [],
   "source": [
    "FILENAME= \"sales_test.csv\"\n",
    "DATADIR = \"../pfda_project/\"\n",
    "\n",
    "sales_test_df = pd.read_csv(DATADIR + FILENAME, header=0)"
   ]
  },
  {
   "cell_type": "code",
   "execution_count": 6,
   "metadata": {},
   "outputs": [],
   "source": [
    "FILENAME= \"sales_train.csv\"\n",
    "DATADIR = \"../pfda_project/\"\n",
    "\n",
    "sales_train_df = pd.read_csv(DATADIR + FILENAME, header=0)"
   ]
  },
  {
   "cell_type": "code",
   "execution_count": 7,
   "metadata": {},
   "outputs": [],
   "source": [
    "FILENAME= \"solution.csv\"\n",
    "DATADIR = \"../pfda_project/\"\n",
    "\n",
    "solution_df = pd.read_csv(DATADIR + FILENAME, header=0)"
   ]
  },
  {
   "cell_type": "code",
   "execution_count": 8,
   "metadata": {},
   "outputs": [],
   "source": [
    "FILENAME= \"test_weights.csv\"\n",
    "DATADIR = \"../pfda_project/\"\n",
    "\n",
    "test_weights_df = pd.read_csv(DATADIR + FILENAME, header=0)"
   ]
  }
 ],
 "metadata": {
  "kernelspec": {
   "display_name": "base",
   "language": "python",
   "name": "python3"
  },
  "language_info": {
   "codemirror_mode": {
    "name": "ipython",
    "version": 3
   },
   "file_extension": ".py",
   "mimetype": "text/x-python",
   "name": "python",
   "nbconvert_exporter": "python",
   "pygments_lexer": "ipython3",
   "version": "3.11.5"
  }
 },
 "nbformat": 4,
 "nbformat_minor": 2
}
