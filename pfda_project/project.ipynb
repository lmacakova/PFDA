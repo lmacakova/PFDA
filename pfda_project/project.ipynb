{
 "cells": [
  {
   "cell_type": "markdown",
   "metadata": {},
   "source": [
    "# Project"
   ]
  },
  {
   "cell_type": "markdown",
   "metadata": {},
   "source": [
    "### Import Modules"
   ]
  },
  {
   "cell_type": "code",
   "execution_count": 19,
   "metadata": {},
   "outputs": [],
   "source": [
    "import tensorflow as tf\n",
    "import numpy as np\n",
    "import pandas as pd\n",
    "import seaborn as sns\n",
    "from sklearn.model_selection import train_test_split\n",
    "from sklearn.preprocessing import StandardScaler"
   ]
  },
  {
   "cell_type": "markdown",
   "metadata": {},
   "source": [
    "### Loading Datasets"
   ]
  },
  {
   "cell_type": "code",
   "execution_count": 3,
   "metadata": {},
   "outputs": [],
   "source": [
    "FILENAME= \"calendar.csv\"\n",
    "DATADIR = \"../pfda_project/\"\n",
    "\n",
    "calendar_df = pd.read_csv(DATADIR + FILENAME)"
   ]
  },
  {
   "cell_type": "code",
   "execution_count": 4,
   "metadata": {},
   "outputs": [],
   "source": [
    "FILENAME= \"inventory.csv\"\n",
    "DATADIR = \"../pfda_project/\"\n",
    "\n",
    "inventory_df = pd.read_csv(DATADIR + FILENAME, header=0)"
   ]
  },
  {
   "cell_type": "code",
   "execution_count": 5,
   "metadata": {},
   "outputs": [],
   "source": [
    "FILENAME= \"sales_test.csv\"\n",
    "DATADIR = \"../pfda_project/\"\n",
    "\n",
    "sales_test_df = pd.read_csv(DATADIR + FILENAME, header=0)"
   ]
  },
  {
   "cell_type": "code",
   "execution_count": 6,
   "metadata": {},
   "outputs": [],
   "source": [
    "FILENAME= \"sales_train.csv\"\n",
    "DATADIR = \"../pfda_project/\"\n",
    "\n",
    "sales_train_df = pd.read_csv(DATADIR + FILENAME)"
   ]
  },
  {
   "cell_type": "code",
   "execution_count": 7,
   "metadata": {},
   "outputs": [],
   "source": [
    "FILENAME= \"solution.csv\"\n",
    "DATADIR = \"../pfda_project/\"\n",
    "\n",
    "solution_df = pd.read_csv(DATADIR + FILENAME)"
   ]
  },
  {
   "cell_type": "code",
   "execution_count": 8,
   "metadata": {},
   "outputs": [],
   "source": [
    "FILENAME= \"test_weights.csv\"\n",
    "DATADIR = \"../pfda_project/\"\n",
    "\n",
    "test_weights_df = pd.read_csv(DATADIR + FILENAME)"
   ]
  },
  {
   "cell_type": "code",
   "execution_count": null,
   "metadata": {},
   "outputs": [],
   "source": [
    "# Merge Data\n",
    "data = sales_train_df.merge(calendar_df, on='date', how='left').merge(inventory_df, on='unique_id', how='left')"
   ]
  },
  {
   "cell_type": "code",
   "execution_count": 13,
   "metadata": {},
   "outputs": [],
   "source": [
    "# Date engeneering\n",
    "data['day_of_week'] = pd.to_datetime(data['date']).dt.dayofweek\n",
    "data['is_weekend'] = data['day_of_week'].isin([5, 6]).astype(int)\n",
    "data['is_holiday'] = data['holiday'].fillna(0).astype(int)"
   ]
  },
  {
   "cell_type": "code",
   "execution_count": 15,
   "metadata": {},
   "outputs": [],
   "source": [
    "# Create lag features\n",
    "for lag in [1, 7, 30]:\n",
    "    data[f'sales_lag_{lag}'] = data.groupby('unique_id')['sales'].shift(lag)"
   ]
  },
  {
   "cell_type": "code",
   "execution_count": 14,
   "metadata": {},
   "outputs": [],
   "source": [
    "# Rolling\n",
    "data['rolling_mean_7'] = data.groupby('unique_id')['sales'].shift(1).rolling(window=7).mean()"
   ]
  },
  {
   "cell_type": "code",
   "execution_count": 16,
   "metadata": {},
   "outputs": [],
   "source": [
    "# Drop rows with NaN values after feature engineering\n",
    "data = data.dropna()"
   ]
  },
  {
   "cell_type": "code",
   "execution_count": 22,
   "metadata": {},
   "outputs": [
    {
     "data": {
      "text/html": [
       "<div>\n",
       "<style scoped>\n",
       "    .dataframe tbody tr th:only-of-type {\n",
       "        vertical-align: middle;\n",
       "    }\n",
       "\n",
       "    .dataframe tbody tr th {\n",
       "        vertical-align: top;\n",
       "    }\n",
       "\n",
       "    .dataframe thead th {\n",
       "        text-align: right;\n",
       "    }\n",
       "</style>\n",
       "<table border=\"1\" class=\"dataframe\">\n",
       "  <thead>\n",
       "    <tr style=\"text-align: right;\">\n",
       "      <th></th>\n",
       "      <th>unique_id</th>\n",
       "      <th>date</th>\n",
       "      <th>warehouse_x</th>\n",
       "      <th>total_orders</th>\n",
       "      <th>sales</th>\n",
       "      <th>sell_price_main</th>\n",
       "      <th>availability</th>\n",
       "      <th>type_0_discount</th>\n",
       "      <th>type_1_discount</th>\n",
       "      <th>type_2_discount</th>\n",
       "      <th>...</th>\n",
       "      <th>L3_category_name_en</th>\n",
       "      <th>L4_category_name_en</th>\n",
       "      <th>warehouse</th>\n",
       "      <th>day_of_week</th>\n",
       "      <th>is_weekend</th>\n",
       "      <th>is_holiday</th>\n",
       "      <th>rolling_mean_7</th>\n",
       "      <th>sales_lag_1</th>\n",
       "      <th>sales_lag_7</th>\n",
       "      <th>sales_lag_30</th>\n",
       "    </tr>\n",
       "  </thead>\n",
       "  <tbody>\n",
       "    <tr>\n",
       "      <th>77</th>\n",
       "      <td>4845</td>\n",
       "      <td>2020-12-24</td>\n",
       "      <td>Budapest_1</td>\n",
       "      <td>2998.0</td>\n",
       "      <td>0.0</td>\n",
       "      <td>494.02</td>\n",
       "      <td>1.0</td>\n",
       "      <td>0.0</td>\n",
       "      <td>0.0</td>\n",
       "      <td>0.0</td>\n",
       "      <td>...</td>\n",
       "      <td>Bakery_L3_83</td>\n",
       "      <td>Bakery_L4_1</td>\n",
       "      <td>Budapest_1</td>\n",
       "      <td>3</td>\n",
       "      <td>0</td>\n",
       "      <td>1</td>\n",
       "      <td>28.720000</td>\n",
       "      <td>28.72</td>\n",
       "      <td>28.72</td>\n",
       "      <td>6.39</td>\n",
       "    </tr>\n",
       "    <tr>\n",
       "      <th>78</th>\n",
       "      <td>4845</td>\n",
       "      <td>2020-12-24</td>\n",
       "      <td>Budapest_1</td>\n",
       "      <td>2998.0</td>\n",
       "      <td>0.0</td>\n",
       "      <td>494.02</td>\n",
       "      <td>1.0</td>\n",
       "      <td>0.0</td>\n",
       "      <td>0.0</td>\n",
       "      <td>0.0</td>\n",
       "      <td>...</td>\n",
       "      <td>Bakery_L3_83</td>\n",
       "      <td>Bakery_L4_1</td>\n",
       "      <td>Budapest_1</td>\n",
       "      <td>3</td>\n",
       "      <td>0</td>\n",
       "      <td>1</td>\n",
       "      <td>24.617143</td>\n",
       "      <td>0.00</td>\n",
       "      <td>28.72</td>\n",
       "      <td>6.39</td>\n",
       "    </tr>\n",
       "    <tr>\n",
       "      <th>79</th>\n",
       "      <td>4845</td>\n",
       "      <td>2020-12-24</td>\n",
       "      <td>Budapest_1</td>\n",
       "      <td>2998.0</td>\n",
       "      <td>0.0</td>\n",
       "      <td>494.02</td>\n",
       "      <td>1.0</td>\n",
       "      <td>0.0</td>\n",
       "      <td>0.0</td>\n",
       "      <td>0.0</td>\n",
       "      <td>...</td>\n",
       "      <td>Bakery_L3_83</td>\n",
       "      <td>Bakery_L4_1</td>\n",
       "      <td>Budapest_1</td>\n",
       "      <td>3</td>\n",
       "      <td>0</td>\n",
       "      <td>1</td>\n",
       "      <td>20.514286</td>\n",
       "      <td>0.00</td>\n",
       "      <td>28.72</td>\n",
       "      <td>12.04</td>\n",
       "    </tr>\n",
       "    <tr>\n",
       "      <th>80</th>\n",
       "      <td>4845</td>\n",
       "      <td>2020-12-24</td>\n",
       "      <td>Budapest_1</td>\n",
       "      <td>2998.0</td>\n",
       "      <td>0.0</td>\n",
       "      <td>494.02</td>\n",
       "      <td>1.0</td>\n",
       "      <td>0.0</td>\n",
       "      <td>0.0</td>\n",
       "      <td>0.0</td>\n",
       "      <td>...</td>\n",
       "      <td>Bakery_L3_83</td>\n",
       "      <td>Bakery_L4_1</td>\n",
       "      <td>Budapest_1</td>\n",
       "      <td>3</td>\n",
       "      <td>0</td>\n",
       "      <td>1</td>\n",
       "      <td>16.411429</td>\n",
       "      <td>0.00</td>\n",
       "      <td>28.72</td>\n",
       "      <td>12.04</td>\n",
       "    </tr>\n",
       "    <tr>\n",
       "      <th>81</th>\n",
       "      <td>4845</td>\n",
       "      <td>2020-12-24</td>\n",
       "      <td>Budapest_1</td>\n",
       "      <td>2998.0</td>\n",
       "      <td>0.0</td>\n",
       "      <td>494.02</td>\n",
       "      <td>1.0</td>\n",
       "      <td>0.0</td>\n",
       "      <td>0.0</td>\n",
       "      <td>0.0</td>\n",
       "      <td>...</td>\n",
       "      <td>Bakery_L3_83</td>\n",
       "      <td>Bakery_L4_1</td>\n",
       "      <td>Budapest_1</td>\n",
       "      <td>3</td>\n",
       "      <td>0</td>\n",
       "      <td>1</td>\n",
       "      <td>12.308571</td>\n",
       "      <td>0.00</td>\n",
       "      <td>28.72</td>\n",
       "      <td>12.04</td>\n",
       "    </tr>\n",
       "  </tbody>\n",
       "</table>\n",
       "<p>5 rows × 34 columns</p>\n",
       "</div>"
      ],
      "text/plain": [
       "    unique_id        date warehouse_x  total_orders  sales  sell_price_main  \\\n",
       "77       4845  2020-12-24  Budapest_1        2998.0    0.0           494.02   \n",
       "78       4845  2020-12-24  Budapest_1        2998.0    0.0           494.02   \n",
       "79       4845  2020-12-24  Budapest_1        2998.0    0.0           494.02   \n",
       "80       4845  2020-12-24  Budapest_1        2998.0    0.0           494.02   \n",
       "81       4845  2020-12-24  Budapest_1        2998.0    0.0           494.02   \n",
       "\n",
       "    availability  type_0_discount  type_1_discount  type_2_discount  ...  \\\n",
       "77           1.0              0.0              0.0              0.0  ...   \n",
       "78           1.0              0.0              0.0              0.0  ...   \n",
       "79           1.0              0.0              0.0              0.0  ...   \n",
       "80           1.0              0.0              0.0              0.0  ...   \n",
       "81           1.0              0.0              0.0              0.0  ...   \n",
       "\n",
       "    L3_category_name_en  L4_category_name_en   warehouse  day_of_week  \\\n",
       "77         Bakery_L3_83          Bakery_L4_1  Budapest_1            3   \n",
       "78         Bakery_L3_83          Bakery_L4_1  Budapest_1            3   \n",
       "79         Bakery_L3_83          Bakery_L4_1  Budapest_1            3   \n",
       "80         Bakery_L3_83          Bakery_L4_1  Budapest_1            3   \n",
       "81         Bakery_L3_83          Bakery_L4_1  Budapest_1            3   \n",
       "\n",
       "   is_weekend  is_holiday  rolling_mean_7  sales_lag_1  sales_lag_7  \\\n",
       "77          0           1       28.720000        28.72        28.72   \n",
       "78          0           1       24.617143         0.00        28.72   \n",
       "79          0           1       20.514286         0.00        28.72   \n",
       "80          0           1       16.411429         0.00        28.72   \n",
       "81          0           1       12.308571         0.00        28.72   \n",
       "\n",
       "   sales_lag_30  \n",
       "77         6.39  \n",
       "78         6.39  \n",
       "79        12.04  \n",
       "80        12.04  \n",
       "81        12.04  \n",
       "\n",
       "[5 rows x 34 columns]"
      ]
     },
     "execution_count": 22,
     "metadata": {},
     "output_type": "execute_result"
    }
   ],
   "source": [
    "data.head()"
   ]
  },
  {
   "cell_type": "code",
   "execution_count": 23,
   "metadata": {},
   "outputs": [],
   "source": [
    "# Train-Test Split\n",
    "X = data.drop(columns=['sales', 'unique_id', 'date'])\n",
    "y = data['sales']\n",
    "X_train, X_val, y_train, y_val = train_test_split(X, y, test_size=0.2, random_state=42)"
   ]
  }
 ],
 "metadata": {
  "kernelspec": {
   "display_name": "base",
   "language": "python",
   "name": "python3"
  },
  "language_info": {
   "codemirror_mode": {
    "name": "ipython",
    "version": 3
   },
   "file_extension": ".py",
   "mimetype": "text/x-python",
   "name": "python",
   "nbconvert_exporter": "python",
   "pygments_lexer": "ipython3",
   "version": "3.11.5"
  }
 },
 "nbformat": 4,
 "nbformat_minor": 2
}
